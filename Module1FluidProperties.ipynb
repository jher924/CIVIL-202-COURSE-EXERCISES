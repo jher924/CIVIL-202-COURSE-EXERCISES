{
 "cells": [
  {
   "cell_type": "markdown",
   "id": "85fd5bb0",
   "metadata": {
    "slideshow": {
     "slide_type": ""
    },
    "tags": [
     "remove-input"
    ]
   },
   "source": [
    "# Module 1: Fluid properties"
   ]
  },
  {
   "cell_type": "markdown",
   "id": "f5ea640e-f536-4633-8b8f-cc4d589c2f37",
   "metadata": {},
   "source": [
    "The exercises in this module range from lecture 2 to lecture 3."
   ]
  },
  {
   "cell_type": "code",
   "execution_count": 1,
   "id": "b4d7e2b6",
   "metadata": {
    "tags": [
     "remove-input"
    ]
   },
   "outputs": [],
   "source": [
    "!pip install handcalcs -q\n",
    "!pip install Pillow -q\n",
    "!pip install sympy -q"
   ]
  },
  {
   "cell_type": "code",
   "execution_count": 2,
   "id": "cf7d0302",
   "metadata": {
    "scrolled": true,
    "tags": [
     "remove-input"
    ]
   },
   "outputs": [],
   "source": [
    "import handcalcs.render\n",
    "from sympy import symbols, Eq, solve\n",
    "from math import sqrt,pi, cos, sin, radians,asin,atan,degrees, tan, log10\n",
    "from PIL import Image"
   ]
  },
  {
   "cell_type": "markdown",
   "id": "d6080ff8",
   "metadata": {},
   "source": [
    "Global variables:"
   ]
  },
  {
   "cell_type": "code",
   "execution_count": 3,
   "id": "26dd11d4",
   "metadata": {
    "scrolled": true,
    "tags": [
     "remove-input"
    ]
   },
   "outputs": [
    {
     "data": {
      "text/latex": [
       "\\[\n",
       "\\begin{aligned}\n",
       "g &= 9.810 \\; \\;\\textrm{(m/s2)}\n",
       " &\\rho_{water} &= 1000 \\; \\;\\textrm{(kg/m3)}\n",
       " &\\rho_{Hg} &= 13600 \\; \\;\\textrm{(kg/m3)}\n",
       "\\\\[10pt]\n",
       " p_{atm} &= 101325 \\; \\;\\textrm{(Pa)}\n",
       "\\end{aligned}\n",
       "\\]"
      ],
      "text/plain": [
       "<IPython.core.display.Latex object>"
      ]
     },
     "metadata": {},
     "output_type": "display_data"
    }
   ],
   "source": [
    "%%render param \n",
    "\n",
    "g=9.81 #m/s2\n",
    "rho_water=1000 #kg/m3\n",
    "rho_Hg=13600 #kg/m3\n",
    "p_atm=101325 #Pa"
   ]
  },
  {
   "cell_type": "markdown",
   "id": "ff0097e0",
   "metadata": {
    "tags": [
     "remove-input"
    ]
   },
   "source": [
    "## Problems for Lecture 2: Basic\tfluid\tproperties,\tIdeal\tgas\tlaw,\tand\tCompressibility\tof\tliquids\n"
   ]
  },
  {
   "cell_type": "markdown",
   "id": "54c6df8a",
   "metadata": {},
   "source": [
    "### Basic fluid properties"
   ]
  },
  {
   "cell_type": "code",
   "execution_count": 4,
   "id": "e4d32e5d",
   "metadata": {
    "tags": [
     "remove-input"
    ]
   },
   "outputs": [],
   "source": [
    "# Automatically add 'remove-input' tag to all cells\n",
    "\n",
    "#from notebook import notebookapp\n",
    "#from IPython.display import display, Javascript\n",
    "\n",
    "#def add_remove_input_tag():\n",
    "#    display(Javascript('''\n",
    "#        var cells = Jupyter.notebook.get_cells();\n",
    "#        cells.forEach(function(cell) {\n",
    "#            cell.metadata.tags = cell.metadata.tags || [];\n",
    "#            if (cell.metadata.tags.indexOf('remove-input') === -1) {\n",
    "#                cell.metadata.tags.push('remove-input');\n",
    "#            }\n",
    "#        });\n",
    "#        Jupyter.notebook.save_notebook();\n",
    "#    '''))\n",
    "\n",
    "#add_remove_input_tag()\n"
   ]
  },
  {
   "cell_type": "markdown",
   "id": "eb8ff78b",
   "metadata": {},
   "source": [
    "---\n",
    "#### Question 1 (*)"
   ]
  },
  {
   "cell_type": "markdown",
   "id": "a8de7115",
   "metadata": {
    "tags": [
     "remove-input"
    ]
   },
   "source": [
    "\n",
    "If the specific volume of a gas is 0.70 m<sup>3 </sup>/kg, what is its specific weight? \n",
    "\n"
   ]
  },
  {
   "cell_type": "markdown",
   "id": "6f7e0d55",
   "metadata": {
    "hide_input": true,
    "slideshow": {
     "slide_type": ""
    },
    "tags": [
     "remove-input"
    ]
   },
   "source": [
    "**Answer**\n"
   ]
  },
  {
   "cell_type": "markdown",
   "id": "eb6f9e34",
   "metadata": {
    "slideshow": {
     "slide_type": ""
    },
    "tags": []
   },
   "source": [
    "```{toggle}\n",
    "\n",
    "$14.01 \\; N/m^3$\n",
    "```\n"
   ]
  },
  {
   "cell_type": "markdown",
   "id": "5f823c0f",
   "metadata": {
    "tags": [
     "remove-input"
    ]
   },
   "source": [
    "**Given:**\n"
   ]
  },
  {
   "cell_type": "code",
   "execution_count": 5,
   "id": "cfd37e45",
   "metadata": {
    "scrolled": true,
    "slideshow": {
     "slide_type": ""
    },
    "tags": [
     "remove-input"
    ]
   },
   "outputs": [
    {
     "data": {
      "text/latex": [
       "\\[\n",
       "\\begin{aligned}\n",
       "v &= 0.700 \\; \\;\\textrm{(m3/kg)}\n",
       "\\end{aligned}\n",
       "\\]"
      ],
      "text/plain": [
       "<IPython.core.display.Latex object>"
      ]
     },
     "metadata": {},
     "output_type": "display_data"
    }
   ],
   "source": [
    "%%render param\n",
    "v=0.7 #m3/kg"
   ]
  },
  {
   "cell_type": "markdown",
   "id": "ee2c335f-862b-4c4a-9fa1-f919e2be2a1b",
   "metadata": {
    "hide_input": true,
    "slideshow": {
     "slide_type": ""
    },
    "tags": [
     "remove-input"
    ]
   },
   "source": [
    "**Video**\n"
   ]
  },
  {
   "cell_type": "code",
   "execution_count": 6,
   "id": "7016d436",
   "metadata": {
    "run_control": {
     "marked": true
    },
    "scrolled": true,
    "slideshow": {
     "slide_type": ""
    },
    "tags": [
     "remove-input"
    ]
   },
   "outputs": [],
   "source": [
    "#from IPython.display import Video\n",
    "\n",
    "#Video(\"figures/.mp4\", embed=True, width=600, height=400)\n",
    "\n",
    "\n"
   ]
  },
  {
   "cell_type": "markdown",
   "id": "41713dfe",
   "metadata": {
    "slideshow": {
     "slide_type": ""
    },
    "solution": "shown",
    "solution2": "hidden",
    "solution2_first": true,
    "solution_first": true,
    "tags": [
     "remove-input"
    ]
   },
   "source": [
    "**Hint**"
   ]
  },
  {
   "cell_type": "markdown",
   "id": "0f634e08",
   "metadata": {
    "slideshow": {
     "slide_type": ""
    },
    "solution": "shown",
    "tags": [
     "remove-input"
    ]
   },
   "source": [
    "```{toggle}\n",
    "Specific weight ($\\gamma$) is the weight per unit volume and can be calculated as $\\gamma=\\rho \\cdot g$  \n",
    "\n",
    "Density ($\\rho$) can be calculated as the inverse of the specific volume ($v$): $\\rho=\\frac{1}{v}$ \n",
    "\n",
    "We assume gravity on the earth of $g= 9.81 m/s^2$\n",
    "```\n"
   ]
  },
  {
   "cell_type": "markdown",
   "id": "8a1bfeec",
   "metadata": {},
   "source": [
    "---\n",
    "#### Question 2 (*)[R]"
   ]
  },
  {
   "cell_type": "markdown",
   "id": "cae127a9",
   "metadata": {
    "slideshow": {
     "slide_type": ""
    },
    "tags": [
     "remove-input"
    ]
   },
   "source": [
    "---\n",
    "\n",
    "A reservoir of glycerin has a mass of 1200 kg and a volume of 0.952 m<sup>3 </sup>. Find the glycerin’s weight, mass density, specific weight and specific gravity. "
   ]
  },
  {
   "cell_type": "markdown",
   "id": "e550f326-cef9-4848-902d-b9c3c7650839",
   "metadata": {
    "hide_input": true,
    "slideshow": {
     "slide_type": ""
    },
    "tags": [
     "remove-input"
    ]
   },
   "source": [
    "**Answer**\n"
   ]
  },
  {
   "cell_type": "markdown",
   "id": "a100e5d9-7d85-4373-a3a6-99a9010aa1b1",
   "metadata": {
    "slideshow": {
     "slide_type": ""
    },
    "tags": []
   },
   "source": [
    "```{toggle}\n",
    "$11.77 \\; kN \\;; 1261 \\; kg/m^3 \\; ; 12.36 \\; N/m^3 \\; ; 1.26$\n",
    "```"
   ]
  },
  {
   "cell_type": "markdown",
   "id": "1bd1a81d",
   "metadata": {
    "slideshow": {
     "slide_type": ""
    },
    "solution": "shown",
    "tags": [
     "remove-input"
    ]
   },
   "source": [
    "**Given:**"
   ]
  },
  {
   "cell_type": "code",
   "execution_count": 7,
   "id": "4982ce22",
   "metadata": {
    "scrolled": true,
    "slideshow": {
     "slide_type": ""
    },
    "tags": [
     "remove-input"
    ]
   },
   "outputs": [
    {
     "data": {
      "text/latex": [
       "\\[\n",
       "\\begin{aligned}\n",
       "m &= 1200 \\; \\;\\textrm{(kg)}\n",
       " &\\mathrm{Vol} &= 0.952 \\; \\;\\textrm{(m3)}\n",
       "\\end{aligned}\n",
       "\\]"
      ],
      "text/plain": [
       "<IPython.core.display.Latex object>"
      ]
     },
     "metadata": {},
     "output_type": "display_data"
    }
   ],
   "source": [
    "%%render \n",
    "#parameter\n",
    "m=1200 #kg\n",
    "Vol=0.952 #m3\n",
    "\n"
   ]
  },
  {
   "cell_type": "markdown",
   "id": "71fb146f-eefe-47e7-a5b6-f40f677cc39d",
   "metadata": {
    "hide_input": true,
    "slideshow": {
     "slide_type": ""
    },
    "tags": [
     "remove-input"
    ]
   },
   "source": [
    "**Video**\n"
   ]
  },
  {
   "cell_type": "markdown",
   "id": "0ac9a925",
   "metadata": {
    "slideshow": {
     "slide_type": ""
    },
    "tags": []
   },
   "source": [
    "**Hint**"
   ]
  },
  {
   "cell_type": "markdown",
   "id": "cf8ab5e3",
   "metadata": {
    "slideshow": {
     "slide_type": ""
    },
    "tags": [
     "remove-input",
     "hide-cell"
    ]
   },
   "source": [
    "```{toggle}\n",
    "The weight is: $W=  m \\cdot g$\n",
    "\n",
    "The mass density ($\\rho$) is found by dividing the mass by the volume: $\\rho=\\frac{m}{Vol}$ \n",
    "\n",
    "The Specific weight ($\\gamma$) is the weight per unit volume and can be calculated as $\\gamma=\\rho \\cdot g$  \n",
    "\n",
    "The specific gravity ($s$) is the ratio of the fluid’s density to the density of water: $s= \\frac {\\rho_{fluid}}{\\rho_{water}}$\n",
    "```\n"
   ]
  },
  {
   "cell_type": "markdown",
   "id": "38d5a07c",
   "metadata": {
    "slideshow": {
     "slide_type": ""
    },
    "tags": []
   },
   "source": [
    "**Solution**"
   ]
  },
  {
   "cell_type": "code",
   "execution_count": 8,
   "id": "53099f7c",
   "metadata": {
    "scrolled": true,
    "slideshow": {
     "slide_type": ""
    },
    "tags": [
     "remove-input",
     "hide-output"
    ]
   },
   "outputs": [
    {
     "data": {
      "text/latex": [
       "\\[\n",
       "\\begin{aligned}\n",
       "W &= m \\cdot g \\\\&= 1200 \\cdot 9.81 \\\\&= 11772.00 \\; \\;\\textrm{(N)}\\\\[10pt]\n",
       "\\\\[10pt]\n",
       "\\rho_{glycerin} &= \\frac{ m }{ \\mathrm{Vol} } \\\\&= \\frac{ 1200 }{ 0.95 } \\\\&= 1260.50 \\; \\;\\textrm{(kg/m3)}\\\\[10pt]\n",
       "\\\\[10pt]\n",
       "\\gamma_{glycerin} &= \\rho_{glycerin} \\cdot g \\\\&= 1260.50 \\cdot 9.81 \\\\&= 12365.55 \\; \\;\\textrm{(N/m3)}\\\\[10pt]\n",
       "\\\\[10pt]\n",
       "s_{glycerin} &= \\frac{ \\rho_{glycerin} }{ \\rho_{water} } \\\\&= \\frac{ 1260.50 }{ 1000 } \\\\&= 1.26  \\\\[10pt]\n",
       "\\end{aligned}\n",
       "\\]"
      ],
      "text/plain": [
       "<IPython.core.display.Latex object>"
      ]
     },
     "metadata": {},
     "output_type": "display_data"
    }
   ],
   "source": [
    "%%render 2\n",
    "#long\n",
    "W= m*g #N\n",
    "rho_glycerin= m/Vol #kg/m3\n",
    "gamma_glycerin= rho_glycerin*g #N/m3\n",
    "s_glycerin= rho_glycerin/rho_water "
   ]
  },
  {
   "cell_type": "markdown",
   "id": "da1a6ebc",
   "metadata": {},
   "source": [
    "---\n",
    "#### Question 3 (*)"
   ]
  },
  {
   "cell_type": "markdown",
   "id": "50a55ad0",
   "metadata": {
    "slideshow": {
     "slide_type": ""
    },
    "tags": [
     "remove-input"
    ]
   },
   "source": [
    "The volume of a rock is found to be 0.00015 m<sup>3</sup>. If the rock’s specific gravity is 2.60, what is its weight?"
   ]
  },
  {
   "cell_type": "markdown",
   "id": "65265377-7439-4666-bbc4-53f56f510fcd",
   "metadata": {
    "hide_input": true,
    "slideshow": {
     "slide_type": ""
    },
    "tags": [
     "remove-input"
    ]
   },
   "source": [
    "**Answer**\n"
   ]
  },
  {
   "cell_type": "markdown",
   "id": "265f0e03-2d3c-471c-80e7-3ebe78791bb8",
   "metadata": {
    "slideshow": {
     "slide_type": ""
    },
    "tags": []
   },
   "source": [
    "```{toggle}\n",
    "$3.83 \\; N$\n",
    "```"
   ]
  },
  {
   "cell_type": "markdown",
   "id": "71bdf7ba",
   "metadata": {
    "slideshow": {
     "slide_type": ""
    },
    "tags": [
     "remove-input"
    ]
   },
   "source": [
    "**Given:**"
   ]
  },
  {
   "cell_type": "code",
   "execution_count": 9,
   "id": "1368e99a",
   "metadata": {
    "scrolled": true,
    "slideshow": {
     "slide_type": ""
    },
    "tags": [
     "remove-input"
    ]
   },
   "outputs": [
    {
     "data": {
      "text/latex": [
       "\\[\n",
       "\\begin{aligned}\n",
       "\\mathrm{Vol} &= 0.00015 \\; \\;\\textrm{(m3)}\n",
       " &s &= 2.60000 \\;\n",
       "\\end{aligned}\n",
       "\\]"
      ],
      "text/plain": [
       "<IPython.core.display.Latex object>"
      ]
     },
     "metadata": {},
     "output_type": "display_data"
    }
   ],
   "source": [
    "%%render param 5\n",
    "Vol=0.00015 #m3\n",
    "s=2.6\n"
   ]
  },
  {
   "cell_type": "markdown",
   "id": "f062c4d2",
   "metadata": {},
   "source": [
    "**Hint**"
   ]
  },
  {
   "cell_type": "markdown",
   "id": "8950bf58-5b39-41b3-9fd6-2d3e60e9fa1c",
   "metadata": {},
   "source": [
    "```{toggle}\n",
    "The weight of the rock can be calculated using the equation:\n",
    "\n",
    "$W = \\rho \\cdot g \\cdot Vol$\n",
    "\n",
    "where: \n",
    "\n",
    "- $Vol$ (volume) is provided in the exercise,  \n",
    "- $g$ (gravity) is that of Earth,  \n",
    "- $\\rho$ (density) is the only missing component.  \n",
    "\n",
    "Since the specific gravity of the rock is given, the density can be determined using the equation:\n",
    "\n",
    "$\\rho = \\rho_{{water}} \\cdot s$\n",
    "\n",
    "where $s$ is the specific gravity. \n",
    "```"
   ]
  },
  {
   "cell_type": "markdown",
   "id": "6d140dbf",
   "metadata": {
    "slideshow": {
     "slide_type": ""
    },
    "tags": []
   },
   "source": [
    "---\n",
    "#### Question 4 (*)"
   ]
  },
  {
   "cell_type": "markdown",
   "id": "31ca2a94",
   "metadata": {
    "slideshow": {
     "slide_type": ""
    },
    "tags": [
     "remove-input"
    ]
   },
   "source": [
    "A certain gas weighs 16.0 N/m<sup>3 </sup> at a certain temperature and pressure. What are the values of its density, specific volume, and specific gravity relative to air weighing 12.0 N/m<sup>3 </sup>?"
   ]
  },
  {
   "cell_type": "markdown",
   "id": "17cd48d9-4ee1-4e0a-9a21-cc791f703f10",
   "metadata": {
    "hide_input": true,
    "slideshow": {
     "slide_type": ""
    },
    "tags": [
     "remove-input"
    ]
   },
   "source": [
    "**Answer**\n"
   ]
  },
  {
   "cell_type": "markdown",
   "id": "cb90eb7f-6c0a-4cea-a8d0-119440899503",
   "metadata": {
    "slideshow": {
     "slide_type": ""
    },
    "tags": []
   },
   "source": [
    "```{toggle}\n",
    " $1.63 \\; kg/ mm^3 \\; ; 0.61 \\; mm^3/kg \\; ; 1.33$\n",
    " ```"
   ]
  },
  {
   "cell_type": "markdown",
   "id": "080d827a",
   "metadata": {
    "slideshow": {
     "slide_type": ""
    },
    "tags": [
     "remove-input"
    ]
   },
   "source": [
    "**Given:**\n"
   ]
  },
  {
   "cell_type": "code",
   "execution_count": 10,
   "id": "8da3cdbf",
   "metadata": {
    "scrolled": true,
    "slideshow": {
     "slide_type": ""
    },
    "tags": [
     "remove-input"
    ]
   },
   "outputs": [
    {
     "data": {
      "text/latex": [
       "\\[\n",
       "\\begin{aligned}\n",
       "\\gamma_{gas} &= 16 \\; \\;\\textrm{(N/m3)}\n",
       " &\\gamma_{air} &= 12 \\; \\;\\textrm{(N/m3)}\n",
       "\\end{aligned}\n",
       "\\]"
      ],
      "text/plain": [
       "<IPython.core.display.Latex object>"
      ]
     },
     "metadata": {},
     "output_type": "display_data"
    }
   ],
   "source": [
    "%%render param\n",
    "gamma_gas=16 #N/m3\n",
    "gamma_air=12 #N/m3"
   ]
  },
  {
   "cell_type": "markdown",
   "id": "21ab8836",
   "metadata": {},
   "source": [
    "**Hint**"
   ]
  },
  {
   "cell_type": "markdown",
   "id": "04ba2ed9",
   "metadata": {
    "slideshow": {
     "slide_type": ""
    },
    "tags": [
     "remove-input",
     "hide-cell"
    ]
   },
   "source": [
    "```{toggle}\n",
    "The density can be calculated using the equation for the specific weight ($\\gamma$), which is the weight per unit volume: $\\rho=\\frac{\\gamma}{g}$ \n",
    "\n",
    "The specific volume is the inverse of the density: $v=\\frac {1}{\\rho_{gas}}$  \n",
    "\n",
    "The specific gravity ($s$) is the ratio of the gas’s density to the density of air:$s= \\frac {\\rho_{fluid}}{\\rho_{air}}$\n",
    "```"
   ]
  },
  {
   "cell_type": "markdown",
   "id": "9fd7933e",
   "metadata": {
    "slideshow": {
     "slide_type": ""
    },
    "tags": []
   },
   "source": [
    "**Solution**"
   ]
  },
  {
   "cell_type": "code",
   "execution_count": 11,
   "id": "c87d3369",
   "metadata": {
    "scrolled": true,
    "slideshow": {
     "slide_type": ""
    },
    "tags": [
     "remove-input",
     "hide-output"
    ]
   },
   "outputs": [
    {
     "data": {
      "text/latex": [
       "\\[\n",
       "\\begin{aligned}\n",
       "\\rho_{gas} &= \\frac{ \\gamma_{gas} }{ g } \\\\&= \\frac{ 16 }{ 9.81 } \\\\&= 1.63 \\; \\;\\textrm{(kg/m3)}\\\\[10pt]\n",
       "\\\\[10pt]\n",
       "v &= \\frac{ 1 }{ \\rho_{gas} } \\\\&= \\frac{ 1 }{ 1.63 } \\\\&= 0.61 \\; \\;\\textrm{(m3/kg)}\\\\[10pt]\n",
       "\\\\[10pt]\n",
       "s &= \\frac{ \\gamma_{gas} }{ \\gamma_{air} } \\\\&= \\frac{ 16 }{ 12 } \\\\&= 1.33  \\\\[10pt]\n",
       "\\end{aligned}\n",
       "\\]"
      ],
      "text/plain": [
       "<IPython.core.display.Latex object>"
      ]
     },
     "metadata": {},
     "output_type": "display_data"
    }
   ],
   "source": [
    "%%render long 2\n",
    "rho_gas= gamma_gas/g #kg/m3\n",
    "v= 1/rho_gas #m3/kg\n",
    "s= gamma_gas/gamma_air"
   ]
  },
  {
   "cell_type": "markdown",
   "id": "6d4f9c0b",
   "metadata": {
    "slideshow": {
     "slide_type": ""
    },
    "tags": []
   },
   "source": [
    "---\n",
    "#### Question 5 (*)"
   ]
  },
  {
   "cell_type": "markdown",
   "id": "1e6e67e7",
   "metadata": {
    "slideshow": {
     "slide_type": ""
    },
    "tags": [
     "remove-input"
    ]
   },
   "source": [
    "A 3-litre container is filled with a liquid that has a specific gravity of 0.9. Determine mass density, weight and specific volume of the fluid. "
   ]
  },
  {
   "cell_type": "markdown",
   "id": "078e45e1-49f4-448f-b228-dfa33c66fa40",
   "metadata": {
    "hide_input": true,
    "slideshow": {
     "slide_type": ""
    },
    "tags": [
     "remove-input"
    ]
   },
   "source": [
    "**Answer**\n"
   ]
  },
  {
   "cell_type": "markdown",
   "id": "9bca6915-77a6-4681-8064-3aa7443d06f0",
   "metadata": {
    "slideshow": {
     "slide_type": ""
    },
    "tags": []
   },
   "source": [
    "```{toggle}\n",
    "$900 \\; kg/m^3 \\; ; 26.5 \\; N \\; ; 0.00111 \\; m^3/kg$\n",
    "```"
   ]
  },
  {
   "cell_type": "markdown",
   "id": "753d8b7d",
   "metadata": {
    "tags": [
     "remove-input"
    ]
   },
   "source": [
    "**Given:**"
   ]
  },
  {
   "cell_type": "code",
   "execution_count": 12,
   "id": "419d2519",
   "metadata": {
    "scrolled": true,
    "slideshow": {
     "slide_type": ""
    },
    "tags": [
     "remove-input"
    ]
   },
   "outputs": [
    {
     "data": {
      "text/latex": [
       "\\[\n",
       "\\begin{aligned}\n",
       "s &= 0.9 \\;\n",
       "\\end{aligned}\n",
       "\\]"
      ],
      "text/plain": [
       "<IPython.core.display.Latex object>"
      ]
     },
     "metadata": {},
     "output_type": "display_data"
    }
   ],
   "source": [
    "%%render param 1\n",
    "s=0.9\n"
   ]
  },
  {
   "cell_type": "markdown",
   "id": "d69b9c40",
   "metadata": {
    "tags": [
     "remove-input"
    ]
   },
   "source": [
    "And the volumen in m<sup>3</sup> :"
   ]
  },
  {
   "cell_type": "code",
   "execution_count": 13,
   "id": "28980178",
   "metadata": {
    "scrolled": true,
    "slideshow": {
     "slide_type": ""
    },
    "tags": [
     "remove-input"
    ]
   },
   "outputs": [
    {
     "data": {
      "text/latex": [
       "\\[\n",
       "\\begin{aligned}\n",
       "\\mathrm{Vol} &= 0.003 \\; \\;\\textrm{(m3)}\n",
       "\\end{aligned}\n",
       "\\]"
      ],
      "text/plain": [
       "<IPython.core.display.Latex object>"
      ]
     },
     "metadata": {},
     "output_type": "display_data"
    }
   ],
   "source": [
    "%%render param\n",
    "Vol=3/1000 #m3"
   ]
  },
  {
   "cell_type": "markdown",
   "id": "4a496be8",
   "metadata": {},
   "source": [
    "**Hint**"
   ]
  },
  {
   "cell_type": "markdown",
   "id": "11ed32c7-6c56-4938-83cc-4bd0569c70db",
   "metadata": {},
   "source": [
    "```{toggle}\n",
    "The density of the liquid can be calculated using the specific gravity ($s$) equation, which is $s= \\frac {\\rho_{fluid}}{\\rho_{water}}$. \n",
    "\n",
    "Solving the equation the density of the liquid is $\\rho = \\rho_{water} \\cdot s$ \n",
    "\n",
    "The weight is: $W=\\rho \\cdot g \\cdot Vol$  \n",
    "\n",
    "The specific volume is the inverse of the density: $v=\\frac {1}{\\rho}$\n",
    "```"
   ]
  },
  {
   "cell_type": "markdown",
   "id": "c6f49e31",
   "metadata": {},
   "source": [
    "---\n",
    "#### Question 6 (**)[R]"
   ]
  },
  {
   "cell_type": "markdown",
   "id": "02094c67",
   "metadata": {
    "slideshow": {
     "slide_type": ""
    },
    "tags": [
     "remove-input"
    ]
   },
   "source": [
    "A fluid with a specific gravity of 1.2 moves through a pipe at rate of 2 000 kg every 6 hours. Calculate the mass density, specific weight and volumetric flowrate of the fluid."
   ]
  },
  {
   "cell_type": "markdown",
   "id": "f556221a-a531-4508-b112-725cdfc28ba8",
   "metadata": {
    "hide_input": true,
    "slideshow": {
     "slide_type": ""
    },
    "tags": [
     "remove-input"
    ]
   },
   "source": [
    "**Answer**\n"
   ]
  },
  {
   "cell_type": "markdown",
   "id": "062f06b4-6501-44ce-a790-74b44a78b29f",
   "metadata": {
    "slideshow": {
     "slide_type": ""
    },
    "tags": []
   },
   "source": [
    " ```{toggle}\n",
    "$1200 \\; kg/m^3 \\; ; 11 772 \\; N/m^3 \\; ; 7.716 x 10^ {-5} \\; m^3/s$\n",
    "```"
   ]
  },
  {
   "cell_type": "markdown",
   "id": "2ed0652e",
   "metadata": {
    "slideshow": {
     "slide_type": ""
    },
    "tags": [
     "remove-input"
    ]
   },
   "source": [
    "**Given:**"
   ]
  },
  {
   "cell_type": "code",
   "execution_count": 14,
   "id": "7de6af62",
   "metadata": {
    "scrolled": true,
    "slideshow": {
     "slide_type": ""
    },
    "tags": [
     "remove-input"
    ]
   },
   "outputs": [
    {
     "data": {
      "text/latex": [
       "\\[\n",
       "\\begin{aligned}\n",
       "s_{fluid} &= 1.2 \\; \n",
       " &m &= 2000 \\; \\;\\textrm{(kg)}\n",
       " &t &= 6 \\; \\;\\textrm{(h)}\n",
       "\\\\[10pt]\n",
       "\\end{aligned}\n",
       "\\]"
      ],
      "text/plain": [
       "<IPython.core.display.Latex object>"
      ]
     },
     "metadata": {},
     "output_type": "display_data"
    }
   ],
   "source": [
    "%%render param 1\n",
    "s_fluid= 1.2 \n",
    "m= 2000 #kg\n",
    "t= 6 #h\n"
   ]
  },
  {
   "cell_type": "markdown",
   "id": "2c756bfd",
   "metadata": {
    "slideshow": {
     "slide_type": ""
    },
    "tags": []
   },
   "source": [
    "**Hint**"
   ]
  },
  {
   "cell_type": "markdown",
   "id": "cd53ba37",
   "metadata": {
    "slideshow": {
     "slide_type": ""
    },
    "tags": [
     "remove-input",
     "hide-cell"
    ]
   },
   "source": [
    "```{toggle}\n",
    "The density of the liquid can be calculated using the specific gravity ($s$) equation, which is $s= \\frac {\\rho_{fluid}}{\\rho_{water}}$. \n",
    "\n",
    "Solving the equation the density of the liquid is $\\rho = \\rho_{water} \\cdot s$ \n",
    "\n",
    "The Specific weight ($\\gamma$) is the weight per unit volume and can be calculated as $\\gamma=\\rho \\cdot g$   \n",
    "\n",
    "The volumetric flow rate is the volume of fluid passing through a given section per unit of time. The equation used is: $Q= \\frac {Vol}{t}$\n",
    "```"
   ]
  },
  {
   "cell_type": "markdown",
   "id": "8ced778d",
   "metadata": {},
   "source": [
    "**Solution**"
   ]
  },
  {
   "cell_type": "code",
   "execution_count": 15,
   "id": "fa89b9a7",
   "metadata": {
    "scrolled": true,
    "tags": [
     "remove-input",
     "hide-output"
    ]
   },
   "outputs": [
    {
     "data": {
      "text/latex": [
       "\\[\n",
       "\\begin{aligned}\n",
       "\\rho_{fluid} &= s_{fluid} \\cdot \\rho_{water} \\\\&= 1.200000 \\cdot 1000 \\\\&= 1200.000000 \\; \\;\\textrm{(kg/m3)}\\\\[10pt]\n",
       "\\\\[10pt]\n",
       "\\gamma_{fluid} &= \\rho_{fluid} \\cdot g \\\\&= 1200.000000 \\cdot 9.810000 \\\\&= 11772.000000 \\; \\;\\textrm{(N/m3)}\\\\[10pt]\n",
       "\\\\[10pt]\n",
       "\\mathrm{Vol} &= \\frac{ m }{ \\rho_{fluid} } \\\\&= \\frac{ 2000 }{ 1200.000000 } \\\\&= 1.666667 \\; \\;\\textrm{(m3)}\\\\[10pt]\n",
       "\\\\[10pt]\n",
       "Q_{h} &= \\frac{ \\mathrm{Vol} }{ t } \\\\&= \\frac{ 1.666667 }{ 6 } \\\\&= 0.277778 \\; \\;\\textrm{(m3/h)}\\\\[10pt]\n",
       "\\\\[10pt]\n",
       "Q_{s} &= \\frac{ \\mathrm{Vol} }{ t \\cdot 60 \\cdot 60 } \\\\&= \\frac{ 1.666667 }{ 6 \\cdot 60 \\cdot 60 } \\\\&= 0.000077 \\; \\;\\textrm{(m3/s)}\\\\[10pt]\n",
       "\\end{aligned}\n",
       "\\]"
      ],
      "text/plain": [
       "<IPython.core.display.Latex object>"
      ]
     },
     "metadata": {},
     "output_type": "display_data"
    }
   ],
   "source": [
    "%%render long 6\n",
    "\n",
    "rho_fluid= s_fluid*rho_water #kg/m3\n",
    "gamma_fluid= rho_fluid*g # N/m3\n",
    "Vol= m/rho_fluid #m3 \n",
    "Q_h= Vol/t #m3/h\n",
    "Q_s= Vol/(t*60*60)#m3/s"
   ]
  },
  {
   "cell_type": "markdown",
   "id": "617344d6",
   "metadata": {
    "heading_collapsed": true,
    "tags": [
     "remove-input"
    ]
   },
   "source": [
    "### Ideal\tGas\tLaw"
   ]
  },
  {
   "cell_type": "markdown",
   "id": "bbc6b88b",
   "metadata": {
    "hidden": true
   },
   "source": [
    "---\n",
    "#### Question 7 (*)[R]"
   ]
  },
  {
   "cell_type": "markdown",
   "id": "3ed6e042",
   "metadata": {
    "hidden": true,
    "slideshow": {
     "slide_type": ""
    },
    "tags": [
     "remove-input"
    ]
   },
   "source": [
    "Calculate the specific weight, density and specific volume of air at 50 °C and absolute pressure of 3.4 bar. Given: R_air = 287 m<sup>2</sup>/(s<sup>2</sup>.K). "
   ]
  },
  {
   "cell_type": "markdown",
   "id": "b5f67a86-2f06-47ed-8a1f-f324c9aed054",
   "metadata": {
    "hide_input": true,
    "slideshow": {
     "slide_type": ""
    },
    "tags": [
     "remove-input"
    ]
   },
   "source": [
    "**Answer**\n"
   ]
  },
  {
   "cell_type": "markdown",
   "id": "9d7dd4d0-4f24-4bbb-8d88-cb7e8615129f",
   "metadata": {
    "slideshow": {
     "slide_type": ""
    },
    "tags": []
   },
   "source": [
    "```{toggle}\n",
    "$\n",
    "36 \\; N/m^3 \\; ; 3.67  \\; kg/m^3 \\; ; 0.27 \\; m^3/kg\n",
    "$\n",
    "```"
   ]
  },
  {
   "cell_type": "markdown",
   "id": "a9eb92e8-3de3-4c5d-85e7-a693d659cf62",
   "metadata": {
    "hidden": true,
    "tags": [
     "remove-input"
    ]
   },
   "source": [
    "**Given:**"
   ]
  },
  {
   "cell_type": "markdown",
   "id": "1f55e837",
   "metadata": {
    "hidden": true,
    "tags": [
     "remove-input"
    ]
   },
   "source": [
    "The values of $R_{air}$, $T$, and $p$ are given. If we convert the temperature units to K and the pressure units to Pa, we have:"
   ]
  },
  {
   "cell_type": "code",
   "execution_count": 16,
   "id": "e86b3daa",
   "metadata": {
    "hidden": true,
    "scrolled": true,
    "tags": [
     "remove-input"
    ]
   },
   "outputs": [
    {
     "data": {
      "text/latex": [
       "\\[\n",
       "\\begin{aligned}\n",
       "T &= 323.15 \\; \\;\\textrm{(K)}\n",
       " &p &= 340000.00 \\; \\;\\textrm{(Pa)}\n",
       " &R_{air} &= 287 \\; \\;\\textrm{(m2/(s2.k))}\n",
       "\\\\[10pt]\n",
       "\\end{aligned}\n",
       "\\]"
      ],
      "text/plain": [
       "<IPython.core.display.Latex object>"
      ]
     },
     "metadata": {},
     "output_type": "display_data"
    }
   ],
   "source": [
    "%%render param 2\n",
    "T=50+273.15 #K\n",
    "p=3.4*10**5 #Pa\n",
    "R_air=287 #m2/(s2.k)"
   ]
  },
  {
   "cell_type": "markdown",
   "id": "ff65d07c",
   "metadata": {
    "hidden": true
   },
   "source": [
    "**Hint**"
   ]
  },
  {
   "cell_type": "markdown",
   "id": "29ed4dcd",
   "metadata": {
    "hidden": true,
    "slideshow": {
     "slide_type": ""
    },
    "tags": [
     "remove-input",
     "hide-cell"
    ]
   },
   "source": [
    "```{toggle}\n",
    "By using the ideal gas law, the density of air ($\\rho$) can be calculated as:\n",
    "\n",
    "$\\rho = \\frac{p}{R_{air} \\cdot T}$\n",
    "\n",
    "where:\n",
    "- $p$ is the pressure of the air\n",
    "- $R_{air}$ is the specific gas constant for air \n",
    "- $T$ is the temperature of the air in Kelvin\n",
    "\n",
    "\n",
    "Once the density is known, the specific weight ($\\gamma$) can be calculated using the following equation $\\gamma = \\rho \\cdot g$  \n",
    "\n",
    "Finally, the specific volume is the inverse of the density $v =\\frac{1}{\\rho}$\n",
    "```"
   ]
  },
  {
   "cell_type": "markdown",
   "id": "4c5f43ea",
   "metadata": {
    "hidden": true
   },
   "source": [
    "---\n",
    "#### Question 8 (*)"
   ]
  },
  {
   "cell_type": "markdown",
   "id": "ccaa1c23",
   "metadata": {
    "hidden": true,
    "slideshow": {
     "slide_type": ""
    },
    "tags": [
     "remove-input"
    ]
   },
   "source": [
    "Calculate the specific weight, density and specific volume of the air inside a car tyre at a temperature of 15°C and pumped to an absolute pressure of 3 bar. Given: Rair = 287 m<sup>2</sup>/(s<sup>2</sup>.K). "
   ]
  },
  {
   "cell_type": "markdown",
   "id": "95d8e26d-6ffd-470d-be74-b25d5e7afe5a",
   "metadata": {
    "hide_input": true,
    "slideshow": {
     "slide_type": ""
    },
    "tags": [
     "remove-input"
    ]
   },
   "source": [
    "**Answer**\n"
   ]
  },
  {
   "cell_type": "markdown",
   "id": "c392b0b6-cac8-4956-ab4f-b3f3f83c449e",
   "metadata": {},
   "source": [
    "```{toggle}\n",
    "$\n",
    "35.6 \\; N/m^3 \\; ; 3.63 \\; kg/m^3 \\; ; 0.28 \\; m^3/kg\n",
    "$\n",
    "```"
   ]
  },
  {
   "cell_type": "markdown",
   "id": "93febf93",
   "metadata": {
    "hidden": true,
    "tags": [
     "remove-input"
    ]
   },
   "source": [
    "**Given:**"
   ]
  },
  {
   "cell_type": "markdown",
   "id": "7eecfb96-9c4a-4209-bfd6-cd7a1058d71a",
   "metadata": {
    "hidden": true
   },
   "source": [
    "The values of $R_{air}$, $T$, and $p$ are given. If we convert the temperature units to K and the pressure units to Pa, we have:"
   ]
  },
  {
   "cell_type": "code",
   "execution_count": 17,
   "id": "6e484562",
   "metadata": {
    "hidden": true,
    "scrolled": true,
    "tags": [
     "remove-input"
    ]
   },
   "outputs": [
    {
     "data": {
      "text/latex": [
       "\\[\n",
       "\\begin{aligned}\n",
       "T_{k} &= 288.150 \\; \\;\\textrm{(K)}\n",
       " &p_{Pa} &= 300000 \\; \\;\\textrm{(Pa)}\n",
       " &R_{air} &= 287 \\; \\;\\textrm{(m2/(s2.K))}\n",
       "\\\\[10pt]\n",
       "\\end{aligned}\n",
       "\\]"
      ],
      "text/plain": [
       "<IPython.core.display.Latex object>"
      ]
     },
     "metadata": {},
     "output_type": "display_data"
    }
   ],
   "source": [
    "%%render param\n",
    "T_k= 15+273.15 #K\n",
    "p_Pa= 3*10**5 #Pa\n",
    "R_air= 287 #m2/(s2.K)\n"
   ]
  },
  {
   "cell_type": "markdown",
   "id": "0b7b0210",
   "metadata": {
    "hidden": true
   },
   "source": [
    "**Hint**"
   ]
  },
  {
   "cell_type": "markdown",
   "id": "531d1ad9",
   "metadata": {
    "hidden": true,
    "tags": [
     "remove-input",
     "hide-cell"
    ]
   },
   "source": [
    "```{toggle}\n",
    "By using the ideal gas law, the density of air ($\\rho$) can be calculated as:\n",
    "\n",
    "$\\rho = \\frac{p}{R_{air} \\cdot T}$\n",
    "\n",
    "where:\n",
    "- $p$ is the pressure of the air\n",
    "- $R_{air}$ is the specific gas constant for air \n",
    "- $T$ is the temperature of the air in Kelvin\n",
    "\n",
    "\n",
    "Once the density is known, the specific weight ($\\gamma$) can be calculated using the following equation $\\gamma = \\rho \\cdot g$  \n",
    "\n",
    "Finally, the specific volume is the inverse of the density $v =\\frac{1}{\\rho}$\n",
    "```"
   ]
  },
  {
   "cell_type": "markdown",
   "id": "7a135c18",
   "metadata": {
    "hidden": true
   },
   "source": [
    "**Solution**"
   ]
  },
  {
   "cell_type": "code",
   "execution_count": 18,
   "id": "86b71b88",
   "metadata": {
    "hidden": true,
    "scrolled": true,
    "tags": [
     "remove-input",
     "hide-output"
    ]
   },
   "outputs": [
    {
     "data": {
      "text/latex": [
       "\\[\n",
       "\\begin{aligned}\n",
       "\\rho_{air} &= \\frac{ p_{Pa} }{ R_{air} \\cdot T_{k} } \\\\&= \\frac{ 300000 }{ 287 \\cdot 288.15 } \\\\&= 3.63 \\; \\;\\textrm{(kg/m3)}\\\\[10pt]\n",
       "\\\\[10pt]\n",
       "\\gamma_{air} &= g \\cdot \\rho_{air} \\\\&= 9.81 \\cdot 3.63 \\\\&= 35.59 \\; \\;\\textrm{(N/m3)}\\\\[10pt]\n",
       "\\\\[10pt]\n",
       "v_{air} &= \\frac{ 1 }{ \\rho_{air} } \\\\&= \\frac{ 1 }{ 3.63 } \\\\&= 0.28 \\; \\;\\textrm{(m3/kg)}\\\\[10pt]\n",
       "\\end{aligned}\n",
       "\\]"
      ],
      "text/plain": [
       "<IPython.core.display.Latex object>"
      ]
     },
     "metadata": {},
     "output_type": "display_data"
    }
   ],
   "source": [
    "%%render 2\n",
    "#long\n",
    "rho_air= p_Pa/(R_air*T_k)#kg/m3\n",
    "gamma_air= g* rho_air#N/m3\n",
    "v_air= 1/rho_air #m3/kg\n",
    "\n"
   ]
  },
  {
   "cell_type": "markdown",
   "id": "c590e408",
   "metadata": {
    "hidden": true
   },
   "source": [
    "---\n",
    "#### Question 9 (*)(**)"
   ]
  },
  {
   "cell_type": "markdown",
   "id": "866ea3a0",
   "metadata": {
    "hidden": true,
    "slideshow": {
     "slide_type": ""
    },
    "tags": [
     "remove-input"
    ]
   },
   "source": [
    "a)* Calculate the specific weight, density and specific volume of oxygen at 20 °C and 50 kN/m<sup>2</sup> absolute. \n",
    "Given: Roxygen = 260 m<sup>2</sup>/(s<sup>2</sup>.K).  \n",
    "\n",
    "b)** If the oxygen is enclosed in a rigid container of constant volume, what will the pressure be if the temperature is reduced to  100 °C?  \n",
    "\n"
   ]
  },
  {
   "cell_type": "markdown",
   "id": "0001f42a-2ccc-4d95-a95e-ce238156c1b8",
   "metadata": {
    "hide_input": true,
    "slideshow": {
     "slide_type": ""
    },
    "tags": [
     "remove-input"
    ]
   },
   "source": [
    "**Answer**\n"
   ]
  },
  {
   "cell_type": "markdown",
   "id": "33775a9f-d6ff-4177-b932-e8ce04401b87",
   "metadata": {},
   "source": [
    "```{toggle}\n",
    "$\n",
    "a) \\; 6.44 \\; N/m^3 \\; ; \\; 0.656 \\; kg/m^3 \\; ; \\; 1.524 \\; m^3/kg\n",
    "$\n",
    "\n",
    "$\n",
    "b) \\; 29.5 \\; kPa\n",
    "$\n",
    "```"
   ]
  },
  {
   "cell_type": "markdown",
   "id": "6a5d1b1d",
   "metadata": {
    "hidden": true,
    "tags": [
     "remove-input"
    ]
   },
   "source": [
    "a)"
   ]
  },
  {
   "cell_type": "markdown",
   "id": "5a8ff5fb",
   "metadata": {
    "hidden": true,
    "tags": [
     "remove-input"
    ]
   },
   "source": [
    "**Given:**"
   ]
  },
  {
   "cell_type": "markdown",
   "id": "1b726d2c",
   "metadata": {
    "hidden": true,
    "tags": [
     "remove-input"
    ]
   },
   "source": [
    "The values of $R_{oxygen}$, $T$, and $p$ are given. If we convert the temperature units to K and the pressure units to Pa, we have:"
   ]
  },
  {
   "cell_type": "code",
   "execution_count": 19,
   "id": "9819e9fe",
   "metadata": {
    "hidden": true,
    "tags": [
     "remove-input"
    ]
   },
   "outputs": [
    {
     "data": {
      "text/latex": [
       "\\[\n",
       "\\begin{aligned}\n",
       "T &= 293.150 \\; \\;\\textrm{(K)}\n",
       " &p &= 50000 \\; \\;\\textrm{(Pa)}\n",
       " &R_{oxygen} &= 260 \\; \\;\\textrm{(m2/(s2.K))}\n",
       "\\\\[10pt]\n",
       "\\end{aligned}\n",
       "\\]"
      ],
      "text/plain": [
       "<IPython.core.display.Latex object>"
      ]
     },
     "metadata": {},
     "output_type": "display_data"
    }
   ],
   "source": [
    "%%render param\n",
    "T=20+273.15 #K\n",
    "p=50*1000 #Pa\n",
    "R_oxygen=260 #m2/(s2.K)"
   ]
  },
  {
   "cell_type": "markdown",
   "id": "6f41c6c7",
   "metadata": {
    "hidden": true
   },
   "source": [
    "**Hint**"
   ]
  },
  {
   "cell_type": "markdown",
   "id": "4795b0d1",
   "metadata": {
    "hidden": true,
    "tags": [
     "remove-input",
     "hide-cell"
    ]
   },
   "source": [
    "```{toggle}\n",
    "By using the ideal gas law, the density of air ($\\rho$) can be calculated as:\n",
    "\n",
    "$\\rho = \\frac{p}{R_{air} \\cdot T}$\n",
    "\n",
    "where:\n",
    "- $p$ is the pressure of the air\n",
    "- $R_{air}$ is the specific gas constant for air \n",
    "- $T$ is the temperature of the air in Kelvin\n",
    "\n",
    "\n",
    "Once the density is known, the specific weight ($\\gamma$) can be calculated using the following equation $\\gamma = \\rho \\cdot g$  \n",
    "\n",
    "Finally, the specific volume is the inverse of the density $v =\\frac{1}{\\rho}$\n",
    "```"
   ]
  },
  {
   "cell_type": "markdown",
   "id": "79b2361c",
   "metadata": {
    "hidden": true,
    "tags": [
     "remove-input"
    ]
   },
   "source": [
    "b)"
   ]
  },
  {
   "cell_type": "markdown",
   "id": "3ecf8253",
   "metadata": {
    "hidden": true,
    "tags": [
     "remove-input"
    ]
   },
   "source": [
    "**Given:**"
   ]
  },
  {
   "cell_type": "markdown",
   "id": "5c09367c",
   "metadata": {
    "hidden": true,
    "tags": [
     "remove-input"
    ]
   },
   "source": [
    "The pressure and temperatures in Pa and K are:"
   ]
  },
  {
   "cell_type": "code",
   "execution_count": 20,
   "id": "a5a87a64",
   "metadata": {
    "hidden": true,
    "scrolled": true,
    "tags": [
     "remove-input"
    ]
   },
   "outputs": [
    {
     "data": {
      "text/latex": [
       "\\[\n",
       "\\begin{aligned}\n",
       "p_{1} &= 50000 \\; \\;\\textrm{(Pa)}\n",
       " &T_{1} &= 293.150 \\; \\;\\textrm{(K)}\n",
       " &T_{2} &= 173.150 \\; \\;\\textrm{(K)}\n",
       "\\\\[10pt]\n",
       "\\end{aligned}\n",
       "\\]"
      ],
      "text/plain": [
       "<IPython.core.display.Latex object>"
      ]
     },
     "metadata": {},
     "output_type": "display_data"
    }
   ],
   "source": [
    "%%render param\n",
    "\n",
    "p_1=50*1000 #Pa\n",
    "T_1=20+273.15 #K\n",
    "T_2=-100+273.15 #K"
   ]
  },
  {
   "cell_type": "markdown",
   "id": "c7994eb5",
   "metadata": {
    "hidden": true
   },
   "source": [
    "**Hint**"
   ]
  },
  {
   "cell_type": "markdown",
   "id": "afdb5b69",
   "metadata": {
    "hidden": true,
    "tags": [
     "remove-input",
     "hide-cell"
    ]
   },
   "source": [
    "```{toggle}\n",
    "\n",
    "The combined gas law is a relationship between pressure, volume, and temperature for a fixed amount of gas.\n",
    "\n",
    "$ \\frac {p_1 \\cdot Vol_1}{T_1} = \\frac {p_2 \\cdot Vol_2}{T_2}$\n",
    "\n",
    "When the volume is constant, the law simplifies to:\n",
    "\n",
    "$\\frac{p_2}{T_2}=\\frac{p_1}{T_1}$\n",
    "\n",
    "```"
   ]
  },
  {
   "cell_type": "markdown",
   "id": "60fce6c7",
   "metadata": {
    "hidden": true
   },
   "source": [
    "---\n",
    "#### Question 10 (***)"
   ]
  },
  {
   "cell_type": "markdown",
   "id": "388f5ce3",
   "metadata": {
    "hidden": true,
    "slideshow": {
     "slide_type": ""
    },
    "tags": [
     "remove-input"
    ]
   },
   "source": [
    "a) If water vapour in the atmosphere has a partial pressure of 3500 Pa and the temperature is 30 °C, what is its specific weight? \n",
    "\n",
    "b) if the barometer reads 102 kPa absolute, what is the partial pressure of the (dry) air, and its specific weight? \n",
    "\n",
    "c) What is the specific weight of the atmosphere (air plus water vapour present)? \n",
    "\n",
    "Given: Rair = 287 m<sup>2</sup>/(s<sup>2</sup>.K); Rwater vapour = 462 m<sup>2</sup>(s<sup>2</sup>.K)."
   ]
  },
  {
   "cell_type": "markdown",
   "id": "db04e3fe-94d5-430f-88e6-7c0b10743685",
   "metadata": {
    "hide_input": true,
    "slideshow": {
     "slide_type": ""
    },
    "tags": [
     "remove-input"
    ]
   },
   "source": [
    "**Answer**\n"
   ]
  },
  {
   "cell_type": "markdown",
   "id": "9b24bf0b-a82a-4e9a-9d54-65b9d35e4b15",
   "metadata": {},
   "source": [
    " ```{toggle}\n",
    "$\n",
    "a) \\; 0.25 \\; N/m^3 \n",
    "$\n",
    "\n",
    "$\n",
    "b) \\;  11.11 \\; N/m^3 \n",
    "$\n",
    "\n",
    "$\n",
    "c) \\;  11.36 \\; N/m^3\n",
    "$\n",
    " ```"
   ]
  },
  {
   "cell_type": "markdown",
   "id": "fc4d8d10",
   "metadata": {
    "hidden": true,
    "tags": [
     "remove-input"
    ]
   },
   "source": [
    " **Given:**"
   ]
  },
  {
   "cell_type": "markdown",
   "id": "75093beb-f461-41ee-bb67-6ee08ce4aede",
   "metadata": {
    "hidden": true
   },
   "source": [
    "If we convert the temperature units to K and the pressure units to Pa, we have:"
   ]
  },
  {
   "cell_type": "code",
   "execution_count": 21,
   "id": "39b2c69d",
   "metadata": {
    "hidden": true,
    "scrolled": true,
    "tags": [
     "remove-input"
    ]
   },
   "outputs": [
    {
     "data": {
      "text/latex": [
       "\\[\n",
       "\\begin{aligned}\n",
       "p_{Pa} &= 3500 \\; \\;\\textrm{(Pa)}\n",
       " &T_{k} &= 303.150 \\; \\;\\textrm{(°C)}\n",
       " &R_{wvapour} &= 462 \\; \\;\\textrm{(m2/(s2.K))}\n",
       "\\\\[10pt]\n",
       " p_{barometer} &= 102000 \\; \\;\\textrm{(Pa)}\n",
       " &R_{air} &= 287 \\; \\;\\textrm{(m2/(s2.K))}\n",
       "\\end{aligned}\n",
       "\\]"
      ],
      "text/plain": [
       "<IPython.core.display.Latex object>"
      ]
     },
     "metadata": {},
     "output_type": "display_data"
    }
   ],
   "source": [
    "%%render param\n",
    "p_Pa= 3500 #Pa\n",
    "T_k= 30+273.15 #°C\n",
    "R_wvapour= 462 #m2/(s2.K)\n",
    "p_barometer=102*1000 #Pa\n",
    "R_air=287 #m2/(s2.K)\n"
   ]
  },
  {
   "cell_type": "markdown",
   "id": "ccbab11f",
   "metadata": {
    "hidden": true,
    "tags": [
     "remove-input"
    ]
   },
   "source": [
    "a)"
   ]
  },
  {
   "cell_type": "markdown",
   "id": "3bc80926-8e1e-4559-a09c-96dc7ebb13fb",
   "metadata": {
    "hidden": true
   },
   "source": [
    "**Hint**"
   ]
  },
  {
   "cell_type": "markdown",
   "id": "88bbc252-8bc1-41c8-bcb0-7c0958ce10cb",
   "metadata": {
    "hidden": true,
    "tags": [
     "remove-input",
     "hide-cell"
    ]
   },
   "source": [
    "```{toggle}\n",
    "\n",
    "By using the ideal gas law, the density of air ($\\rho$) can be calculated as:\n",
    "\n",
    "$\\rho = \\frac{p}{R_{air} \\cdot T}$\n",
    "\n",
    "where:\n",
    "- $p$ is the pressure of the air\n",
    "- $R_{air}$ is the specific gas constant for air \n",
    "- $T$ is the temperature of the air in Kelvin\n",
    "\n",
    "The specific weight ($\\gamma$) can be calculated as: $\\gamma$ = \\rho \\cdot g$ \n",
    "\n",
    "Replacing the density equation into the specific weight we have:  $\\gamma = \\frac{g \\cdot p}{R_{oxygen} \\cdot T}$  \n",
    "```"
   ]
  },
  {
   "cell_type": "markdown",
   "id": "f85199e4",
   "metadata": {
    "hidden": true
   },
   "source": [
    "**Solution**"
   ]
  },
  {
   "cell_type": "code",
   "execution_count": 22,
   "id": "9a510792",
   "metadata": {
    "hidden": true,
    "tags": [
     "remove-input",
     "hide-output"
    ]
   },
   "outputs": [
    {
     "data": {
      "text/latex": [
       "\\[\n",
       "\\begin{aligned}\n",
       "\\gamma_{wvapour} &= \\frac{ g \\cdot p_{Pa} }{ R_{wvapour} \\cdot T_{k} }  = \\frac{ 9.81 \\cdot 3500 }{ 462 \\cdot 303.15 } &= 0.25 \\; \\;\\textrm{(N/m3)}\n",
       "\\end{aligned}\n",
       "\\]"
      ],
      "text/plain": [
       "<IPython.core.display.Latex object>"
      ]
     },
     "metadata": {},
     "output_type": "display_data"
    }
   ],
   "source": [
    "%%render 2\n",
    "gamma_wvapour= (g*p_Pa)/(R_wvapour*T_k) #N/m3"
   ]
  },
  {
   "cell_type": "markdown",
   "id": "37382463",
   "metadata": {
    "hidden": true,
    "tags": [
     "remove-input"
    ]
   },
   "source": [
    "b)"
   ]
  },
  {
   "cell_type": "markdown",
   "id": "2c6ca347-49f6-423a-acf4-cc005c7eacca",
   "metadata": {
    "hidden": true
   },
   "source": [
    "**Hint**"
   ]
  },
  {
   "cell_type": "markdown",
   "id": "9e54037f-8466-432e-ac9c-64394f79d4e5",
   "metadata": {
    "hidden": true,
    "tags": [
     "remove-input",
     "hide-cell"
    ]
   },
   "source": [
    "```{toggle}\n",
    "\n",
    "\n",
    "The partial pressure can be calculated as $p_{partial}=p_{absolute}-p_{v}$\n",
    "\n",
    "\n",
    "```"
   ]
  },
  {
   "cell_type": "markdown",
   "id": "03658129",
   "metadata": {
    "hidden": true
   },
   "source": [
    "**Solution**"
   ]
  },
  {
   "cell_type": "code",
   "execution_count": 23,
   "id": "3ff137f3",
   "metadata": {
    "hidden": true,
    "scrolled": true,
    "tags": [
     "remove-input",
     "hide-output"
    ]
   },
   "outputs": [
    {
     "data": {
      "text/latex": [
       "\\[\n",
       "\\begin{aligned}\n",
       "p_{air_{Pa}} &= p_{barometer} - p_{Pa} \\\\&= 102000 - 3500 \\\\&= 98500 \\; \\;\\textrm{(kPa)}\\\\[10pt]\n",
       "\\\\[10pt]\n",
       "\\gamma_{air} &= \\frac{ g \\cdot p_{air_{Pa}} }{ R_{air} \\cdot T_{k} } \\\\&= \\frac{ 9.81 \\cdot 98500 }{ 287 \\cdot 303.15 } \\\\&= 11.11 \\; \\;\\textrm{(N/m3)}\\\\[10pt]\n",
       "\\end{aligned}\n",
       "\\]"
      ],
      "text/plain": [
       "<IPython.core.display.Latex object>"
      ]
     },
     "metadata": {},
     "output_type": "display_data"
    }
   ],
   "source": [
    "%%render 2\n",
    "#long\n",
    "p_air_Pa= p_barometer-p_Pa #kPa\n",
    "gamma_air= (g*p_air_Pa)/(R_air*T_k) #N/m3"
   ]
  },
  {
   "cell_type": "markdown",
   "id": "7256abc0",
   "metadata": {
    "hidden": true,
    "tags": [
     "remove-input"
    ]
   },
   "source": [
    "c)"
   ]
  },
  {
   "cell_type": "markdown",
   "id": "29d22ee4-830e-4be3-9804-14457913412c",
   "metadata": {
    "hidden": true
   },
   "source": [
    "**Hint**"
   ]
  },
  {
   "cell_type": "markdown",
   "id": "668d0bc1-9b4e-4d50-b62b-64671c711c95",
   "metadata": {
    "hidden": true,
    "tags": [
     "remove-input",
     "hide-cell"
    ]
   },
   "source": [
    "```{toggle}\n",
    "\n",
    "The specific weight of the atmosphere including the water vapour and the air is $\\gamma_{atm}=\\gamma_{air}+\\gamma_{water}$\n",
    "```"
   ]
  },
  {
   "cell_type": "markdown",
   "id": "609e958a",
   "metadata": {
    "hidden": true
   },
   "source": [
    "**Solution**"
   ]
  },
  {
   "cell_type": "code",
   "execution_count": 24,
   "id": "054d90db",
   "metadata": {
    "hidden": true,
    "scrolled": true,
    "tags": [
     "remove-input",
     "hide-output"
    ]
   },
   "outputs": [
    {
     "data": {
      "text/latex": [
       "\\[\n",
       "\\begin{aligned}\n",
       "\\gamma_{atmos} &= \\gamma_{air} + \\gamma_{wvapour} \\\\&= 11.11 + 0.25 \\\\&= 11.35 \\; \\;\\textrm{(N/m3)}\\\\[10pt]\n",
       "\\end{aligned}\n",
       "\\]"
      ],
      "text/plain": [
       "<IPython.core.display.Latex object>"
      ]
     },
     "metadata": {},
     "output_type": "display_data"
    }
   ],
   "source": [
    "%%render long 2\n",
    "gamma_atmos= gamma_air+gamma_wvapour #N/m3"
   ]
  },
  {
   "cell_type": "markdown",
   "id": "7ec50b32",
   "metadata": {
    "heading_collapsed": true,
    "tags": [
     "remove-input"
    ]
   },
   "source": [
    "### Compressibility\tof\tLiquids"
   ]
  },
  {
   "cell_type": "markdown",
   "id": "6ed5067d",
   "metadata": {
    "hidden": true
   },
   "source": [
    "---\n",
    "#### Question 11 (*)[R]"
   ]
  },
  {
   "cell_type": "markdown",
   "id": "94fcfeda",
   "metadata": {
    "hidden": true,
    "slideshow": {
     "slide_type": ""
    },
    "tags": [
     "remove-input"
    ]
   },
   "source": [
    "What pressure in MPa must be applied to water to reduce its volume by 3% under standard sea level atmospheric conditions? "
   ]
  },
  {
   "cell_type": "markdown",
   "id": "25306185-bbe7-4775-b736-1df71c74c1c3",
   "metadata": {
    "hide_input": true,
    "slideshow": {
     "slide_type": ""
    },
    "tags": [
     "remove-input"
    ]
   },
   "source": [
    "**Answer**\n"
   ]
  },
  {
   "cell_type": "markdown",
   "id": "7a2f5026-0615-4630-b77f-b4c91a1bfa74",
   "metadata": {},
   "source": [
    "```{toggle}\n",
    "$64.2 \\; MPa$\n",
    "```"
   ]
  },
  {
   "cell_type": "markdown",
   "id": "537c3ba1",
   "metadata": {
    "hidden": true,
    "tags": [
     "remove-input"
    ]
   },
   "source": [
    "**Given:**"
   ]
  },
  {
   "cell_type": "code",
   "execution_count": 25,
   "id": "ff128859",
   "metadata": {
    "hidden": true,
    "tags": [
     "remove-input"
    ]
   },
   "outputs": [
    {
     "data": {
      "text/latex": [
       "\\[\n",
       "\\begin{aligned}\n",
       "\\Delta_{Vol} &= 0.030 \\;\n",
       "\\end{aligned}\n",
       "\\]"
      ],
      "text/plain": [
       "<IPython.core.display.Latex object>"
      ]
     },
     "metadata": {},
     "output_type": "display_data"
    }
   ],
   "source": [
    "%%render param\n",
    "Delta_Vol=3/100"
   ]
  },
  {
   "cell_type": "markdown",
   "id": "f55ff378",
   "metadata": {
    "hidden": true
   },
   "source": [
    "**Hint**"
   ]
  },
  {
   "cell_type": "markdown",
   "id": "3c5c113e",
   "metadata": {
    "hidden": true,
    "tags": [
     "remove-input",
     "hide-cell"
    ]
   },
   "source": [
    "```{toggle}\n",
    "The compressibility of liquids is described by the following equation:  \n",
    "\n",
    "$$\\Delta p =-E_v \\frac{\\Delta Vol}{Vol}$$  \n",
    "\n",
    "where:\n",
    "\n",
    "- $\\Delta p$ is the change in pressure \n",
    "- $E_v$ is the bulk modulus of elasticity \n",
    "- $\\Delta Vol$ is the change in volume of liquid\n",
    "- $Vol$ is the original volume of the liquid\n",
    "\n",
    "In the table of the ICAOa standard atmosphere $T$ under standard sea level atmospheric conditions is 288.15 K. From table, hhysical properties of water at standard sea-level atmospheric pressure $E_v$ at T=288.15 K (T=15°C) is 2.14*10<sup>9</sup> Pa.\n",
    "```"
   ]
  },
  {
   "cell_type": "markdown",
   "id": "04b75816",
   "metadata": {
    "hidden": true
   },
   "source": [
    "---\n",
    "#### Question 12 (*)"
   ]
  },
  {
   "cell_type": "markdown",
   "id": "0536c1e8",
   "metadata": {
    "hidden": true,
    "slideshow": {
     "slide_type": ""
    },
    "tags": [
     "remove-input"
    ]
   },
   "source": [
    "By what fraction will the volume of a given quantity of mercury at 20°C be reduced if the pressure on it is increased by 100 MPa?"
   ]
  },
  {
   "cell_type": "markdown",
   "id": "be039eb1-83ba-4fd5-8b97-7dd5f9705184",
   "metadata": {
    "hide_input": true,
    "slideshow": {
     "slide_type": ""
    },
    "tags": [
     "remove-input"
    ]
   },
   "source": [
    "**Answer**\n"
   ]
  },
  {
   "cell_type": "markdown",
   "id": "c219bffb-dcb0-4777-aa43-0a0a58db600e",
   "metadata": {},
   "source": [
    "```{toggle}\n",
    "$0.38 \\; \\% $\n",
    "```"
   ]
  },
  {
   "cell_type": "markdown",
   "id": "e57437dc",
   "metadata": {
    "hidden": true,
    "tags": [
     "remove-input"
    ]
   },
   "source": [
    "**Given:**"
   ]
  },
  {
   "cell_type": "markdown",
   "id": "e83eba6e-6980-4b30-ac68-e9d30d84eb55",
   "metadata": {
    "hidden": true
   },
   "source": [
    "If we convert the pressure units to Pa, we have:"
   ]
  },
  {
   "cell_type": "code",
   "execution_count": 26,
   "id": "b5187c10",
   "metadata": {
    "hidden": true,
    "scrolled": true,
    "tags": [
     "remove-input"
    ]
   },
   "outputs": [
    {
     "data": {
      "text/latex": [
       "\\[\n",
       "\\begin{aligned}\n",
       "\\Delta_{p} &= 100000000 \\; \\;\\textrm{(MPa)}\n",
       "\\end{aligned}\n",
       "\\]"
      ],
      "text/plain": [
       "<IPython.core.display.Latex object>"
      ]
     },
     "metadata": {},
     "output_type": "display_data"
    }
   ],
   "source": [
    "%%render param\n",
    "Delta_p=100*10**6 #MPa"
   ]
  },
  {
   "cell_type": "markdown",
   "id": "ba1aa8be",
   "metadata": {
    "hidden": true
   },
   "source": [
    "**Hint**"
   ]
  },
  {
   "cell_type": "markdown",
   "id": "81712059",
   "metadata": {
    "hidden": true,
    "tags": [
     "remove-input",
     "hide-cell"
    ]
   },
   "source": [
    "```{toggle}\n",
    "The reduction of volume can be calculated using the bulk modulus (Compressibility equation) as follows: \n",
    "\n",
    "$$\\Delta p =-E_v \\frac{\\Delta Vol}{Vol}$$  \n",
    "\n",
    "where:\n",
    "\n",
    "- $\\Delta p$ is the change in pressure \n",
    "- $E_v$ is the bulk modulus of elasticity \n",
    "- $\\Delta Vol$ is the change in volume of liquid\n",
    "- $Vol$ is the original volume of the liquid\n",
    "\n",
    "Solving for the reduction of volume $\\frac{\\Delta Vol}{Vol}$, we have\n",
    "\n",
    "$$\\frac{\\Delta Vol}{Vol}=\\frac{-\\Delta p}{E_v} *100\\%$$\n",
    "\n",
    "Additionally, using the external source for physical properties of common liquids at standard sea-level atmospheric pressure the Ev is: 26.9*10<sup>9</sup> N/m<sup>2</sup>\n",
    "```"
   ]
  },
  {
   "cell_type": "markdown",
   "id": "8882acb4",
   "metadata": {
    "hidden": true
   },
   "source": [
    "**Solution**"
   ]
  },
  {
   "cell_type": "code",
   "execution_count": 27,
   "id": "8cbffb87",
   "metadata": {
    "hidden": true,
    "tags": [
     "remove-input",
     "hide-output"
    ]
   },
   "outputs": [
    {
     "data": {
      "text/latex": [
       "\\[\n",
       "\\begin{aligned}\n",
       "E_{v} &= 26200000000.00 \\; \\;\\textrm{(N/m2)}\n",
       "\\\\[10pt]\n",
       "\\mathrm{Vol}_{percentage} &= \\left( \\frac{ \\left( - \\Delta_{p} \\right) }{ E_{v} } \\right) \\cdot 100 \\\\&= \\left( \\frac{ \\left( - 100000000 \\right) }{ 26200000000.00 } \\right) \\cdot 100 \\\\&= -0.38 \\; \\;\\textrm{(%)}\\\\[10pt]\n",
       "\\end{aligned}\n",
       "\\]"
      ],
      "text/plain": [
       "<IPython.core.display.Latex object>"
      ]
     },
     "metadata": {},
     "output_type": "display_data"
    }
   ],
   "source": [
    "%%render long 2\n",
    "E_v=26.2*10**9 #N/m2\n",
    "Vol_percentage= (-Delta_p/E_v)*100 #%\n"
   ]
  },
  {
   "cell_type": "markdown",
   "id": "0dd8ea77",
   "metadata": {
    "hidden": true
   },
   "source": [
    "---\n",
    "#### Question 13 (***)"
   ]
  },
  {
   "cell_type": "markdown",
   "id": "ee46edef",
   "metadata": {
    "hidden": true,
    "slideshow": {
     "slide_type": ""
    },
    "tags": [
     "remove-input"
    ]
   },
   "source": [
    "A rigid cylinder with inside diameter of 15 mm contains a column of water 500 mm long. What will the column length be if a force of 2 kN is applied to its top by a frictionless plunger? Assume a bulk modulus of 2.21 GPa."
   ]
  },
  {
   "cell_type": "markdown",
   "id": "ccaf7d1e-1296-43f4-bd8b-c79194325a78",
   "metadata": {
    "hide_input": true,
    "slideshow": {
     "slide_type": ""
    },
    "tags": [
     "remove-input"
    ]
   },
   "source": [
    "**Answer**\n"
   ]
  },
  {
   "cell_type": "markdown",
   "id": "890b7d4c-bf75-4580-9dba-583bc4097456",
   "metadata": {},
   "source": [
    "```{toggle}\n",
    "$497 \\; mm$\n",
    "```"
   ]
  },
  {
   "cell_type": "markdown",
   "id": "560df049",
   "metadata": {
    "hidden": true
   },
   "source": [
    "**Given:**"
   ]
  },
  {
   "cell_type": "markdown",
   "id": "cb306f48",
   "metadata": {
    "hidden": true,
    "tags": [
     "remove-input"
    ]
   },
   "source": [
    "The diameter and column of water in m, the force in N, and the bulk modulus in Pa:"
   ]
  },
  {
   "cell_type": "code",
   "execution_count": 28,
   "id": "c14324b8",
   "metadata": {
    "hidden": true,
    "jupyter": {
     "source_hidden": true
    },
    "scrolled": true,
    "tags": [
     "remove-input"
    ]
   },
   "outputs": [
    {
     "data": {
      "text/latex": [
       "\\[\n",
       "\\begin{aligned}\n",
       "\\mathrm{dF} &= 2000 \\; \\;\\textrm{(N)}\n",
       " &d &= 0.015 \\; \\;\\textrm{(m)}\n",
       " &L_{1} &= 0.500 \\; \\;\\textrm{(m)}\n",
       "\\\\[10pt]\n",
       " E_{v} &= 2210000000.000 \\; \\;\\textrm{(Pa)}\n",
       "\\end{aligned}\n",
       "\\]"
      ],
      "text/plain": [
       "<IPython.core.display.Latex object>"
      ]
     },
     "metadata": {},
     "output_type": "display_data"
    }
   ],
   "source": [
    "%%render param\n",
    "dF=2000 #N\n",
    "d=0.015 #m\n",
    "L_1=0.5 #m\n",
    "E_v= 2.21*10**9 #Pa"
   ]
  },
  {
   "cell_type": "markdown",
   "id": "bd0f095f",
   "metadata": {
    "hidden": true
   },
   "source": [
    "**Hint**"
   ]
  },
  {
   "cell_type": "markdown",
   "id": "680e642c",
   "metadata": {
    "hidden": true,
    "tags": [
     "remove-input",
     "hide-cell"
    ]
   },
   "source": [
    "```{toggle}\n",
    "The compressibility equation can be used to calculate the relative change in volume:\n",
    "\n",
    "$$\\Delta p =-E_v \\frac{\\Delta Vol}{Vol}$$  \n",
    "\n",
    "where:\n",
    "\n",
    "- $\\Delta p$ is the change in pressure \n",
    "- $E_v$ is the bulk modulus of elasticity \n",
    "- $\\Delta Vol$ is the change in volume of liquid\n",
    "- $Vol$ is the original volume of the liquid\n",
    "\n",
    "Changing the volume with the following equation, we have \n",
    "\n",
    "$\\Delta Vol= Vol_2 - Vol_1 $\n",
    "\n",
    "where: \n",
    "\n",
    "- $Vol_1= A_1 \\cdot L_1$\n",
    "- $Vol_1= A_2 \\cdot L_2$\n",
    "\n",
    "Since the cross-sectional area A_1 and A_2 are the same, the volume change is proportional to the change in length. For that reason, the change in volume is:\n",
    "\n",
    "$\\Delta Vol= A  \\cdot (L_2 - L_1) $\n",
    "\n",
    "Substituting into the compressibility equation, we have:\n",
    "\n",
    "$$\\Delta p =-E_v \\frac{L_2-L_1}{L_1}$$  \n",
    "\n",
    "The change in pressure can be calculated using the force and area as:\n",
    "\n",
    "$$ d_p = \\frac {dF}{A}$$\n",
    "\n",
    "Using both equation we have:\n",
    "\n",
    "$$\\frac{v_2-v_1}{v_1}=\\frac{L_2-L_1}{L_1}=\\frac{\\Delta p}{E_v}$$\n",
    "\n",
    "Solving for $L_2$:  \n",
    "\n",
    "$$L_2 = -L_1 \\cdot \\frac{dP}{E_v}+ L_1$$  \n",
    "\n",
    "\n",
    "```"
   ]
  },
  {
   "cell_type": "markdown",
   "id": "ea542625",
   "metadata": {
    "tags": [
     "remove-input"
    ]
   },
   "source": [
    "## Problems for Lecture 3: Vapour pressure, viscosity and surface tension\n"
   ]
  },
  {
   "cell_type": "markdown",
   "id": "4d736eb3",
   "metadata": {
    "heading_collapsed": true,
    "tags": [
     "remove-input"
    ]
   },
   "source": [
    "### Vapour Pressure"
   ]
  },
  {
   "cell_type": "markdown",
   "id": "1cbbb909-111e-42bb-a14d-59a8d4e90015",
   "metadata": {
    "hidden": true,
    "tags": []
   },
   "source": [
    "---\n",
    "#### Question 1 (*)[R]"
   ]
  },
  {
   "cell_type": "markdown",
   "id": "99fbd958",
   "metadata": {
    "hidden": true,
    "tags": [
     "remove-input"
    ]
   },
   "source": [
    " At approximately what temperature will water boil at top of Mount Everest (elevation 8 850 m above sea level)? {70°C}"
   ]
  },
  {
   "cell_type": "markdown",
   "id": "ebd6a148-7637-495f-b109-328fc593af2d",
   "metadata": {
    "hidden": true
   },
   "source": [
    "**Solution**"
   ]
  },
  {
   "cell_type": "markdown",
   "id": "f739e201",
   "metadata": {
    "hidden": true,
    "tags": [
     "remove-input",
     "hide-output"
    ]
   },
   "source": [
    "```{toggle}\n",
    "From Table A.3, the absolute pressure at 8850 m above sea level is 32000 Pa.  \n",
    "\n",
    "From Table A.1, water has a saturation vapour pressure of 32000 Pa at 70°C.\n",
    "```"
   ]
  },
  {
   "cell_type": "markdown",
   "id": "59ff710a-b11f-40e7-8c6e-daf4df7edd97",
   "metadata": {
    "hidden": true,
    "tags": []
   },
   "source": [
    "---\n",
    "#### Question 2 (*)"
   ]
  },
  {
   "cell_type": "markdown",
   "id": "1634e2a5",
   "metadata": {
    "hidden": true,
    "tags": [
     "remove-input"
    ]
   },
   "source": [
    "At approximately what elevation will water boil at 90 °C? {3 000 m}"
   ]
  },
  {
   "cell_type": "markdown",
   "id": "83d3f9f4-62cd-4f92-880e-368bca1c9796",
   "metadata": {
    "hidden": true
   },
   "source": [
    "**Solution**"
   ]
  },
  {
   "cell_type": "markdown",
   "id": "eadeaca3",
   "metadata": {
    "hidden": true,
    "tags": [
     "remove-input",
     "hide-output"
    ]
   },
   "source": [
    "```{toggle}\n",
    "From Table A.1, water has a saturation vapour pressure of 70.1 kPa at 90°C.\n",
    "\n",
    "From Table A.3, the absolute pressure at 70 kPa is 3000 m.\n",
    "```"
   ]
  },
  {
   "cell_type": "markdown",
   "id": "afe228e4-92d6-48a8-8ee5-fcc085e009fe",
   "metadata": {
    "hidden": true,
    "tags": []
   },
   "source": [
    "---\n",
    "#### Question 3 (**)[R]"
   ]
  },
  {
   "cell_type": "markdown",
   "id": "65d55882",
   "metadata": {
    "hidden": true,
    "tags": [
     "remove-input"
    ]
   },
   "source": [
    " Water at 75°C is placed in a beaker in an airtight container. Air is gradually pumped out of the container. What reduction below standard sea level atmospheric pressure must be achieved before the water boils? {62 kPa}"
   ]
  },
  {
   "cell_type": "markdown",
   "id": "1caf6d91-9dc9-4ca4-a7f7-ec343eaad635",
   "metadata": {
    "hidden": true,
    "solution": "shown",
    "solution2": "hidden",
    "solution2_first": true,
    "solution_first": true,
    "tags": [
     "remove-input"
    ]
   },
   "source": [
    "**Hint**"
   ]
  },
  {
   "cell_type": "markdown",
   "id": "9ef089a9",
   "metadata": {
    "hidden": true,
    "tags": [
     "remove-input"
    ]
   },
   "source": [
    "```{toggle}\n",
    "The pressure reduction can be calculated as:\n",
    "\n",
    "$dp=p_{atm}-p_{vp}$\n",
    "\n",
    "From Table A.1, saturation vapour pressure at 75°C is 39 kPa.\n",
    "```"
   ]
  },
  {
   "cell_type": "markdown",
   "id": "f06cc57f-5bff-4100-98ab-e715c638578c",
   "metadata": {
    "hidden": true
   },
   "source": [
    "**Solution**"
   ]
  },
  {
   "cell_type": "code",
   "execution_count": 29,
   "id": "669b8c45",
   "metadata": {
    "hidden": true,
    "scrolled": true,
    "tags": [
     "remove-input",
     "hide-output"
    ]
   },
   "outputs": [
    {
     "data": {
      "text/latex": [
       "\\[\n",
       "\\begin{aligned}\n",
       "p_{vp} &= 39 \\; \\;\\textrm{(kPa)}\n",
       "\\\\[10pt]\n",
       "p_{atm_{}} &= 101 \\; \\;\\textrm{(kPa)}\n",
       "\\\\[10pt]\n",
       "\\mathrm{dp} &= p_{atm_{}} - p_{vp} \\\\&= 101 - 39 \\\\&= 62 \\; \\;\\textrm{(kPa)}\\\\[10pt]\n",
       "\\end{aligned}\n",
       "\\]"
      ],
      "text/plain": [
       "<IPython.core.display.Latex object>"
      ]
     },
     "metadata": {},
     "output_type": "display_data"
    }
   ],
   "source": [
    "%%render long\n",
    "p_vp=39 #kPa\n",
    "p_atm_= 101 #kPa\n",
    "dp= p_atm_-p_vp #kPa"
   ]
  },
  {
   "cell_type": "markdown",
   "id": "f9ecfec5",
   "metadata": {
    "heading_collapsed": true,
    "tags": [
     "remove-input"
    ]
   },
   "source": [
    "### Viscosity"
   ]
  },
  {
   "cell_type": "markdown",
   "id": "40aa262b-2636-4538-83c0-23b57766cbc7",
   "metadata": {
    "hidden": true,
    "tags": []
   },
   "source": [
    "---\n",
    "#### Question 4 (*)"
   ]
  },
  {
   "cell_type": "markdown",
   "id": "7e3fbf9e",
   "metadata": {
    "hidden": true,
    "tags": [
     "remove-input"
    ]
   },
   "source": [
    "A square block has a contact area of 0.02 m<sup>2 </sup>  with a table that is lubricated with a 0.1 mm thick layer of oil with viscosity 7 mPa.s. What force is required to move the block at a constant velocity of 1 m/s? {1.4 N}"
   ]
  },
  {
   "cell_type": "markdown",
   "id": "f71ba4f7-94c3-43c2-8df7-b68f56e0464a",
   "metadata": {
    "hidden": true
   },
   "source": [
    "**Given:**"
   ]
  },
  {
   "cell_type": "markdown",
   "id": "fc15583b",
   "metadata": {
    "hidden": true,
    "tags": [
     "remove-input"
    ]
   },
   "source": [
    "If we convert the depth of the layer to m, and viscosity to Pa/s, we have the following given parameters:"
   ]
  },
  {
   "cell_type": "code",
   "execution_count": 30,
   "id": "bdec45d4",
   "metadata": {
    "hidden": true,
    "scrolled": true,
    "tags": [
     "remove-input"
    ]
   },
   "outputs": [
    {
     "data": {
      "text/latex": [
       "\\[\n",
       "\\begin{aligned}\n",
       "A &= 0.020 \\; \\;\\textrm{(m2)}\n",
       " &y &= 0.100 \\; \\;\\textrm{(mm)}\n",
       " &\\mu_{oil} &= 0.007 \\; \\;\\textrm{(Pa/s)}\n",
       "\\\\[10pt]\n",
       " \\Delta_{V} &= 1 \\; \\;\\textrm{(m/s)}\n",
       "\\end{aligned}\n",
       "\\]"
      ],
      "text/plain": [
       "<IPython.core.display.Latex object>"
      ]
     },
     "metadata": {},
     "output_type": "display_data"
    }
   ],
   "source": [
    "%%render param\n",
    "A=0.02 #m2\n",
    "y=0.1 #mm\n",
    "mu_oil=7*10**-3 #Pa/s\n",
    "Delta_V= 1 #m/s\n"
   ]
  },
  {
   "cell_type": "markdown",
   "id": "6c14f262-5e6d-443f-a624-cd76ae575104",
   "metadata": {
    "hidden": true,
    "solution": "shown",
    "solution2": "hidden",
    "solution2_first": true,
    "solution_first": true,
    "tags": [
     "remove-input"
    ]
   },
   "source": [
    "**Hint**"
   ]
  },
  {
   "cell_type": "markdown",
   "id": "09bc663d",
   "metadata": {
    "hidden": true,
    "tags": [
     "remove-input"
    ]
   },
   "source": [
    "```{toggle}\n",
    "At a constant velocity, aceleration is zero, therefore:\n",
    "\n",
    "$$\n",
    "\\sum F=0\\\\\n",
    "$$\n",
    "Force can be calculated as\n",
    "\n",
    "$$\n",
    "F-\\tau A=0\\\\\n",
    "$$\n",
    "Where\n",
    "\n",
    "$$\n",
    "\\tau = \\mu \\frac {\\Delta V}{\\Delta y}\n",
    "$$\n",
    "```"
   ]
  },
  {
   "cell_type": "markdown",
   "id": "b08aefc3-5ed2-45dc-b23d-737324ed4a63",
   "metadata": {
    "hidden": true
   },
   "source": [
    "**Solution**"
   ]
  },
  {
   "cell_type": "code",
   "execution_count": 31,
   "id": "6e28cc4f",
   "metadata": {
    "hidden": true,
    "scrolled": true,
    "tags": [
     "remove-input",
     "hide-output"
    ]
   },
   "outputs": [
    {
     "data": {
      "text/latex": [
       "\\[\n",
       "\\begin{aligned}\n",
       "\\Delta_{y} &= \\frac{ y }{ 1000 } \\\\&= \\frac{ 0.1000 }{ 1000 } \\\\&= 0.0001 \\; \\;\\textrm{(m)}\\\\[10pt]\n",
       "\\\\[10pt]\n",
       "\\tau &= \\mu_{oil} \\cdot \\left( \\frac{ \\Delta_{V} }{ \\Delta_{y} } \\right) \\\\&= 0.0070 \\cdot \\left( \\frac{ 1 }{ 0.0001 } \\right) \\\\&= 70.0000 \\; \\;\\textrm{(Pa)}\\\\[10pt]\n",
       "\\\\[10pt]\n",
       "F &= \\tau \\cdot A \\\\&= 70.0000 \\cdot 0.0200 \\\\&= 1.4000 \\; \\;\\textrm{(N)}\\\\[10pt]\n",
       "\\end{aligned}\n",
       "\\]"
      ],
      "text/plain": [
       "<IPython.core.display.Latex object>"
      ]
     },
     "metadata": {},
     "output_type": "display_data"
    }
   ],
   "source": [
    "%%render long 4\n",
    "\n",
    "Delta_y= y/1000 #m\n",
    "\n",
    "tau= mu_oil*(Delta_V/Delta_y) #Pa\n",
    "\n",
    "F= tau*A #N"
   ]
  },
  {
   "cell_type": "markdown",
   "id": "acb28268-bd55-4539-ac33-507775f38101",
   "metadata": {
    "hidden": true,
    "tags": []
   },
   "source": [
    "---\n",
    "#### Question 5 (**)[R]"
   ]
  },
  {
   "cell_type": "markdown",
   "id": "d083a64e",
   "metadata": {
    "hidden": true,
    "tags": [
     "remove-input"
    ]
   },
   "source": [
    "A space 16 mm wide between two large plane surfaces is filled with oil with a viscosity μ = 0.18 N.s/m<sup>2</sup>. What force F will be required to drag a very thin plate of 0.4 m<sup>2</sup> area between the surfaces at a speed of 0.25 m/s if the plate is positioned 5 mm from the bottom surface? {5.24 N}"
   ]
  },
  {
   "cell_type": "markdown",
   "id": "1d7e0f95-5457-41e1-8f11-f1dd37b3921a",
   "metadata": {
    "hidden": true
   },
   "source": [
    "**Given:**"
   ]
  },
  {
   "cell_type": "code",
   "execution_count": 32,
   "id": "c43048b6",
   "metadata": {
    "hidden": true,
    "scrolled": true,
    "tags": [
     "remove-input"
    ]
   },
   "outputs": [
    {
     "data": {
      "text/latex": [
       "\\[\n",
       "\\begin{aligned}\n",
       "\\mu &= 0.180 \\; \\;\\textrm{(N.s/m2)}\n",
       " &V &= 0.250 \\; \\;\\textrm{(m/s)}\n",
       " &y_{plate} &= 0.005 \\; \\;\\textrm{(m)}\n",
       "\\\\[10pt]\n",
       " y_{oil} &= 0.016 \\; \\;\\textrm{(m)}\n",
       " &A &= 0.400 \\; \\;\\textrm{(m2)}\n",
       "\\end{aligned}\n",
       "\\]"
      ],
      "text/plain": [
       "<IPython.core.display.Latex object>"
      ]
     },
     "metadata": {},
     "output_type": "display_data"
    }
   ],
   "source": [
    "%%render param\n",
    "mu=0.18 #N.s/m2\n",
    "V=0.25 #m/s\n",
    "y_plate=5/1000 #m\n",
    "y_oil=16/1000 #m\n",
    "A=0.4 #m2"
   ]
  },
  {
   "cell_type": "markdown",
   "id": "d95730e6-f8fe-4d66-81c7-ea5408467e4d",
   "metadata": {
    "hidden": true,
    "solution": "shown",
    "solution2": "hidden",
    "solution2_first": true,
    "solution_first": true,
    "tags": [
     "remove-input"
    ]
   },
   "source": [
    "**Hint**"
   ]
  },
  {
   "cell_type": "markdown",
   "id": "1c06e238",
   "metadata": {
    "hidden": true,
    "tags": [
     "remove-input"
    ]
   },
   "source": [
    "```{toggle}\n",
    "To calculate the force required to drag the plate, the Newton's equation of viscosity can be used:\n",
    "\n",
    "$$\n",
    "\\tau= \\mu\\frac{dV}{dy}\\\\\n",
    "$$\n",
    "\n",
    "$$\n",
    "F=\\tau A\n",
    "$$\n",
    "\n",
    "The total force is the sum between the force of the oil and the force of the plate\n",
    "\n",
    "$$\n",
    "F_{oil}= \\mu\\frac{dV}{(y_{oil}-y_{plate})} A\\\\\n",
    "$$\n",
    "\n",
    "$$\n",
    "F_{plate}= \\mu\\frac{dV}{dy} A\n",
    "$$\n",
    "```"
   ]
  },
  {
   "cell_type": "markdown",
   "id": "68cb9c60-0e3c-424f-893d-7de66061c151",
   "metadata": {
    "hidden": true
   },
   "source": [
    "**Solution**"
   ]
  },
  {
   "cell_type": "code",
   "execution_count": 33,
   "id": "57483336",
   "metadata": {
    "hidden": true,
    "scrolled": true,
    "tags": [
     "remove-input",
     "hide-output"
    ]
   },
   "outputs": [
    {
     "data": {
      "text/latex": [
       "\\[\n",
       "\\begin{aligned}\n",
       "\\tau_{oil} &= \\mu \\cdot \\left( \\frac{ V }{ y_{oil} - y_{plate} } \\right) \\\\&= 0.180 \\cdot \\left( \\frac{ 0.250 }{ 0.016 - 0.005 } \\right) \\\\&= 4.091 \\; \\;\\textrm{(N/m2)}\\\\[10pt]\n",
       "\\\\[10pt]\n",
       "\\tau_{plate} &= \\mu \\cdot \\left( \\frac{ V }{ y_{plate} } \\right) \\\\&= 0.180 \\cdot \\left( \\frac{ 0.250 }{ 0.005 } \\right) \\\\&= 9.000 \\; \\;\\textrm{(N/m2)}\\\\[10pt]\n",
       "\\\\[10pt]\n",
       "F_{oil} &= \\tau_{oil} \\cdot A \\\\&= 4.091 \\cdot 0.400 \\\\&= 1.636 \\; \\;\\textrm{(N)}\\\\[10pt]\n",
       "\\\\[10pt]\n",
       "F_{plate} &= \\tau_{plate} \\cdot A \\\\&= 9.000 \\cdot 0.400 \\\\&= 3.600 \\; \\;\\textrm{(N)}\\\\[10pt]\n",
       "\\\\[10pt]\n",
       "F &= F_{oil} + F_{plate} \\\\&= 1.636 + 3.600 \\\\&= 5.236 \\; \\;\\textrm{(N)}\\\\[10pt]\n",
       "\\end{aligned}\n",
       "\\]"
      ],
      "text/plain": [
       "<IPython.core.display.Latex object>"
      ]
     },
     "metadata": {},
     "output_type": "display_data"
    }
   ],
   "source": [
    "%%render long 3\n",
    "tau_oil= mu*(V/(y_oil-y_plate)) #N/m2\n",
    "tau_plate= mu*(V/y_plate) #N/m2\n",
    "F_oil= tau_oil*A #N\n",
    "F_plate= tau_plate*A #N\n",
    "F= F_oil+F_plate #N"
   ]
  },
  {
   "cell_type": "markdown",
   "id": "213875d1-4429-472c-90fd-c4d35af756b8",
   "metadata": {
    "hidden": true,
    "tags": []
   },
   "source": [
    "---\n",
    "#### Question 6 (**)"
   ]
  },
  {
   "cell_type": "markdown",
   "id": "48773928",
   "metadata": {
    "hidden": true,
    "tags": [
     "remove-input"
    ]
   },
   "source": [
    "A space 10 mm wide between two large plane surfaces is filled with oil with viscosity μ = 0.18 N.s/m<sup>2</sup>. A very thin plate with a 0.5 m<sup>2</sup> area is located halfway between the two surfaces. If a constant force of 10 N is applied the plate, at what speed will it be dragged out from between the surfaces? {0.278 m/s}"
   ]
  },
  {
   "cell_type": "markdown",
   "id": "ddc731c4-e072-4b2c-8743-cc89f409f7b0",
   "metadata": {
    "hidden": true
   },
   "source": [
    "**Given:**"
   ]
  },
  {
   "cell_type": "markdown",
   "id": "052f6eb8-c81a-47a5-8271-f02b97e5b10e",
   "metadata": {
    "hidden": true,
    "tags": [
     "remove-input"
    ]
   },
   "source": [
    "If we convert the space between the surfaces to m is:"
   ]
  },
  {
   "cell_type": "code",
   "execution_count": 34,
   "id": "f7ca235a",
   "metadata": {
    "hidden": true,
    "scrolled": true,
    "tags": [
     "remove-input"
    ]
   },
   "outputs": [
    {
     "data": {
      "text/latex": [
       "\\[\n",
       "\\begin{aligned}\n",
       "A &= 0.500 \\; \\;\\textrm{(m2)}\n",
       " &L &= 0.010 \\; \\;\\textrm{(m)}\n",
       " &\\mu &= 0.180 \\; \\;\\textrm{(N.s/m2)}\n",
       "\\\\[10pt]\n",
       " F &= 10 \\; \\;\\textrm{(N)}\n",
       "\\end{aligned}\n",
       "\\]"
      ],
      "text/plain": [
       "<IPython.core.display.Latex object>"
      ]
     },
     "metadata": {},
     "output_type": "display_data"
    }
   ],
   "source": [
    "%%render param\n",
    "A=0.5 #m2\n",
    "L=10/1000 #m\n",
    "mu =0.18 #N.s/m2\n",
    "F= 10 #N\n"
   ]
  },
  {
   "cell_type": "markdown",
   "id": "e4aec01d-dff0-4570-9fe3-abb20158d9e6",
   "metadata": {
    "hidden": true,
    "solution": "shown",
    "solution2": "hidden",
    "solution2_first": true,
    "solution_first": true,
    "tags": [
     "remove-input"
    ]
   },
   "source": [
    "**Hint**"
   ]
  },
  {
   "cell_type": "markdown",
   "id": "0bad4b96",
   "metadata": {
    "hidden": true,
    "tags": [
     "remove-input"
    ]
   },
   "source": [
    "```{toggle}\n",
    "Force can be calculated as:\n",
    "\n",
    "$$\n",
    "F=A\\mu \\frac {\\Delta v}{\\Delta y}\\\\\n",
    "$$\n",
    "\n",
    "Where the total Area is $1m^2$ because the area of one plate is $A= 0.5 m^2$.\n",
    "\n",
    "Solving for $\\Delta v$:\n",
    "\n",
    "$$\n",
    "\\Delta V =F\\frac {\\Delta y}{\\mu A_{total}}\n",
    "$$\n",
    "\n",
    "and $\\Delta y$ is half of the distance between the plane surfaces\n",
    "\n",
    "```"
   ]
  },
  {
   "cell_type": "markdown",
   "id": "98204338-76e5-43cf-8398-af3f89e01c3f",
   "metadata": {
    "hidden": true
   },
   "source": [
    "**Solution**"
   ]
  },
  {
   "cell_type": "code",
   "execution_count": 35,
   "id": "c0bc0562",
   "metadata": {
    "hidden": true,
    "scrolled": true,
    "tags": [
     "remove-input",
     "hide-output"
    ]
   },
   "outputs": [
    {
     "data": {
      "text/latex": [
       "\\[\n",
       "\\begin{aligned}\n",
       "L &= \\frac{ L }{ 2 } \\\\&= \\frac{ 0.005 }{ 2 } \\\\&= 0.005 \\; \\;\\textrm{(m)}\\\\[10pt]\n",
       "\\\\[10pt]\n",
       "A_{total} &= A \\cdot 2 \\\\&= 0.500 \\cdot 2 \\\\&= 1.000 \\; \\;\\textrm{(m2)}\\\\[10pt]\n",
       "\\\\[10pt]\n",
       "V &= F \\cdot \\frac{ L }{ \\mu \\cdot A_{total} } \\\\&= 10 \\cdot \\frac{ 0.005 }{ 0.180 \\cdot 1.000 } \\\\&= 0.278 \\; \\;\\textrm{(m/s)}\\\\[10pt]\n",
       "\\end{aligned}\n",
       "\\]"
      ],
      "text/plain": [
       "<IPython.core.display.Latex object>"
      ]
     },
     "metadata": {},
     "output_type": "display_data"
    }
   ],
   "source": [
    "%%render long 3\n",
    "L= L/2 #m\n",
    "A_total= A*2 #m2\n",
    "V= F*L/(mu*A_total) #m/s"
   ]
  },
  {
   "cell_type": "markdown",
   "id": "2663144b-96a3-4078-9d95-f128271d1b5a",
   "metadata": {
    "hidden": true,
    "tags": []
   },
   "source": [
    "---\n",
    "#### Question 7 (**)[R]"
   ]
  },
  {
   "cell_type": "markdown",
   "id": "abdbcd3e",
   "metadata": {
    "hidden": true,
    "tags": [
     "remove-input"
    ]
   },
   "source": [
    " A square block weighing 1.1 kN and with side lengths of 250 mm slides down a 20 °  incline on a film of oil 6.0 micrometre thick. Assuming a linear velocity profile in the oil, what is the terminal velocity of the block? The viscosity of the oil is 7 mPa.s.  {5.16 m/s}"
   ]
  },
  {
   "cell_type": "markdown",
   "id": "37d1ca3c-640d-4e53-a46d-8fd674366755",
   "metadata": {
    "hidden": true
   },
   "source": [
    "**Given:**"
   ]
  },
  {
   "cell_type": "markdown",
   "id": "aafc3b0b-bed8-4612-a916-6b8a9f06afc5",
   "metadata": {
    "hidden": true
   },
   "source": [
    "If we convert the weight to N, the length to m, and the thick to m:"
   ]
  },
  {
   "cell_type": "code",
   "execution_count": 36,
   "id": "70356a6d",
   "metadata": {
    "hidden": true,
    "scrolled": true,
    "tags": [
     "remove-input"
    ]
   },
   "outputs": [
    {
     "data": {
      "text/latex": [
       "\\[\n",
       "\\begin{aligned}\n",
       "W &= 1100.000000 \\; \\;\\textrm{(N)}\n",
       " &\\theta &= 20 \\; \\;\\textrm{(°)}\n",
       " &\\mathrm{dy} &= 0.000006 \\; \\;\\textrm{(m)}\n",
       "\\\\[10pt]\n",
       " \\mu &= 0.007000 \\; \\;\\textrm{(Pa.s)}\n",
       " &L &= 0.250000 \\; \\;\\textrm{(m)}\n",
       "\\end{aligned}\n",
       "\\]"
      ],
      "text/plain": [
       "<IPython.core.display.Latex object>"
      ]
     },
     "metadata": {},
     "output_type": "display_data"
    }
   ],
   "source": [
    "%%render param 6\n",
    "W=1.1*10**3 #N\n",
    "theta=20 #°\n",
    "dy=6*10**-6 #m\n",
    "mu=7*10**-3 #Pa.s\n",
    "L=250/1000 #m"
   ]
  },
  {
   "cell_type": "markdown",
   "id": "b25bdae3-8705-45d7-bfcc-d1541fe3d689",
   "metadata": {
    "hidden": true,
    "solution": "shown",
    "solution2": "hidden",
    "solution2_first": true,
    "solution_first": true,
    "tags": [
     "remove-input"
    ]
   },
   "source": [
    "**Hint**"
   ]
  },
  {
   "cell_type": "markdown",
   "id": "a0e348db",
   "metadata": {
    "hidden": true,
    "tags": [
     "remove-input"
    ]
   },
   "source": [
    "```{toggle}\n",
    "At terminal velocity, the block is moving at a constant speed, meaning the net force acting on it is zero. By considering the forces along each axis, the following equation can be derived:\n",
    "\n",
    "$$\n",
    "\\sum F_x=0\\\\\n",
    "$$\n",
    "\n",
    "$$\n",
    "F_\\mu-Wsin\\theta=0\\\\\n",
    "$$\n",
    "\n",
    "$$\n",
    "F_\\mu=Wsin\\theta\\\\\n",
    "$$\n",
    "\n",
    "$$\n",
    "F_\\mu=\\tau A\\\\\n",
    "$$\n",
    "\n",
    "$$\n",
    "F_\\mu=\\mu \\frac{dV}{dy} A\\\\\n",
    "$$\n",
    "\n",
    "$$\n",
    "\\mu \\frac{dV}{dy} A=Wsin\\theta\\\\\n",
    "$$\n",
    "```"
   ]
  },
  {
   "cell_type": "markdown",
   "id": "ba38ff41-be4c-4c51-b04e-8596fda3ee4b",
   "metadata": {
    "hidden": true
   },
   "source": [
    "**Solution**"
   ]
  },
  {
   "cell_type": "code",
   "execution_count": 37,
   "id": "0611f1d3",
   "metadata": {
    "hidden": true,
    "scrolled": true,
    "tags": [
     "remove-input",
     "hide-output"
    ]
   },
   "outputs": [
    {
     "data": {
      "text/latex": [
       "\\[\n",
       "\\begin{aligned}\n",
       "A &= \\left( L \\right) ^{ 2 } \\\\&= \\left( 0.25 \\right) ^{ 2 } \\\\&= 0.06 \\; \\;\\textrm{(m2)}\\\\[10pt]\n",
       "\\\\[10pt]\n",
       "\\mathrm{dV} &= \\frac{ W \\cdot \\sin { \\left( \\operatorname{radians} \\theta \\right) } \\cdot \\mathrm{dy} }{ A \\cdot \\mu } \\\\&= \\frac{ 1100.00 \\cdot \\sin { \\left( \\operatorname{radians} 20 \\right) } \\cdot 0.00 }{ 0.06 \\cdot 0.01 } \\\\&= 5.16 \\; \\;\\textrm{(m/s)}\\\\[10pt]\n",
       "\\end{aligned}\n",
       "\\]"
      ],
      "text/plain": [
       "<IPython.core.display.Latex object>"
      ]
     },
     "metadata": {},
     "output_type": "display_data"
    }
   ],
   "source": [
    "%%render long 2\n",
    "A= L**2 #m2\n",
    "dV= (W*sin(radians(theta))*dy)/(A*mu) #m/s"
   ]
  },
  {
   "cell_type": "markdown",
   "id": "deac56b7-53be-4826-881e-17c0f91bfc13",
   "metadata": {
    "hidden": true,
    "tags": []
   },
   "source": [
    "---\n",
    "#### Question 8 (***)"
   ]
  },
  {
   "cell_type": "markdown",
   "id": "0b600cd4",
   "metadata": {
    "hidden": true,
    "tags": [
     "remove-input"
    ]
   },
   "source": [
    " A hydraulic lift consist of a 280 mm diameter ram which slides in a 280.18 mm  cylinder, the annular space being filled with oil having a kinematic viscosity of 0.00042 m<sup>2</sup>/s and a specific gravity of 0.86. If the rate of travel of the ram is 0.22 m/s, find the frictional resistance when 2 m of the ram is engaged in the cylinder. {1553 N}"
   ]
  },
  {
   "cell_type": "markdown",
   "id": "fab4c35d-d4df-4963-8ef2-28c2da452b35",
   "metadata": {
    "hidden": true
   },
   "source": [
    "**Given:**"
   ]
  },
  {
   "cell_type": "markdown",
   "id": "c39c7e3c",
   "metadata": {
    "hidden": true,
    "tags": [
     "remove-input"
    ]
   },
   "source": [
    "If we convert the diameters of the hydraulic lift and the cilinder to m, we have the following parameters:"
   ]
  },
  {
   "cell_type": "code",
   "execution_count": 38,
   "id": "41edbddc",
   "metadata": {
    "hidden": true,
    "scrolled": true,
    "tags": [
     "remove-input"
    ]
   },
   "outputs": [
    {
     "data": {
      "text/latex": [
       "\\[\n",
       "\\begin{aligned}\n",
       "d_{lift} &= 0.2800 \\; \\;\\textrm{(m)}\n",
       " &d_{cyl} &= 0.2802 \\; \\;\\textrm{(m)}\n",
       " &\\nu &= 0.0004 \\; \\;\\textrm{(m2/s)}\n",
       "\\\\[10pt]\n",
       " s &= 0.8600 \\; \n",
       " &\\Delta_{V} &= 0.2200 \\; \\;\\textrm{(m/s)}\n",
       " &h &= 2 \\; \\;\\textrm{(m)}\n",
       "\\\\[10pt]\n",
       "\\end{aligned}\n",
       "\\]"
      ],
      "text/plain": [
       "<IPython.core.display.Latex object>"
      ]
     },
     "metadata": {},
     "output_type": "display_data"
    }
   ],
   "source": [
    "%%render param 4\n",
    "d_lift= 280/1000 #m\n",
    "d_cyl=280.18/1000 #m\n",
    "nu= 0.00042 #m2/s\n",
    "s=0.86 \n",
    "Delta_V=0.22 #m/s\n",
    "h=2 #m"
   ]
  },
  {
   "cell_type": "markdown",
   "id": "2cb6c332-07f3-423a-8534-d3cde933fee3",
   "metadata": {
    "hidden": true,
    "solution": "shown",
    "solution2": "hidden",
    "solution2_first": true,
    "solution_first": true,
    "tags": [
     "remove-input"
    ]
   },
   "source": [
    "**Hint**"
   ]
  },
  {
   "cell_type": "markdown",
   "id": "b532344c",
   "metadata": {
    "hidden": true,
    "tags": [
     "remove-input"
    ]
   },
   "source": [
    "```{toggle}\n",
    "The frition resistance can be calculated as $F=\\tau A$  \n",
    "\n",
    "Where $A=h \\cdot \\pi \\cdot d_{lift}$ and $\\tau = \\mu \\frac {\\Delta V}{\\Delta y}$  \n",
    "\n",
    "The dynamic viscosity can be calculated as $\\mu = \\nu \\cdot \\rho$, where $\\rho = s \\cdot \\rho_{water}$\n",
    "```"
   ]
  },
  {
   "cell_type": "markdown",
   "id": "caeef69b-0a26-4c0c-858f-4bf292ef906f",
   "metadata": {
    "hidden": true
   },
   "source": [
    "**Solution**"
   ]
  },
  {
   "cell_type": "code",
   "execution_count": 39,
   "id": "bafa6363",
   "metadata": {
    "hidden": true,
    "scrolled": true,
    "tags": [
     "remove-input",
     "hide-output"
    ]
   },
   "outputs": [
    {
     "data": {
      "text/latex": [
       "\\[\n",
       "\\begin{aligned}\n",
       "\\rho &= s \\cdot \\rho_{water} \\\\&= 0.860 \\cdot 1000 \\\\&= 860.000 \\; \\;\\textrm{(kg/m3)}\\\\[10pt]\n",
       "\\\\[10pt]\n",
       "\\mu &= \\nu \\cdot \\rho \\\\&= 0.000 \\cdot 860.000 \\\\&= 0.361 \\; \\;\\textrm{(Pa.s)}\\\\[10pt]\n",
       "\\\\[10pt]\n",
       "\\Delta_{y} &= \\frac{ d_{cyl} - d_{lift} }{ 2 } \\\\&= \\frac{ 0.280 - 0.280 }{ 2 } \\\\&= 0.000 \\; \\;\\textrm{(m)}\\\\[10pt]\n",
       "\\\\[10pt]\n",
       "\\tau &= \\mu \\cdot \\frac{ \\Delta_{V} }{ \\Delta_{y} } \\\\&= 0.361 \\cdot \\frac{ 0.220 }{ 0.000 } \\\\&= 882.933 \\; \\;\\textrm{(Pa)}\\\\[10pt]\n",
       "\\\\[10pt]\n",
       "A &= h \\cdot \\pi \\cdot d_{lift} \\\\&= 2 \\cdot 3.142 \\cdot 0.280 \\\\&= 1.759 \\; \\;\\textrm{(m2)}\\\\[10pt]\n",
       "\\\\[10pt]\n",
       "F &= \\tau \\cdot A \\\\&= 882.933 \\cdot 1.759 \\\\&= 1553.337 \\; \\;\\textrm{(N)}\\\\[10pt]\n",
       "\\end{aligned}\n",
       "\\]"
      ],
      "text/plain": [
       "<IPython.core.display.Latex object>"
      ]
     },
     "metadata": {},
     "output_type": "display_data"
    }
   ],
   "source": [
    "%%render long \n",
    "rho= s*rho_water #kg/m3\n",
    "mu= nu*rho #Pa.s\n",
    "Delta_y= (d_cyl-d_lift)/2 #m\n",
    "\n",
    "tau= mu*Delta_V/(Delta_y) #Pa\n",
    "A= h*pi*d_lift #m2\n",
    "F= tau*A #N"
   ]
  },
  {
   "cell_type": "markdown",
   "id": "2c27bced-9d2a-4130-8010-4146e6dfbb55",
   "metadata": {
    "hidden": true,
    "tags": []
   },
   "source": [
    "---\n",
    "#### Question 9 (***)"
   ]
  },
  {
   "cell_type": "markdown",
   "id": "ac5365c1",
   "metadata": {
    "hidden": true,
    "tags": [
     "remove-input"
    ]
   },
   "source": [
    "A piston with diameter of 127 mm, height 152 mm and weight 93.4 N slides free in a lubricated vertical pipe. The clearance between the piston and the pipe is 0.0254 mm. If the piston decelerates at 0.64 m/s<sup>2</sup> when its speed is 6.4 m/s, what is the viscosity of the oil? { 0.0065 N.s/m<sup>2</sup> }"
   ]
  },
  {
   "cell_type": "markdown",
   "id": "e627d20e-58d0-4617-a5cc-7eee5796d578",
   "metadata": {
    "hidden": true
   },
   "source": [
    "**Given:**"
   ]
  },
  {
   "cell_type": "markdown",
   "id": "caf0ccff-5f9f-4378-90ab-77f6553b0d37",
   "metadata": {
    "hidden": true,
    "tags": [
     "remove-input"
    ]
   },
   "source": [
    "If we convert the diameter, the height, and the clearance between the piston and the pipe to meters, we have the following parameters:"
   ]
  },
  {
   "cell_type": "code",
   "execution_count": 40,
   "id": "90b860af",
   "metadata": {
    "hidden": true,
    "scrolled": true,
    "tags": [
     "remove-input"
    ]
   },
   "outputs": [
    {
     "data": {
      "text/latex": [
       "\\[\n",
       "\\begin{aligned}\n",
       "d &= 0.127 \\; \\;\\textrm{(m)}\n",
       " &h &= 0.152 \\; \\;\\textrm{(m)}\n",
       " &W &= 93.400 \\; \\;\\textrm{(N)}\n",
       "\\\\[10pt]\n",
       " \\mathrm{dy} &= 0.000 \\; \\;\\textrm{(m)}\n",
       " &\\mathrm{dV} &= 0.640 \\; \\;\\textrm{(m/s2)}\n",
       " &a &= 0.640 \\; \\;\\textrm{(m/s2)}\n",
       "\\\\[10pt]\n",
       "\\end{aligned}\n",
       "\\]"
      ],
      "text/plain": [
       "<IPython.core.display.Latex object>"
      ]
     },
     "metadata": {},
     "output_type": "display_data"
    }
   ],
   "source": [
    "%%render param\n",
    "d=127/1000 #m\n",
    "h=152/1000 #m\n",
    "W=93.4 #N\n",
    "dy=0.0254/1000 #m\n",
    "dV=0.64 #m/s2\n",
    "a=0.64 #m/s2"
   ]
  },
  {
   "cell_type": "markdown",
   "id": "8867162d-d6ca-42af-9431-01aa3cc71b56",
   "metadata": {
    "hidden": true,
    "solution": "shown",
    "solution2": "hidden",
    "solution2_first": true,
    "solution_first": true,
    "tags": [
     "remove-input"
    ]
   },
   "source": [
    "**Hint**"
   ]
  },
  {
   "cell_type": "markdown",
   "id": "86e4190f",
   "metadata": {
    "hidden": true,
    "tags": [
     "remove-input"
    ]
   },
   "source": [
    "```{toggle}\n",
    "In this case, since there is a deceleration, the sum of forces along the axis must be set equal to mass times acceleration. Including all the forces in the equation, we have the following\n",
    "\n",
    "$$\n",
    "\\sum F=ma\\\\\n",
    "F_\\tau - W=ma\\\\\n",
    "$$\n",
    "\n",
    "and $F_\\tau$ is:\n",
    "\n",
    "$$\n",
    "F_\\tau=\\mu \\frac{dV}{dy} A\\\\\n",
    "\\mu \\frac{dV}{dy} A - W =ma\n",
    "$$\n",
    "```"
   ]
  },
  {
   "cell_type": "markdown",
   "id": "15b13536-d4a6-446f-ac06-c7fb0f003a52",
   "metadata": {
    "hidden": true
   },
   "source": [
    "**Solution**"
   ]
  },
  {
   "cell_type": "code",
   "execution_count": 41,
   "id": "5841755d",
   "metadata": {
    "hidden": true,
    "scrolled": true,
    "tags": [
     "remove-input",
     "hide-output"
    ]
   },
   "outputs": [
    {
     "data": {
      "text/latex": [
       "\\[\n",
       "\\begin{aligned}\n",
       "A &= 2 \\cdot \\pi \\cdot \\left( \\frac{ d }{ 2 } \\right) \\cdot h \\\\&= 2 \\cdot 3.142 \\cdot \\left( \\frac{ 0.127 }{ 2 } \\right) \\cdot 0.152 \\\\&= 0.061 \\; \\;\\textrm{(m2)}\\\\[10pt]\n",
       "\\\\[10pt]\n",
       "m &= \\frac{ W }{ g } \\\\&= \\frac{ 93.400 }{ 9.810 } \\\\&= 9.521 \\; \\;\\textrm{(kg)}\\\\[10pt]\n",
       "\\\\[10pt]\n",
       "\\mu &= \\left( \\frac{ m \\cdot a + W }{ A \\cdot \\mathrm{dV} } \\right) \\cdot \\mathrm{dy} \\\\&= \\left( \\frac{ 9.521 \\cdot 0.640 + 93.400 }{ 0.061 \\cdot 0.640 } \\right) \\cdot 0.000 \\\\&= 0.065 \\; \\;\\textrm{(N.s/m2)}\\\\[10pt]\n",
       "\\end{aligned}\n",
       "\\]"
      ],
      "text/plain": [
       "<IPython.core.display.Latex object>"
      ]
     },
     "metadata": {},
     "output_type": "display_data"
    }
   ],
   "source": [
    "%%render long\n",
    "A= 2*pi*(d/2)*h #m2\n",
    "m= W/g #kg\n",
    "\n",
    "mu= ((m*a+W)/(A*dV))*dy #N.s/m2"
   ]
  },
  {
   "cell_type": "markdown",
   "id": "39c88748-d134-4a5d-8ff6-de5c69e8fc32",
   "metadata": {
    "hidden": true,
    "tags": []
   },
   "source": [
    "---\n",
    "#### Question 10 (***)"
   ]
  },
  {
   "cell_type": "markdown",
   "id": "5041510b",
   "metadata": {
    "hidden": true,
    "tags": [
     "remove-input"
    ]
   },
   "source": [
    "A journal bearing consists of an 80.0 mm diameter shaft in an 80.4 mm sleeve 120 mm long. The clearance space is filled with oil with a viscosity of 0.11 N.s/m<sup>2</sup>. Calculate the torque required to keep the shaft turning at 150 rpm. {0.417 N.m}"
   ]
  },
  {
   "cell_type": "markdown",
   "id": "36f47fc3-dc44-40d2-baa8-3b64c0a2d517",
   "metadata": {
    "hidden": true
   },
   "source": [
    "**Given:**"
   ]
  },
  {
   "cell_type": "markdown",
   "id": "8e8e0d17",
   "metadata": {
    "hidden": true,
    "tags": [
     "remove-input"
    ]
   },
   "source": [
    "The given parameters are the following: (Note that the diameters and length were converted to meters)."
   ]
  },
  {
   "cell_type": "code",
   "execution_count": 42,
   "id": "d919755a",
   "metadata": {
    "hidden": true,
    "jupyter": {
     "source_hidden": true
    },
    "scrolled": true,
    "tags": [
     "remove-input"
    ]
   },
   "outputs": [
    {
     "data": {
      "text/latex": [
       "\\[\n",
       "\\begin{aligned}\n",
       "d_{journal} &= 0.080 \\; \\;\\textrm{(m)}\n",
       " &d_{sleeve} &= 0.080 \\; \\;\\textrm{(m)}\n",
       " &\\mathrm{long}_{sleeve} &= 0.120 \\; \\;\\textrm{(m)}\n",
       "\\\\[10pt]\n",
       " \\mu_{filled} &= 0.110 \\; \\;\\textrm{(Ns/m2)}\n",
       " &N_{rpm} &= 150 \\; \\;\\textrm{(rpm)}\n",
       "\\end{aligned}\n",
       "\\]"
      ],
      "text/plain": [
       "<IPython.core.display.Latex object>"
      ]
     },
     "metadata": {},
     "output_type": "display_data"
    }
   ],
   "source": [
    "%%render param\n",
    "\n",
    "d_journal= 80/1000 #m\n",
    "d_sleeve= 80.4/1000 #m\n",
    "long_sleeve= 120/1000 #m\n",
    "mu_filled=0.11 #Ns/m2\n",
    "N_rpm=150 #rpm\n"
   ]
  },
  {
   "cell_type": "markdown",
   "id": "0b511ce5-b922-4138-8762-cba5c1175e66",
   "metadata": {
    "hidden": true,
    "solution": "shown",
    "solution2": "hidden",
    "solution2_first": true,
    "solution_first": true,
    "tags": [
     "remove-input"
    ]
   },
   "source": [
    "**Hint**"
   ]
  },
  {
   "cell_type": "markdown",
   "id": "004e6960",
   "metadata": {
    "hidden": true,
    "tags": [
     "remove-input"
    ]
   },
   "source": [
    "```{toggle}\n",
    "\n",
    "The torque can be calculated as $Torque = F \\cdot r_{journal}$  \n",
    "\n",
    "Where \n",
    "\n",
    "$$\n",
    "\\tau= \\mu\\frac {\\Delta V}{\\Delta y}\n",
    "$$\n",
    "\n",
    "In the equation the velocity needs to be in m/s. For that reason, the units have to be converted. \n",
    "\n",
    "$$\n",
    "V= wr\n",
    "$$\n",
    "\n",
    "$$\n",
    "w= \\frac {2 \\pi N}{60}\n",
    "$$\n",
    "\n",
    "$$\n",
    "V=\\frac{r_{journal}\\cdot2\\cdot\\pi\\cdot N_{rpm}}{60}\n",
    "$$\n",
    "\n",
    "The torque is calculated by multiplying the force with the distance\n",
    "\n",
    "$$\n",
    "T= F \\cdot r_{journal}\n",
    "$$\n",
    "```"
   ]
  },
  {
   "cell_type": "markdown",
   "id": "158a0cdf-494e-42ba-871a-66ae11fe2966",
   "metadata": {
    "hidden": true
   },
   "source": [
    "**Solution**"
   ]
  },
  {
   "cell_type": "code",
   "execution_count": 43,
   "id": "e7c86120",
   "metadata": {
    "hidden": true,
    "scrolled": true,
    "tags": [
     "remove-input",
     "hide-output"
    ]
   },
   "outputs": [
    {
     "data": {
      "text/latex": [
       "\\[\n",
       "\\begin{aligned}\n",
       "r_{journal} &= \\frac{ d_{journal} }{ 2 } \\\\&= \\frac{ 0.080 }{ 2 } \\\\&= 0.040 \\; \\;\\textrm{(m)}\\\\[10pt]\n",
       "\\\\[10pt]\n",
       "V &= \\frac{ r_{journal} \\cdot 2 \\cdot \\pi \\cdot N_{rpm} }{ 60 } \\\\&= \\frac{ 0.040 \\cdot 2 \\cdot 3.142 \\cdot 150 }{ 60 } \\\\&= 0.628 \\; \\;\\textrm{(m/s)}\\\\[10pt]\n",
       "\\\\[10pt]\n",
       "\\Delta_{y} &= \\frac{ d_{sleeve} - d_{journal} }{ 2 } \\\\&= \\frac{ 0.080 - 0.080 }{ 2 } \\\\&= 0.000 \\; \\;\\textrm{(m)}\\\\[10pt]\n",
       "\\\\[10pt]\n",
       "\\tau &= \\mu_{filled} \\cdot \\frac{ V }{ \\Delta_{y} } \\\\&= 0.110 \\cdot \\frac{ 0.628 }{ 0.000 } \\\\&= 345.575 \\; \\;\\textrm{(Pa)}\\\\[10pt]\n",
       "\\\\[10pt]\n",
       "F &= \\tau \\cdot \\pi \\cdot d_{journal} \\cdot \\mathrm{long}_{sleeve} \\\\&= 345.575 \\cdot 3.142 \\cdot 0.080 \\cdot 0.120 \\\\&= 10.422 \\; \\;\\textrm{(N)}\\\\[10pt]\n",
       "\\\\[10pt]\n",
       "T &= F \\cdot r_{journal} \\\\&= 10.422 \\cdot 0.040 \\\\&= 0.417 \\; \\;\\textrm{(N.m)}\\\\[10pt]\n",
       "\\end{aligned}\n",
       "\\]"
      ],
      "text/plain": [
       "<IPython.core.display.Latex object>"
      ]
     },
     "metadata": {},
     "output_type": "display_data"
    }
   ],
   "source": [
    "%%render long\n",
    "r_journal= (d_journal)/2 #m\n",
    "\n",
    "V= (r_journal*2*pi*N_rpm)/60 #m/s\n",
    "\n",
    "Delta_y= ((d_sleeve-d_journal))/2 #m\n",
    "\n",
    "tau= mu_filled*V/Delta_y #Pa\n",
    "\n",
    "F= tau*pi*(d_journal)*(long_sleeve) #N\n",
    "\n",
    "T= F*r_journal #N.m\n"
   ]
  },
  {
   "cell_type": "markdown",
   "id": "225ae7a6",
   "metadata": {
    "tags": [
     "remove-input"
    ]
   },
   "source": [
    "### Surface Tension"
   ]
  },
  {
   "cell_type": "markdown",
   "id": "2dfbabde-a4ce-4f5a-9e24-39f7e001fc52",
   "metadata": {
    "tags": []
   },
   "source": [
    "---\n",
    "#### Question 11 (*)"
   ]
  },
  {
   "cell_type": "markdown",
   "id": "5fa0ab4f",
   "metadata": {
    "tags": [
     "remove-input"
    ]
   },
   "source": [
    "Calculate the capillary rise of pure water at 10 °C expected in an 0.8 mm diameter tube.  Assume that the contact angle of pure water is 0°. {37.8 mm}"
   ]
  },
  {
   "cell_type": "markdown",
   "id": "9c5f3ccc-918d-4568-8391-b0e4b34f7704",
   "metadata": {},
   "source": [
    "**Given:**"
   ]
  },
  {
   "cell_type": "markdown",
   "id": "e180f0d3-e687-495e-a950-9ff47ddcb786",
   "metadata": {
    "tags": [
     "remove-input"
    ]
   },
   "source": [
    "If we convert the diameter to meters, we have the following parameters:"
   ]
  },
  {
   "cell_type": "code",
   "execution_count": 44,
   "id": "816ee588",
   "metadata": {
    "scrolled": true,
    "tags": [
     "remove-input"
    ]
   },
   "outputs": [
    {
     "data": {
      "text/latex": [
       "\\[\n",
       "\\begin{aligned}\n",
       "d &= 0.0008 \\; \\;\\textrm{(m)}\n",
       " &T &= 10 \\; \\;\\textrm{(°C)}\n",
       "\\end{aligned}\n",
       "\\]"
      ],
      "text/plain": [
       "<IPython.core.display.Latex object>"
      ]
     },
     "metadata": {},
     "output_type": "display_data"
    }
   ],
   "source": [
    "%%render param 4\n",
    "d=0.8/1000 #m\n",
    "T=10 #°C"
   ]
  },
  {
   "cell_type": "markdown",
   "id": "f1181d27-b540-4c24-a837-5a5ab19d59c9",
   "metadata": {
    "solution": "shown",
    "solution2": "hidden",
    "solution2_first": true,
    "solution_first": true,
    "tags": [
     "remove-input"
    ]
   },
   "source": [
    "**Hint**"
   ]
  },
  {
   "cell_type": "markdown",
   "id": "64143313",
   "metadata": {
    "tags": [
     "remove-input"
    ]
   },
   "source": [
    "```{toggle}\n",
    "According to the exercise, and given that the height of the capillary rise can be calculated using the following equation:\n",
    "\n",
    "$$\n",
    "\\theta=0\\\\\n",
    "$$\n",
    "\n",
    "$$\n",
    "cos(\\theta)=1\\\\\n",
    "$$\n",
    "\n",
    "$$\n",
    "h= \\frac {2 \\sigma}{\\gamma \\cdot r}\n",
    "$$\n",
    "\n",
    "The values for $\\sigma$ and $\\gamma$ can be read from the table A.1 at 10 °C\n",
    "```"
   ]
  },
  {
   "cell_type": "markdown",
   "id": "cbc68019-2f71-40b6-9231-db6fcc8771c9",
   "metadata": {},
   "source": [
    "**Solution**"
   ]
  },
  {
   "cell_type": "code",
   "execution_count": 45,
   "id": "7eab9730",
   "metadata": {
    "scrolled": true,
    "tags": [
     "remove-input",
     "hide-output"
    ]
   },
   "outputs": [
    {
     "data": {
      "text/latex": [
       "\\[\n",
       "\\begin{aligned}\n",
       "\\sigma &= 0.07 \\; \\;\\textrm{(N/m)}\n",
       "\\\\[10pt]\n",
       "\\gamma &= 9804 \\; \\;\\textrm{(kN/m3)}\n",
       "\\\\[10pt]\n",
       "h_{m} &= \\frac{ 2 \\cdot \\sigma }{ \\gamma \\cdot \\left( \\frac{ d }{ 2 } \\right) } \\\\&= \\frac{ 2 \\cdot 0.07 }{ 9804 \\cdot \\left( \\frac{ 0.00 }{ 2 } \\right) } \\\\&= 0.04 \\; \\;\\textrm{(m)}\\\\[10pt]\n",
       "\\\\[10pt]\n",
       "h_{mm} &= h_{m} \\cdot 1000 \\\\&= 0.04 \\cdot 1000 \\\\&= 37.84 \\; \\;\\textrm{(mm)}\\\\[10pt]\n",
       "\\end{aligned}\n",
       "\\]"
      ],
      "text/plain": [
       "<IPython.core.display.Latex object>"
      ]
     },
     "metadata": {},
     "output_type": "display_data"
    }
   ],
   "source": [
    "%%render long 2\n",
    "sigma=0.0742 #N/m\n",
    "gamma= 9804 #kN/m3\n",
    "\n",
    "h_m= (2*sigma)/(gamma*(d/2)) #m\n",
    "h_mm= h_m*1000 #mm"
   ]
  },
  {
   "cell_type": "markdown",
   "id": "78b53759-a572-41c2-ad8a-2cf2989e18b6",
   "metadata": {
    "tags": []
   },
   "source": [
    "---\n",
    "#### Question 12 (*)[R]"
   ]
  },
  {
   "cell_type": "markdown",
   "id": "c629d29c",
   "metadata": {
    "tags": [
     "remove-input"
    ]
   },
   "source": [
    "A glass tube with diameter 1.5 mm is dipped vertically in water. Calculate from basic principles how high the water will rise in the tube due to capillary action. Take the coefficient of surface tension to be 0.0730 N/m and the angle of contact as 10°.  {19.5 mm}"
   ]
  },
  {
   "cell_type": "markdown",
   "id": "1fd2e424-3f52-465e-8fcb-0e452f7148d7",
   "metadata": {},
   "source": [
    "**Given:**"
   ]
  },
  {
   "cell_type": "markdown",
   "id": "6e2214f3",
   "metadata": {
    "tags": [
     "remove-input"
    ]
   },
   "source": [
    "If we convert the diameter to meters, we have the following given parameters:"
   ]
  },
  {
   "cell_type": "code",
   "execution_count": 46,
   "id": "2900e9ea",
   "metadata": {
    "jupyter": {
     "source_hidden": true
    },
    "scrolled": true,
    "tags": [
     "remove-input"
    ]
   },
   "outputs": [
    {
     "data": {
      "text/latex": [
       "\\[\n",
       "\\begin{aligned}\n",
       "d_{tube} &= 0.002 \\; \\;\\textrm{(m)}\n",
       " &\\sigma &= 0.073 \\; \\;\\textrm{(N/m)}\n",
       " &\\theta &= 10 \\; \\;\\textrm{(°)}\n",
       "\\\\[10pt]\n",
       "\\end{aligned}\n",
       "\\]"
      ],
      "text/plain": [
       "<IPython.core.display.Latex object>"
      ]
     },
     "metadata": {},
     "output_type": "display_data"
    }
   ],
   "source": [
    "%%render param\n",
    "d_tube=1.5/1000 #m\n",
    "sigma=0.0730 #N/m\n",
    "theta=10 #°"
   ]
  },
  {
   "cell_type": "markdown",
   "id": "0f128587-860f-417f-aca5-9b1b2b66257c",
   "metadata": {
    "solution": "shown",
    "solution2": "hidden",
    "solution2_first": true,
    "solution_first": true,
    "tags": [
     "remove-input"
    ]
   },
   "source": [
    "**Hint**"
   ]
  },
  {
   "cell_type": "markdown",
   "id": "e2ed86a4",
   "metadata": {
    "tags": [
     "remove-input"
    ]
   },
   "source": [
    "```{toggle}\n",
    "By equating the lifting force created by surface tension to the gravity force, we obtain the following:  \n",
    "\n",
    "$$ \n",
    "\\sum F =0 \\\\ \n",
    "$$\n",
    "\n",
    "$$\n",
    "F_{\\sigma}-W=0\\\\\n",
    "$$\n",
    "\n",
    "$$\n",
    "F_{\\sigma}=\\sigma cos(\\theta) \\pi d\\\\\n",
    "$$\n",
    "\n",
    "$$\n",
    "W = \\frac {\\pi d^2 h\\rho g}{4}\\\\\n",
    "$$\n",
    "\n",
    "Replacing the $F_{\\sigma}$ and $W$\n",
    "\n",
    "$$\n",
    "\\sigma cos(\\theta) \\pi d-\\frac {\\pi d^2 h\\rho g}{4}=0\n",
    "$$\n",
    "\n",
    "Calculating $F_{sigma}$ and solving for $h$:\n",
    "```"
   ]
  },
  {
   "cell_type": "markdown",
   "id": "12e5487c-20e1-4153-b3f3-e9c46c589263",
   "metadata": {},
   "source": [
    "**Solution**"
   ]
  },
  {
   "cell_type": "code",
   "execution_count": 47,
   "id": "a3d4541a",
   "metadata": {
    "scrolled": true,
    "tags": [
     "remove-input",
     "hide-output"
    ]
   },
   "outputs": [
    {
     "data": {
      "text/latex": [
       "\\[\n",
       "\\begin{aligned}\n",
       "\\theta_{rad} &= \\operatorname{radians} { \\left( \\theta \\right) } \\\\&= \\operatorname{radians} { \\left( 10 \\right) } \\\\&= 0.1745 \\; \\;\\textrm{(rad)}\\\\[10pt]\n",
       "\\\\[10pt]\n",
       "F_{\\sigma} &= \\sigma \\cdot \\pi \\cdot d_{tube} \\cdot \\cos \\left( \\theta_{rad} \\right) \\\\&= 0.0730 \\cdot 3.1416 \\cdot 0.0015 \\cdot \\cos \\left( 0.1745 \\right) \\\\&= 0.0003 \\; \\;\\textrm{(N)}\\\\[10pt]\n",
       "\\\\[10pt]\n",
       "h &= F_{\\sigma} \\cdot \\frac{ 4 }{ \\left( d_{tube} \\right) ^{ 2 } \\cdot \\rho_{water} \\cdot g \\cdot \\pi } \\\\&= 0.0003 \\cdot \\frac{ 4 }{ \\left( 0.0015 \\right) ^{ 2 } \\cdot 1000 \\cdot 9.8100 \\cdot 3.1416 } \\\\&= 0.0195 \\; \\;\\textrm{(m)}\\\\[10pt]\n",
       "\\\\[10pt]\n",
       "h_{mm} &= h_{} \\\\&= h \\cdot 1000 \\\\&= 19.5422 \\\\&= 0.0195 \\cdot 1000 \\\\&= 19.5422 \\; \\;\\textrm{(mm)}\\\\[10pt]\n",
       "\\end{aligned}\n",
       "\\]"
      ],
      "text/plain": [
       "<IPython.core.display.Latex object>"
      ]
     },
     "metadata": {},
     "output_type": "display_data"
    }
   ],
   "source": [
    "%%render long 4\n",
    "theta_rad = radians(theta) #rad\n",
    "\n",
    "F_sigma= sigma*pi*d_tube*cos(theta_rad) #N\n",
    "h= F_sigma*4/(d_tube**2*rho_water*g*pi) #m\n",
    "h_mm = h_=h*1000 #mm"
   ]
  },
  {
   "cell_type": "markdown",
   "id": "7bca6838-f80c-478e-85ec-240e513ee678",
   "metadata": {
    "tags": []
   },
   "source": [
    "---\n",
    "#### Question 13 (*)"
   ]
  },
  {
   "cell_type": "markdown",
   "id": "eb054e40",
   "metadata": {
    "tags": [
     "remove-input"
    ]
   },
   "source": [
    "A glass tube with diameter 1 mm is dipped vertically in water. Calculate from basic principles how high the water will rise in the tube due to capillary action. Take the coefficient of surface tension to be 0.0730 N/m and the angle of contact as 20°.  {28 mm}"
   ]
  },
  {
   "cell_type": "markdown",
   "id": "758ebaa0-e740-44d8-84b7-eb4d6353129e",
   "metadata": {},
   "source": [
    "**Given:**"
   ]
  },
  {
   "cell_type": "markdown",
   "id": "80d2fd06-6a0e-4a65-a32a-6956f22185d4",
   "metadata": {
    "tags": [
     "remove-input"
    ]
   },
   "source": [
    "If we convert the diameter to meters, we have the following parameters:"
   ]
  },
  {
   "cell_type": "code",
   "execution_count": 48,
   "id": "061b5fca",
   "metadata": {
    "jupyter": {
     "source_hidden": true
    },
    "scrolled": true,
    "tags": [
     "remove-input"
    ]
   },
   "outputs": [
    {
     "data": {
      "text/latex": [
       "\\[\n",
       "\\begin{aligned}\n",
       "d &= 0.001 \\; \\;\\textrm{(m)}\n",
       " &\\sigma &= 0.073 \\; \\;\\textrm{(N/m)}\n",
       " &\\theta &= 20 \\; \\;\\textrm{(°)}\n",
       "\\\\[10pt]\n",
       "\\end{aligned}\n",
       "\\]"
      ],
      "text/plain": [
       "<IPython.core.display.Latex object>"
      ]
     },
     "metadata": {},
     "output_type": "display_data"
    }
   ],
   "source": [
    "%%render param\n",
    "d=1/1000 #m\n",
    "sigma=0.073 #N/m\n",
    "theta=20 #°"
   ]
  },
  {
   "cell_type": "markdown",
   "id": "b50d9c26-a996-43b5-bade-3767e5e87abd",
   "metadata": {
    "solution": "shown",
    "solution2": "hidden",
    "solution2_first": true,
    "solution_first": true,
    "tags": [
     "remove-input"
    ]
   },
   "source": [
    "**Hint**"
   ]
  },
  {
   "cell_type": "markdown",
   "id": "9163fab2",
   "metadata": {
    "tags": [
     "remove-input"
    ]
   },
   "source": [
    "```{toggle}\n",
    "To calculate the height of the water, it is necessary to perform a force balance along that axis, and include all the forces.\n",
    "\n",
    "$$\n",
    "\\sum F_y=0\\\\\n",
    "$$\n",
    "\n",
    "$$\n",
    "F_\\sigma - W= 0\\\\\n",
    "$$\n",
    "\n",
    "$$\n",
    "\\sigma cos(\\theta) \\cdot  \\pi \\cdot d - \\frac{\\pi \\cdot d^2}{4} \\cdot h  \\cdot \\rho \\cdot g =0\n",
    "$$\n",
    "```"
   ]
  },
  {
   "cell_type": "markdown",
   "id": "0fb57945-372b-48c7-90d9-b10e1345df88",
   "metadata": {},
   "source": [
    "**Solution**"
   ]
  },
  {
   "cell_type": "code",
   "execution_count": 49,
   "id": "9c69bc53",
   "metadata": {
    "jupyter": {
     "source_hidden": true
    },
    "scrolled": true,
    "tags": [
     "remove-input",
     "hide-output"
    ]
   },
   "outputs": [
    {
     "data": {
      "text/latex": [
       "\\[\n",
       "\\begin{aligned}\n",
       "h &= \\frac{ 4 \\cdot \\sigma \\cdot \\cos { \\left( \\operatorname{radians} \\theta \\right) } }{ d \\cdot \\rho_{water} \\cdot g } \\\\&= \\frac{ 4 \\cdot 0.073 \\cdot \\cos { \\left( \\operatorname{radians} 20 \\right) } }{ 0.001 \\cdot 1000 \\cdot 9.810 } \\\\&= 0.028 \\; \\;\\textrm{(m)}\\\\[10pt]\n",
       "\\\\[10pt]\n",
       "h_{mm} &= h \\cdot 1000 \\\\&= 0.028 \\cdot 1000 \\\\&= 27.970 \\; \\;\\textrm{(mm)}\\\\[10pt]\n",
       "\\end{aligned}\n",
       "\\]"
      ],
      "text/plain": [
       "<IPython.core.display.Latex object>"
      ]
     },
     "metadata": {},
     "output_type": "display_data"
    }
   ],
   "source": [
    "%%render long\n",
    "\n",
    "h= (4*sigma*cos(radians(theta)))/(d*rho_water*g) #m\n",
    "h_mm= h*1000 #mm"
   ]
  }
 ],
 "metadata": {
  "celltoolbar": "Tags",
  "hide_input": false,
  "kernelspec": {
   "display_name": "Python 3 (ipykernel)",
   "language": "python",
   "name": "python3"
  },
  "language_info": {
   "codemirror_mode": {
    "name": "ipython",
    "version": 3
   },
   "file_extension": ".py",
   "mimetype": "text/x-python",
   "name": "python",
   "nbconvert_exporter": "python",
   "pygments_lexer": "ipython3",
   "version": "3.12.4"
  },
  "toc": {
   "base_numbering": 1,
   "nav_menu": {},
   "number_sections": true,
   "sideBar": true,
   "skip_h1_title": false,
   "title_cell": "Table of Contents",
   "title_sidebar": "Contents",
   "toc_cell": false,
   "toc_position": {
    "height": "calc(100% - 180px)",
    "left": "10px",
    "top": "150px",
    "width": "239.965px"
   },
   "toc_section_display": true,
   "toc_window_display": false
  }
 },
 "nbformat": 4,
 "nbformat_minor": 5
}
