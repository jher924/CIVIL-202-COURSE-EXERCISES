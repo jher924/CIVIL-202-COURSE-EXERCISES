{
 "cells": [
  {
   "cell_type": "markdown",
   "id": "e60ad598",
   "metadata": {},
   "source": [
    "# Module 1:Fluid properties"
   ]
  },
  {
   "cell_type": "markdown",
   "id": "46c3f940",
   "metadata": {
    "heading_collapsed": true
   },
   "source": [
    "## Problems for Lecture 2: Basic\tfluid\tproperties,\tIdeal\tgas\tlaw\tand\tCompressibility\tof\tliquids"
   ]
  },
  {
   "cell_type": "code",
   "execution_count": 8,
   "id": "4ce0a30b",
   "metadata": {
    "hidden": true
   },
   "outputs": [],
   "source": [
    "!pip install handcalcs -q\n",
    "!pip install Pillow -q"
   ]
  },
  {
   "cell_type": "code",
   "execution_count": 9,
   "id": "db226bc6",
   "metadata": {
    "hidden": true
   },
   "outputs": [],
   "source": [
    "import handcalcs.render\n",
    "from sympy import symbols, Eq, solve\n",
    "from math import sqrt,pi, cos, sin, radians,asin,atan,degrees, tan, log10\n",
    "from PIL import Image"
   ]
  },
  {
   "cell_type": "markdown",
   "id": "bc849ed7",
   "metadata": {
    "hidden": true
   },
   "source": [
    "Global variables:"
   ]
  },
  {
   "cell_type": "code",
   "execution_count": 10,
   "id": "c9057504",
   "metadata": {
    "hidden": true
   },
   "outputs": [
    {
     "data": {
      "text/latex": [
       "\\[\n",
       "\\begin{aligned}\n",
       "g &= 9.810 \\; \\;\\textrm{(m/s2)}\n",
       " &\\rho_{water} &= 1000 \\; \\;\\textrm{(kg/m3)}\n",
       " &\\rho_{Hg} &= 13600 \\; \\;\\textrm{(kg/m3)}\n",
       "\\\\[10pt]\n",
       " p_{atm} &= 101325 \\; \\;\\textrm{(Pa)}\n",
       "\\end{aligned}\n",
       "\\]"
      ],
      "text/plain": [
       "<IPython.core.display.Latex object>"
      ]
     },
     "metadata": {},
     "output_type": "display_data"
    }
   ],
   "source": [
    "%%render param\n",
    "g=9.81 #m/s2\n",
    "rho_water=1000 #kg/m3\n",
    "rho_Hg=13600 #kg/m3\n",
    "p_atm=101325 #Pa"
   ]
  },
  {
   "cell_type": "markdown",
   "id": "75406ea3",
   "metadata": {
    "heading_collapsed": true,
    "hidden": true
   },
   "source": [
    "### Basic\tfluid\tproperties"
   ]
  },
  {
   "cell_type": "markdown",
   "id": "643b0aa5",
   "metadata": {
    "hidden": true
   },
   "source": [
    "1.*If the specific volume of a gas is 0.70 m<sup>3 </sup>/kg, what is its specific weight? {14.01 N/m<sup>3</sup>}"
   ]
  },
  {
   "cell_type": "markdown",
   "id": "e89d0ab0",
   "metadata": {
    "hidden": true
   },
   "source": [
    "Given:"
   ]
  },
  {
   "cell_type": "code",
   "execution_count": 11,
   "id": "0b8e89b7",
   "metadata": {
    "hidden": true
   },
   "outputs": [
    {
     "data": {
      "text/latex": [
       "\\[\n",
       "\\begin{aligned}\n",
       "v &= 0.700 \\; \\;\\textrm{(m3/kg)}\n",
       "\\end{aligned}\n",
       "\\]"
      ],
      "text/plain": [
       "<IPython.core.display.Latex object>"
      ]
     },
     "metadata": {},
     "output_type": "display_data"
    }
   ],
   "source": [
    "%%render param\n",
    "v=0.7 #m3/kg"
   ]
  },
  {
   "cell_type": "markdown",
   "id": "1c3a7d11",
   "metadata": {
    "hidden": true
   },
   "source": [
    "The specific weigth can be calculated as $\\gamma=\\rho \\cdot g$  \n",
    "$\\rho$ can be calculated as $\\rho=1/\\nu$ and we know $g$=9.81 m/s<sup>2 </sup>\n",
    "\n"
   ]
  },
  {
   "cell_type": "code",
   "execution_count": 12,
   "id": "5a532f71",
   "metadata": {
    "hidden": true,
    "scrolled": true
   },
   "outputs": [
    {
     "data": {
      "text/latex": [
       "\\[\n",
       "\\begin{aligned}\n",
       "\\rho &= \\frac{ 1 }{ v } \\\\&= \\frac{ 1 }{ 0.700 } \\\\&= 1.429 \\; \\;\\textrm{(kg/m3)}\\\\[10pt]\n",
       "\\\\[10pt]\n",
       "\\gamma &= \\rho \\cdot g \\\\&= 1.429 \\cdot 9.810 \\\\&= 14.014 \\; \\;\\textrm{(N/m3)}\\\\[10pt]\n",
       "\\end{aligned}\n",
       "\\]"
      ],
      "text/plain": [
       "<IPython.core.display.Latex object>"
      ]
     },
     "metadata": {},
     "output_type": "display_data"
    }
   ],
   "source": [
    "%%render long\n",
    "rho= 1/v #kg/m3\n",
    "\n",
    "gamma= rho*g #N/m3"
   ]
  },
  {
   "cell_type": "markdown",
   "id": "31613120",
   "metadata": {
    "hidden": true
   },
   "source": [
    "2.*[R] A reservoir of glycerin has a mass of 1200 kg and a volume of 0.952 m<sup>3. </sup> Find the \n",
    "glycerin’s weight, mass density, specific weight and specific gravity. {11.77 kN; 1261 kg/m<sup>3</sup>; 12.36 kN/m<sup>3</sup>; 1.261}"
   ]
  },
  {
   "cell_type": "markdown",
   "id": "3ce59898",
   "metadata": {
    "hidden": true
   },
   "source": [
    "Given:"
   ]
  },
  {
   "cell_type": "code",
   "execution_count": 13,
   "id": "6dd0a147",
   "metadata": {
    "hidden": true
   },
   "outputs": [
    {
     "data": {
      "text/latex": [
       "\\[\n",
       "\\begin{aligned}\n",
       "m &= 1200 \\; \\;\\textrm{(kg)}\n",
       " &\\mathrm{Vol} &= 0.952 \\; \\;\\textrm{(m3)}\n",
       "\\end{aligned}\n",
       "\\]"
      ],
      "text/plain": [
       "<IPython.core.display.Latex object>"
      ]
     },
     "metadata": {},
     "output_type": "display_data"
    }
   ],
   "source": [
    "%%render \n",
    "#parameter\n",
    "m=1200 #kg\n",
    "Vol=0.952 #m3\n",
    "\n"
   ]
  },
  {
   "cell_type": "markdown",
   "id": "2a4899e8",
   "metadata": {
    "hidden": true
   },
   "source": [
    "The weight can be calculated as $W=  m*g$\n",
    "\n",
    "The specific weigth can be calculated as $\\gamma=\\rho \\cdot g$  \n",
    "\n",
    "$\\rho$ can be calculated as $\\rho=\\frac{m}{Vol}$ \n",
    "\n",
    "The specific gravity is $s= \\frac {\\rho_{fluid}}{\\rho_{water}}$\n"
   ]
  },
  {
   "cell_type": "code",
   "execution_count": 14,
   "id": "9e068fcc",
   "metadata": {
    "hidden": true
   },
   "outputs": [
    {
     "data": {
      "text/latex": [
       "\\[\n",
       "\\begin{aligned}\n",
       "W &= m \\cdot g \\\\&= 1200 \\cdot 9.810 \\\\&= 11772.000 \\; \\;\\textrm{(N)}\\\\[10pt]\n",
       "\\\\[10pt]\n",
       "\\rho_{glycerin} &= \\frac{ m }{ \\mathrm{Vol} } \\\\&= \\frac{ 1200 }{ 0.952 } \\\\&= 1260.504 \\; \\;\\textrm{(kg/m3)}\\\\[10pt]\n",
       "\\\\[10pt]\n",
       "\\gamma_{glycerin} &= \\rho_{glycerin} \\cdot g \\\\&= 1260.504 \\cdot 9.810 \\\\&= 12365.546 \\; \\;\\textrm{(N/m3)}\\\\[10pt]\n",
       "\\\\[10pt]\n",
       "s_{glycerin} &= \\frac{ \\rho_{glycerin} }{ \\rho_{water} } \\\\&= \\frac{ 1260.504 }{ 1000 } \\\\&= 1.261  \\\\[10pt]\n",
       "\\end{aligned}\n",
       "\\]"
      ],
      "text/plain": [
       "<IPython.core.display.Latex object>"
      ]
     },
     "metadata": {},
     "output_type": "display_data"
    }
   ],
   "source": [
    "%%render\n",
    "#long\n",
    "W= m*g #N\n",
    "rho_glycerin= m/Vol #kg/m3\n",
    "gamma_glycerin= rho_glycerin*g #N/m3\n",
    "s_glycerin= rho_glycerin/rho_water "
   ]
  },
  {
   "cell_type": "markdown",
   "id": "8f25b60c",
   "metadata": {
    "hidden": true
   },
   "source": [
    "3.* The volume of a rock is found to be 0.00015 m<sup>3</sup>. If the rock’s specific gravity is 2.60, what is its weight? {3.82 N}"
   ]
  },
  {
   "cell_type": "markdown",
   "id": "01802cab",
   "metadata": {
    "hidden": true
   },
   "source": [
    "Given:"
   ]
  },
  {
   "cell_type": "code",
   "execution_count": 15,
   "id": "814f5a57",
   "metadata": {
    "hidden": true,
    "scrolled": true
   },
   "outputs": [
    {
     "data": {
      "text/latex": [
       "\\[\n",
       "\\begin{aligned}\n",
       "\\mathrm{Vol} &= 0.00015 \\; \\;\\textrm{(m3)}\n",
       " &s &= 2.60000 \\;\n",
       "\\end{aligned}\n",
       "\\]"
      ],
      "text/plain": [
       "<IPython.core.display.Latex object>"
      ]
     },
     "metadata": {},
     "output_type": "display_data"
    }
   ],
   "source": [
    "%%render param 5\n",
    "Vol=0.00015 #m3\n",
    "s=2.6\n"
   ]
  },
  {
   "cell_type": "markdown",
   "id": "44ea2684",
   "metadata": {
    "hidden": true
   },
   "source": [
    "The weight of the rock can be calculated as $W=\\rho \\cdot g \\cdot Vol$  \n",
    "The volume and $g$ is known.\n",
    "As we have the specific gravity, $\\rho$ can be calculated as $\\rho = \\rho_{water} \\cdot s$"
   ]
  },
  {
   "cell_type": "code",
   "execution_count": 16,
   "id": "7a564abe",
   "metadata": {
    "hidden": true,
    "scrolled": true
   },
   "outputs": [
    {
     "data": {
      "text/latex": [
       "\\[\n",
       "\\begin{aligned}\n",
       "\\rho &= \\rho_{water} \\cdot s \\\\&= 1000 \\cdot 2.6 \\\\&= 2600.0 \\; \\;\\textrm{(kg/m3)}\\\\[10pt]\n",
       "\\\\[10pt]\n",
       "W &= \\rho \\cdot g \\cdot \\mathrm{Vol} \\\\&= 2600.0 \\cdot 9.8 \\cdot 0.0 \\\\&= 3.8 \\; \\;\\textrm{(N)}\\\\[10pt]\n",
       "\\end{aligned}\n",
       "\\]"
      ],
      "text/plain": [
       "<IPython.core.display.Latex object>"
      ]
     },
     "metadata": {},
     "output_type": "display_data"
    }
   ],
   "source": [
    "%%render long 1\n",
    "rho= rho_water*s #kg/m3\n",
    "\n",
    "W= rho*g*Vol #N"
   ]
  },
  {
   "cell_type": "markdown",
   "id": "58cc769a",
   "metadata": {
    "hidden": true
   },
   "source": [
    "4.* A certain gas weighs 16.0 N/m<sup>3 </sup> at a certain temperature and pressure. What are the values of its density, specific volume, and specific gravity relative to air weighing 12.0 N/m<sup>3 </sup>? {a) 1.631 kg/ mm<sup>3</sup> b) 0.613 mm<sup>3 </sup>/kg c)1.33}"
   ]
  },
  {
   "cell_type": "markdown",
   "id": "ec70f396",
   "metadata": {
    "hidden": true
   },
   "source": [
    "Given:"
   ]
  },
  {
   "cell_type": "code",
   "execution_count": 17,
   "id": "79019aa3",
   "metadata": {
    "hidden": true
   },
   "outputs": [
    {
     "data": {
      "text/latex": [
       "\\[\n",
       "\\begin{aligned}\n",
       "\\gamma_{gas} &= 16 \\; \\;\\textrm{(N/m3)}\n",
       " &\\gamma_{air} &= 12 \\; \\;\\textrm{(N/m3)}\n",
       "\\end{aligned}\n",
       "\\]"
      ],
      "text/plain": [
       "<IPython.core.display.Latex object>"
      ]
     },
     "metadata": {},
     "output_type": "display_data"
    }
   ],
   "source": [
    "%%render param\n",
    "gamma_gas=16 #N/m3\n",
    "gamma_air=12 #N/m3"
   ]
  },
  {
   "cell_type": "markdown",
   "id": "6dfc282e",
   "metadata": {
    "hidden": true
   },
   "source": [
    "$\\rho$ can be calculated as $\\rho=\\frac{\\gamma}{g}$ \n",
    "\n",
    "The specific volume can be calculated as $v=\\frac {1}{\\rho_{gas}}$  \n",
    "\n",
    "The specific gravity is $s= \\frac {\\rho_{fluid}}{\\rho_{air}}$"
   ]
  },
  {
   "cell_type": "code",
   "execution_count": 18,
   "id": "f0bc7dc6",
   "metadata": {
    "hidden": true
   },
   "outputs": [
    {
     "data": {
      "text/latex": [
       "\\[\n",
       "\\begin{aligned}\n",
       "\\rho_{gas} &= \\frac{ \\gamma_{gas} }{ g } \\\\&= \\frac{ 16 }{ 9.810 } \\\\&= 1.631 \\; \\;\\textrm{(kg/m3)}\\\\[10pt]\n",
       "\\\\[10pt]\n",
       "v &= \\frac{ 1 }{ \\rho_{gas} } \\\\&= \\frac{ 1 }{ 1.631 } \\\\&= 0.613 \\; \\;\\textrm{(m3/kg)}\\\\[10pt]\n",
       "\\\\[10pt]\n",
       "s &= \\frac{ \\gamma_{gas} }{ \\gamma_{air} } \\\\&= \\frac{ 16 }{ 12 } \\\\&= 1.333  \\\\[10pt]\n",
       "\\end{aligned}\n",
       "\\]"
      ],
      "text/plain": [
       "<IPython.core.display.Latex object>"
      ]
     },
     "metadata": {},
     "output_type": "display_data"
    }
   ],
   "source": [
    "%%render\n",
    "#long\n",
    "rho_gas= gamma_gas/g #kg/m3\n",
    "v= 1/rho_gas #m3/kg\n",
    "s= gamma_gas/gamma_air"
   ]
  },
  {
   "cell_type": "markdown",
   "id": "07a13698",
   "metadata": {
    "hidden": true
   },
   "source": [
    "5.* A 3-litre container is filled with a liquid that has a specific gravity of 0.9. Determine mass density, weight and specific volume of the fluid. {900 kg/m<sup>3</sup>; 26.5 N; 0.00111 m<sup>3</sup>/kg}"
   ]
  },
  {
   "cell_type": "markdown",
   "id": "f8779126",
   "metadata": {
    "hidden": true
   },
   "source": [
    "Given:"
   ]
  },
  {
   "cell_type": "code",
   "execution_count": 19,
   "id": "05b7f78e",
   "metadata": {
    "hidden": true
   },
   "outputs": [
    {
     "data": {
      "text/latex": [
       "\\[\n",
       "\\begin{aligned}\n",
       "s &= 0.900 \\;\n",
       "\\end{aligned}\n",
       "\\]"
      ],
      "text/plain": [
       "<IPython.core.display.Latex object>"
      ]
     },
     "metadata": {},
     "output_type": "display_data"
    }
   ],
   "source": [
    "%%render param\n",
    "s=0.9\n"
   ]
  },
  {
   "cell_type": "markdown",
   "id": "1becfac0",
   "metadata": {
    "hidden": true
   },
   "source": [
    "And the volumen in m<sup>3</sup> :"
   ]
  },
  {
   "cell_type": "code",
   "execution_count": 20,
   "id": "13ea450e",
   "metadata": {
    "hidden": true
   },
   "outputs": [
    {
     "data": {
      "text/latex": [
       "\\[\n",
       "\\begin{aligned}\n",
       "\\mathrm{Vol} &= 0.003 \\; \\;\\textrm{(m3)}\n",
       "\\end{aligned}\n",
       "\\]"
      ],
      "text/plain": [
       "<IPython.core.display.Latex object>"
      ]
     },
     "metadata": {},
     "output_type": "display_data"
    }
   ],
   "source": [
    "%%render param\n",
    "Vol=3/1000 #m3"
   ]
  },
  {
   "cell_type": "markdown",
   "id": "070d6b15",
   "metadata": {
    "hidden": true
   },
   "source": [
    "The mass density can be calculated as $\\rho = \\rho_{water} \\cdot s$  \n",
    "The weight can be estimated as $W=\\rho \\cdot g \\cdot Vol$  \n",
    "The specific volume is $\\nu = 1/\\rho$"
   ]
  },
  {
   "cell_type": "code",
   "execution_count": 21,
   "id": "83113f47",
   "metadata": {
    "hidden": true
   },
   "outputs": [
    {
     "data": {
      "text/latex": [
       "\\[\n",
       "\\begin{aligned}\n",
       "\\rho &= \\rho_{water} \\cdot s \\\\&= 1000 \\cdot 0.9000 \\\\&= 900.0000 \\; \\;\\textrm{(kg/m3)}\\\\[10pt]\n",
       "\\\\[10pt]\n",
       "W &= \\rho \\cdot g \\cdot \\mathrm{Vol} \\\\&= 900.0000 \\cdot 9.8100 \\cdot 0.0030 \\\\&= 26.4870 \\; \\;\\textrm{(N)}\\\\[10pt]\n",
       "\\\\[10pt]\n",
       "v &= \\frac{ 1 }{ \\rho } \\\\&= \\frac{ 1 }{ 900.0000 } \\\\&= 0.0011 \\; \\;\\textrm{(m3/kg)}\\\\[10pt]\n",
       "\\end{aligned}\n",
       "\\]"
      ],
      "text/plain": [
       "<IPython.core.display.Latex object>"
      ]
     },
     "metadata": {},
     "output_type": "display_data"
    }
   ],
   "source": [
    "%%render long 4\n",
    "rho= rho_water*s #kg/m3\n",
    "W= rho*g*Vol #N\n",
    "v= 1/rho #m3/kg"
   ]
  },
  {
   "cell_type": "markdown",
   "id": "676d1595",
   "metadata": {
    "hidden": true
   },
   "source": [
    "6.**[R] A fluid with a specific gravity of 1.2 moves through a pipe at rate of 2 000 kg every 6 hours. Calculate the a) mass density, b) specific weight and c) volumetric flowrate of the fluid. (1200 kg/m<sup>3 </sup>; 11 772 N/m<sup>3 </sup>; 7.716 x 10-5 m<sup>3 </sup>/s)"
   ]
  },
  {
   "cell_type": "markdown",
   "id": "4e66b6f2",
   "metadata": {
    "hidden": true
   },
   "source": [
    "Given:"
   ]
  },
  {
   "cell_type": "code",
   "execution_count": 22,
   "id": "31ef5508",
   "metadata": {
    "hidden": true
   },
   "outputs": [
    {
     "data": {
      "text/latex": [
       "\\[\n",
       "\\begin{aligned}\n",
       "S_{fluid} &= 1.200 \\; \n",
       " &m &= 2000 \\; \\;\\textrm{(kg)}\n",
       " &t &= 6 \\; \\;\\textrm{(h)}\n",
       "\\\\[10pt]\n",
       "\\end{aligned}\n",
       "\\]"
      ],
      "text/plain": [
       "<IPython.core.display.Latex object>"
      ]
     },
     "metadata": {},
     "output_type": "display_data"
    }
   ],
   "source": [
    "%%render param\n",
    "S_fluid= 1.2 \n",
    "m= 2000 #kg\n",
    "t= 6 #h\n"
   ]
  },
  {
   "cell_type": "markdown",
   "id": "41a81ff8",
   "metadata": {
    "hidden": true
   },
   "source": [
    "The density is $\\rho=s*\\rho$\n",
    "\n",
    "The specific weigth can be calculated as $\\gamma=\\rho \\cdot g$  \n",
    "\n",
    "The volumetric flowrate can be calculated as $Q= \\frac {Vol}{t}$"
   ]
  },
  {
   "cell_type": "code",
   "execution_count": 23,
   "id": "b3120c22",
   "metadata": {
    "hidden": true,
    "scrolled": true
   },
   "outputs": [
    {
     "data": {
      "text/latex": [
       "\\[\n",
       "\\begin{aligned}\n",
       "\\rho_{fluid} &= S_{fluid} \\cdot \\rho_{water} \\\\&= 1.20 \\cdot 1000 \\\\&= 1200.00 \\; \\;\\textrm{(kg/m3)}\\\\[10pt]\n",
       "\\\\[10pt]\n",
       "\\gamma_{fluid} &= \\rho_{fluid} \\cdot g \\\\&= 1200.00 \\cdot 9.81 \\\\&= 11772.00 \\; \\;\\textrm{(N/m3)}\\\\[10pt]\n",
       "\\\\[10pt]\n",
       "\\mathrm{Vol} &= \\frac{ m }{ \\rho_{fluid} } \\\\&= \\frac{ 2000 }{ 1200.00 } \\\\&= 1.67 \\; \\;\\textrm{(m3)}\\\\[10pt]\n",
       "\\\\[10pt]\n",
       "Q_{h} &= \\frac{ \\mathrm{Vol} }{ t } \\\\&= \\frac{ 1.67 }{ 6 } \\\\&= 0.28 \\; \\;\\textrm{(m3/h)}\\\\[10pt]\n",
       "\\end{aligned}\n",
       "\\]"
      ],
      "text/plain": [
       "<IPython.core.display.Latex object>"
      ]
     },
     "metadata": {},
     "output_type": "display_data"
    }
   ],
   "source": [
    "%%render long 2\n",
    "\n",
    "rho_fluid= S_fluid*rho_water #kg/m3\n",
    "gamma_fluid= rho_fluid*g # N/m3\n",
    "Vol= m/rho_fluid #m3 \n",
    "Q_h= Vol/t #m3/h"
   ]
  },
  {
   "cell_type": "code",
   "execution_count": 24,
   "id": "d6454932",
   "metadata": {
    "hidden": true
   },
   "outputs": [
    {
     "data": {
      "text/latex": [
       "\\[\n",
       "\\begin{aligned}\n",
       "Q_{s} &= \\frac{ \\mathrm{Vol} }{ t \\cdot 60 \\cdot 60 } \\\\&= \\frac{ 1.666667 }{ 6 \\cdot 60 \\cdot 60 } \\\\&= 0.000077 \\; \\;\\textrm{(m3/s)}\\\\[10pt]\n",
       "\\end{aligned}\n",
       "\\]"
      ],
      "text/plain": [
       "<IPython.core.display.Latex object>"
      ]
     },
     "metadata": {},
     "output_type": "display_data"
    }
   ],
   "source": [
    "%%render 6 \n",
    "#long\n",
    "Q_s= Vol/(t*60*60)#m3/s"
   ]
  },
  {
   "cell_type": "markdown",
   "id": "56d7c097",
   "metadata": {
    "heading_collapsed": true,
    "hidden": true
   },
   "source": [
    "### Ideal\tGas\tLaw"
   ]
  },
  {
   "cell_type": "markdown",
   "id": "c892d258",
   "metadata": {
    "hidden": true
   },
   "source": [
    "7.* [R] Calculate the specific weight, density and specific volume of air at 50 °C and absolute pressure of 3.4 bar. Given: R_air = 287 m<sup>2</sup>/(s<sup>2</sup>.K). {36 N/m<sup>3</sup>; 3.67 kg/m<sup>3</sup>; 0.273 m<sup>3</sup>/kg}"
   ]
  },
  {
   "cell_type": "markdown",
   "id": "e14bc3cf",
   "metadata": {
    "hidden": true
   },
   "source": [
    "The values of $R_{air}$, $T$, and $P$ are given. If we convert the temperature units to K and the pressure units to Pa, we have:"
   ]
  },
  {
   "cell_type": "code",
   "execution_count": 25,
   "id": "4f8c74ef",
   "metadata": {
    "hidden": true
   },
   "outputs": [
    {
     "data": {
      "text/latex": [
       "\\[\n",
       "\\begin{aligned}\n",
       "T &= 323.150 \\; \\;\\textrm{(K)}\n",
       " &p &= 340000.000 \\; \\;\\textrm{(Pa)}\n",
       " &R_{air} &= 287 \\; \\;\\textrm{(m2/(s2.k))}\n",
       "\\\\[10pt]\n",
       "\\end{aligned}\n",
       "\\]"
      ],
      "text/plain": [
       "<IPython.core.display.Latex object>"
      ]
     },
     "metadata": {},
     "output_type": "display_data"
    }
   ],
   "source": [
    "%%render param\n",
    "T=50+273.15 #K\n",
    "p=3.4*10**5 #Pa\n",
    "R_air=287 #m2/(s2.k)"
   ]
  },
  {
   "cell_type": "markdown",
   "id": "8c7ed6fb",
   "metadata": {
    "hidden": true
   },
   "source": [
    "The specific weight can be calculated as $\\gamma = \\frac{g \\cdot P}{R_{air} \\cdot T}$  \n",
    "The density is $\\rho = \\gamma/g$  \n",
    "The specific volume is $\\nu = 1/\\rho$"
   ]
  },
  {
   "cell_type": "code",
   "execution_count": 26,
   "id": "5ca33727",
   "metadata": {
    "hidden": true,
    "scrolled": true
   },
   "outputs": [
    {
     "data": {
      "text/latex": [
       "\\[\n",
       "\\begin{aligned}\n",
       "\\gamma &= \\frac{ g \\cdot p }{ R_{air} \\cdot T } \\\\&= \\frac{ 9.810 \\cdot 340000.000 }{ 287 \\cdot 323.150 } \\\\&= 35.963 \\; \\;\\textrm{(N/m3)}\\\\[10pt]\n",
       "\\\\[10pt]\n",
       "\\rho &= \\frac{ \\gamma }{ g } \\\\&= \\frac{ 35.963 }{ 9.810 } \\\\&= 3.666 \\; \\;\\textrm{(kg/m3)}\\\\[10pt]\n",
       "\\\\[10pt]\n",
       "v &= \\frac{ 1 }{ \\rho } \\\\&= \\frac{ 1 }{ 3.666 } \\\\&= 0.273 \\; \\;\\textrm{(m3/kg)}\\\\[10pt]\n",
       "\\end{aligned}\n",
       "\\]"
      ],
      "text/plain": [
       "<IPython.core.display.Latex object>"
      ]
     },
     "metadata": {},
     "output_type": "display_data"
    }
   ],
   "source": [
    "%%render long 3\n",
    "\n",
    "gamma= (g*p)/(R_air*T) #N/m3\n",
    "rho= gamma/g #kg/m3\n",
    "v= 1/rho #m3/kg"
   ]
  },
  {
   "cell_type": "markdown",
   "id": "68600af8",
   "metadata": {
    "hidden": true
   },
   "source": [
    "8.*Calculate the specific weight, density and specific volume of the air inside a car tyre at a temperature of 15°C and pumped to an absolute pressure of 3 bar. Given: Rair = 287 m<sup>2</sup>/(s<sup>2</sup>.K).  {35.6 N/m<sup>3</sup>; 3.63 kg/m<sup>3</sup>; 0.276 m<sup>3</sup>/kg}"
   ]
  },
  {
   "cell_type": "markdown",
   "id": "e86c60cd",
   "metadata": {
    "hidden": true
   },
   "source": [
    "Given:"
   ]
  },
  {
   "cell_type": "code",
   "execution_count": 27,
   "id": "f7653001",
   "metadata": {
    "hidden": true
   },
   "outputs": [
    {
     "data": {
      "text/latex": [
       "\\[\n",
       "\\begin{aligned}\n",
       "T_{c} &= 15 \\; \\;\\textrm{(°C)}\n",
       " &P_{bar} &= 3 \\; \\;\\textrm{(bar)}\n",
       " &R_{air} &= 287 \\; \\;\\textrm{(m2/(s2.K))}\n",
       "\\\\[10pt]\n",
       "\\end{aligned}\n",
       "\\]"
      ],
      "text/plain": [
       "<IPython.core.display.Latex object>"
      ]
     },
     "metadata": {},
     "output_type": "display_data"
    }
   ],
   "source": [
    "%%render param\n",
    "T_c= 15 #°C\n",
    "P_bar= 3 #bar\n",
    "R_air= 287 #m2/(s2.K)\n"
   ]
  },
  {
   "cell_type": "markdown",
   "id": "d09ad2de",
   "metadata": {
    "hidden": true
   },
   "source": [
    "The specific weight can be calculated as $\\gamma = \\frac{g \\cdot P}{R_{air} \\cdot T}$  \n",
    "The density is $\\rho = \\gamma/g$  \n",
    "The specific volume is $\\nu = 1/\\rho$"
   ]
  },
  {
   "cell_type": "code",
   "execution_count": 28,
   "id": "6e325546",
   "metadata": {
    "hidden": true
   },
   "outputs": [
    {
     "data": {
      "text/latex": [
       "\\[\n",
       "\\begin{aligned}\n",
       "T_{k} &= T_{c} + 273.15 \\\\&= 15 + 273.15 \\\\&= 288.150 \\; \\;\\textrm{(K)}\\\\[10pt]\n",
       "\\\\[10pt]\n",
       "P_{Pa} &= P_{bar} \\cdot \\left( 10 \\right) ^{ 5 } \\\\&= 3 \\cdot \\left( 10 \\right) ^{ 5 } \\\\&= 300000 \\; \\;\\textrm{(Pa)}\\\\[10pt]\n",
       "\\\\[10pt]\n",
       "\\rho_{air} &= \\frac{ P_{Pa} }{ R_{air} \\cdot T_{k} } \\\\&= \\frac{ 300000 }{ 287 \\cdot 288.150 } \\\\&= 3.628 \\; \\;\\textrm{(kg/m3)}\\\\[10pt]\n",
       "\\\\[10pt]\n",
       "v_{air} &= \\frac{ 1 }{ \\rho_{air} } \\\\&= \\frac{ 1 }{ 3.628 } \\\\&= 0.276 \\; \\;\\textrm{(m3/kg)}\\\\[10pt]\n",
       "\\\\[10pt]\n",
       "\\gamma_{air} &= \\rho_{air} \\cdot g \\\\&= 3.628 \\cdot 9.810 \\\\&= 35.587 \\; \\;\\textrm{(N/m3)}\\\\[10pt]\n",
       "\\end{aligned}\n",
       "\\]"
      ],
      "text/plain": [
       "<IPython.core.display.Latex object>"
      ]
     },
     "metadata": {},
     "output_type": "display_data"
    }
   ],
   "source": [
    "%%render\n",
    "#long\n",
    "T_k= T_c+273.15 #K\n",
    "P_Pa= P_bar*10**5 #Pa\n",
    "\n",
    "rho_air= P_Pa/(R_air*T_k) #kg/m3\n",
    "v_air= 1/rho_air #m3/kg\n",
    "gamma_air= rho_air*g #N/m3\n"
   ]
  },
  {
   "cell_type": "markdown",
   "id": "253b0866",
   "metadata": {
    "hidden": true
   },
   "source": [
    "9.* a) Calculate the specific weight, density and specific volume of oxygen at 20 °C and 50 kN/m<sup>2</sup> absolute. Given: Roxygen = 260 m<sup>2</sup>/(s<sup>2</sup>.K).  ** b) If the oxygen is enclosed in a rigid container of constant volume, what will the pressure be if the temperature is reduced to  100 °C?  {a)6.44 N/m<sup>3</sup>; 0.656 kg/m<sup>3</sup>; 1.524 m<sup>3</sup>/kg; b) 29.5 kPa}"
   ]
  },
  {
   "cell_type": "markdown",
   "id": "17b7bc94",
   "metadata": {
    "hidden": true
   },
   "source": [
    "a)"
   ]
  },
  {
   "cell_type": "markdown",
   "id": "7ef8cdc6",
   "metadata": {
    "hidden": true
   },
   "source": [
    "The values of $R_{oxygen}$, $T$, and $P$ are given. If we convert the temperature units to K and the pressure units to Pa, we have:"
   ]
  },
  {
   "cell_type": "code",
   "execution_count": 29,
   "id": "224b3ea7",
   "metadata": {
    "hidden": true
   },
   "outputs": [
    {
     "data": {
      "text/latex": [
       "\\[\n",
       "\\begin{aligned}\n",
       "T &= 293.150 \\; \\;\\textrm{(K)}\n",
       " &p &= 50000 \\; \\;\\textrm{(Pa)}\n",
       " &R_{oxygen} &= 260 \\; \\;\\textrm{(m2/(s2.K))}\n",
       "\\\\[10pt]\n",
       "\\end{aligned}\n",
       "\\]"
      ],
      "text/plain": [
       "<IPython.core.display.Latex object>"
      ]
     },
     "metadata": {},
     "output_type": "display_data"
    }
   ],
   "source": [
    "%%render param\n",
    "T=20+273.15 #K\n",
    "p=50*1000 #Pa\n",
    "R_oxygen=260 #m2/(s2.K)"
   ]
  },
  {
   "cell_type": "markdown",
   "id": "87128bab",
   "metadata": {
    "hidden": true
   },
   "source": [
    "The specific weight can be calculated as $\\gamma = \\frac{g \\cdot P}{R_{oxygen} \\cdot T}$  \n",
    "The density is $\\rho = \\gamma/g$  \n",
    "The specific volume is $\\nu = 1/\\rho$"
   ]
  },
  {
   "cell_type": "code",
   "execution_count": 30,
   "id": "f00423b9",
   "metadata": {
    "hidden": true,
    "scrolled": true
   },
   "outputs": [
    {
     "data": {
      "text/latex": [
       "\\[\n",
       "\\begin{aligned}\n",
       "\\gamma &= \\frac{ g \\cdot p }{ R_{oxygen} \\cdot T } \\\\&= \\frac{ 9.810 \\cdot 50000 }{ 260 \\cdot 293.150 } \\\\&= 6.435 \\; \\;\\textrm{(N/m3)}\\\\[10pt]\n",
       "\\\\[10pt]\n",
       "\\rho &= \\frac{ \\gamma }{ g } \\\\&= \\frac{ 6.435 }{ 9.810 } \\\\&= 0.656 \\; \\;\\textrm{(kg/m3)}\\\\[10pt]\n",
       "\\\\[10pt]\n",
       "v &= \\frac{ 1 }{ \\rho } \\\\&= \\frac{ 1 }{ 0.656 } \\\\&= 1.524 \\; \\;\\textrm{(m3/kg)}\\\\[10pt]\n",
       "\\end{aligned}\n",
       "\\]"
      ],
      "text/plain": [
       "<IPython.core.display.Latex object>"
      ]
     },
     "metadata": {},
     "output_type": "display_data"
    }
   ],
   "source": [
    "%%render long\n",
    "\n",
    "gamma= (g*p)/(R_oxygen*T) #N/m3\n",
    "rho= gamma/g #kg/m3\n",
    "v= 1/rho #m3/kg"
   ]
  },
  {
   "cell_type": "markdown",
   "id": "d8c5d8be",
   "metadata": {
    "hidden": true
   },
   "source": [
    "b)"
   ]
  },
  {
   "cell_type": "markdown",
   "id": "0754dbbd",
   "metadata": {
    "hidden": true
   },
   "source": [
    "The given pressure and temperatures in Pa, and K are:"
   ]
  },
  {
   "cell_type": "code",
   "execution_count": 31,
   "id": "e20be51c",
   "metadata": {
    "hidden": true
   },
   "outputs": [
    {
     "data": {
      "text/latex": [
       "\\[\n",
       "\\begin{aligned}\n",
       "p_{1} &= 50000 \\; \\;\\textrm{(Pa)}\n",
       " &T_{1} &= 293.150 \\; \\;\\textrm{(K)}\n",
       " &T_{2} &= 173.150 \\; \\;\\textrm{(K)}\n",
       "\\\\[10pt]\n",
       "\\end{aligned}\n",
       "\\]"
      ],
      "text/plain": [
       "<IPython.core.display.Latex object>"
      ]
     },
     "metadata": {},
     "output_type": "display_data"
    }
   ],
   "source": [
    "%%render param\n",
    "\n",
    "p_1=50*1000 #Pa\n",
    "T_1=20+273.15 #K\n",
    "T_2=-100+273.15 #K"
   ]
  },
  {
   "cell_type": "markdown",
   "id": "463bce88",
   "metadata": {
    "hidden": true
   },
   "source": [
    "Considering that $\\frac{P}{T} = constant$  \n",
    "The following relation applies:\n",
    "$$\n",
    "\\frac{P_2}{T_2}=\\frac{P_1}{T_1}\n",
    "$$"
   ]
  },
  {
   "cell_type": "code",
   "execution_count": 32,
   "id": "609c8499",
   "metadata": {
    "hidden": true,
    "scrolled": true
   },
   "outputs": [
    {
     "data": {
      "text/latex": [
       "\\[\n",
       "\\begin{aligned}\n",
       "p_{2} &= \\frac{ p_{1} \\cdot T_{2} }{ T_{1} } \\\\&= \\frac{ 50000 \\cdot 173.150 }{ 293.150 } \\\\&= 29532.662 \\; \\;\\textrm{(Pa)}\\\\[10pt]\n",
       "\\end{aligned}\n",
       "\\]"
      ],
      "text/plain": [
       "<IPython.core.display.Latex object>"
      ]
     },
     "metadata": {},
     "output_type": "display_data"
    }
   ],
   "source": [
    "%%render long\n",
    "p_2= (p_1*T_2)/T_1 #Pa\n"
   ]
  },
  {
   "cell_type": "markdown",
   "id": "e8a05a13",
   "metadata": {
    "hidden": true
   },
   "source": [
    "The pressure in Kpa is:"
   ]
  },
  {
   "cell_type": "code",
   "execution_count": 33,
   "id": "db45b412",
   "metadata": {
    "hidden": true
   },
   "outputs": [
    {
     "data": {
      "text/latex": [
       "\\[\n",
       "\\begin{aligned}\n",
       "p_{2_{kPa}} &= \\frac{ p_{2} }{ 1000 } \\\\&= \\frac{ 29532.662 }{ 1000 } \\\\&= 29.533 \\; \\;\\textrm{(kPa)}\\\\[10pt]\n",
       "\\end{aligned}\n",
       "\\]"
      ],
      "text/plain": [
       "<IPython.core.display.Latex object>"
      ]
     },
     "metadata": {},
     "output_type": "display_data"
    }
   ],
   "source": [
    "%%render long\n",
    "\n",
    "p_2_kPa= p_2/1000 #kPa"
   ]
  },
  {
   "cell_type": "markdown",
   "id": "e23d54b2",
   "metadata": {
    "hidden": true
   },
   "source": [
    "10.*** a) If water vapour in the atmosphere has a partial pressure of 3500 Pa and the temperature is 30 °C, what is its specific weight?  b) if the barometer reads 102 kPa absolute, what is the partial pressure of the (dry) air, and its specific weight? c) What is the specific weight of the atmosphere (air plus water vapour present)? Given: Rair = 287 m<sup>2</sup>/(s<sup>2</sup>.K); Rwater vapour = 462 m<sup>2</sup>(s<sup>2</sup>.K).    { 0.245 N/m<sup>3</sup>; 11.11 N/m<sup>3</sup>; 11.36 N/m<sup>3</sup>}"
   ]
  },
  {
   "cell_type": "markdown",
   "id": "ba94c1c1",
   "metadata": {
    "hidden": true
   },
   "source": [
    "Given:"
   ]
  },
  {
   "cell_type": "code",
   "execution_count": 34,
   "id": "c1216cc1",
   "metadata": {
    "hidden": true
   },
   "outputs": [
    {
     "data": {
      "text/latex": [
       "\\[\n",
       "\\begin{aligned}\n",
       "P_{Pa} &= 3500 \\; \\;\\textrm{(Pa)}\n",
       " &T_{c} &= 30 \\; \\;\\textrm{(°C)}\n",
       " &R_{wvapour} &= 462 \\; \\;\\textrm{(m2/(s2.K))}\n",
       "\\\\[10pt]\n",
       " P_{barometer} &= 102 \\; \\;\\textrm{(kPa)}\n",
       " &R_{air} &= 287 \\; \\;\\textrm{(m2/(s2.K))}\n",
       "\\end{aligned}\n",
       "\\]"
      ],
      "text/plain": [
       "<IPython.core.display.Latex object>"
      ]
     },
     "metadata": {},
     "output_type": "display_data"
    }
   ],
   "source": [
    "%%render param\n",
    "P_Pa= 3500 #Pa\n",
    "T_c= 30 #°C\n",
    "R_wvapour= 462 #m2/(s2.K)\n",
    "P_barometer=102 #kPa\n",
    "R_air=287 #m2/(s2.K)\n"
   ]
  },
  {
   "cell_type": "markdown",
   "id": "52c4aa4d",
   "metadata": {
    "hidden": true
   },
   "source": [
    "The specific weight can be calculated as $\\gamma = \\frac{g \\cdot P}{R_{oxygen} \\cdot T}$  \n",
    "\n",
    "\n",
    "The partial pressure can be calculated as $P_{partial}=P_{absolute}-P_{v}$\n",
    "\n",
    "\n",
    "The specific weight of the atmosphere is $\\gamma_{atm}=\\gamma_{air}+\\gamma_{water}$\n"
   ]
  },
  {
   "cell_type": "markdown",
   "id": "076de028",
   "metadata": {
    "hidden": true
   },
   "source": [
    "a)"
   ]
  },
  {
   "cell_type": "code",
   "execution_count": 35,
   "id": "67462244",
   "metadata": {
    "hidden": true
   },
   "outputs": [
    {
     "data": {
      "text/latex": [
       "\\[\n",
       "\\begin{aligned}\n",
       "T_{k} &= T_{c} + 273.15 \\\\&= 30 + 273.15 \\\\&= 303.150 \\; \\;\\textrm{(K)}\\\\[10pt]\n",
       "\\\\[10pt]\n",
       "\\gamma_{wvapour} &= \\frac{ g \\cdot P_{Pa} }{ R_{wvapour} \\cdot T_{k} } \\\\&= \\frac{ 9.810 \\cdot 3500 }{ 462 \\cdot 303.150 } \\\\&= 0.245 \\; \\;\\textrm{(N/m3)}\\\\[10pt]\n",
       "\\end{aligned}\n",
       "\\]"
      ],
      "text/plain": [
       "<IPython.core.display.Latex object>"
      ]
     },
     "metadata": {},
     "output_type": "display_data"
    }
   ],
   "source": [
    "%%render\n",
    "#long\n",
    "T_k= T_c+273.15 #K\n",
    "\n",
    "gamma_wvapour= (g*P_Pa)/(R_wvapour*T_k) #N/m3"
   ]
  },
  {
   "cell_type": "markdown",
   "id": "01d26f32",
   "metadata": {
    "hidden": true
   },
   "source": [
    "b)"
   ]
  },
  {
   "cell_type": "code",
   "execution_count": 36,
   "id": "dc6806a8",
   "metadata": {
    "hidden": true
   },
   "outputs": [
    {
     "data": {
      "text/latex": [
       "\\[\n",
       "\\begin{aligned}\n",
       "P_{kPa} &= \\frac{ P_{Pa} }{ 1000 } \\\\&= \\frac{ 3500 }{ 1000 } \\\\&= 3.50 \\; \\;\\textrm{(kPa)}\\\\[10pt]\n",
       "\\\\[10pt]\n",
       "P_{air_{kPa}} &= P_{barometer} - P_{kPa} \\\\&= 102 - 3.50 \\\\&= 98.50 \\; \\;\\textrm{(kPa)}\\\\[10pt]\n",
       "\\\\[10pt]\n",
       "P_{air_{Pa}} &= P_{air_{kPa}} \\cdot 1000 \\\\&= 98.50 \\cdot 1000 \\\\&= 98500.00 \\; \\;\\textrm{(Pa)}\\\\[10pt]\n",
       "\\\\[10pt]\n",
       "\\gamma_{air} &= \\frac{ g \\cdot P_{air_{Pa}} }{ R_{air} \\cdot T_{k} } \\\\&= \\frac{ 9.81 \\cdot 98500.00 }{ 287 \\cdot 303.15 } \\\\&= 11.11 \\; \\;\\textrm{(N/m3)}\\\\[10pt]\n",
       "\\end{aligned}\n",
       "\\]"
      ],
      "text/plain": [
       "<IPython.core.display.Latex object>"
      ]
     },
     "metadata": {},
     "output_type": "display_data"
    }
   ],
   "source": [
    "%%render 2\n",
    "#long\n",
    "P_kPa= P_Pa/1000 #kPa\n",
    "P_air_kPa= P_barometer-P_kPa #kPa\n",
    "P_air_Pa= P_air_kPa*1000 #Pa\n",
    "gamma_air= (g*P_air_Pa)/(R_air*T_k) #N/m3"
   ]
  },
  {
   "cell_type": "markdown",
   "id": "274df06d",
   "metadata": {
    "hidden": true
   },
   "source": [
    "c)"
   ]
  },
  {
   "cell_type": "code",
   "execution_count": 37,
   "id": "5dda02c8",
   "metadata": {
    "hidden": true
   },
   "outputs": [
    {
     "data": {
      "text/latex": [
       "\\[\n",
       "\\begin{aligned}\n",
       "\\gamma_{atmos} &= \\gamma_{air} + \\gamma_{wvapour} \\\\&= 11.106 + 0.245 \\\\&= 11.351 \\; \\;\\textrm{(N/m3)}\\\\[10pt]\n",
       "\\end{aligned}\n",
       "\\]"
      ],
      "text/plain": [
       "<IPython.core.display.Latex object>"
      ]
     },
     "metadata": {},
     "output_type": "display_data"
    }
   ],
   "source": [
    "%%render long\n",
    "gamma_atmos= gamma_air+gamma_wvapour #N/m3"
   ]
  },
  {
   "cell_type": "markdown",
   "id": "0a46dd7c",
   "metadata": {
    "heading_collapsed": true,
    "hidden": true
   },
   "source": [
    "### Compressibility\tof\tLiquids"
   ]
  },
  {
   "cell_type": "markdown",
   "id": "4f8fe04d",
   "metadata": {
    "hidden": true
   },
   "source": [
    "11.*[R] What pressure in MPa must be applied to water to reduce its volume by 3% under standard sea level atmospheric conditions? {64.2 MPa}"
   ]
  },
  {
   "cell_type": "markdown",
   "id": "f7845517",
   "metadata": {
    "hidden": true
   },
   "source": [
    "Given:"
   ]
  },
  {
   "cell_type": "code",
   "execution_count": 38,
   "id": "d9c6ef6a",
   "metadata": {
    "hidden": true
   },
   "outputs": [
    {
     "data": {
      "text/latex": [
       "\\[\n",
       "\\begin{aligned}\n",
       "\\Delta_{Vol} &= 0.030 \\;\n",
       "\\end{aligned}\n",
       "\\]"
      ],
      "text/plain": [
       "<IPython.core.display.Latex object>"
      ]
     },
     "metadata": {},
     "output_type": "display_data"
    }
   ],
   "source": [
    "%%render param\n",
    "Delta_Vol=3/100"
   ]
  },
  {
   "cell_type": "markdown",
   "id": "a9789ddd",
   "metadata": {
    "hidden": true
   },
   "source": [
    "From Table A.3, $T$ under standard sea level atmospheric conditions is:"
   ]
  },
  {
   "cell_type": "code",
   "execution_count": 39,
   "id": "6a5ad32d",
   "metadata": {
    "hidden": true
   },
   "outputs": [
    {
     "data": {
      "text/latex": [
       "\\[\n",
       "\\begin{aligned}\n",
       "T &= 288.150 \\; \\;\\textrm{(K)}\n",
       "\\end{aligned}\n",
       "\\]"
      ],
      "text/plain": [
       "<IPython.core.display.Latex object>"
      ]
     },
     "metadata": {},
     "output_type": "display_data"
    }
   ],
   "source": [
    "%%render param\n",
    "T=15+273.15 #K"
   ]
  },
  {
   "cell_type": "markdown",
   "id": "b70bf752",
   "metadata": {
    "hidden": true
   },
   "source": [
    "From Table A.1, $E_v$ at T=288.15 K (T=15°C) is:"
   ]
  },
  {
   "cell_type": "code",
   "execution_count": 40,
   "id": "f275b957",
   "metadata": {
    "hidden": true
   },
   "outputs": [
    {
     "data": {
      "text/latex": [
       "\\[\n",
       "\\begin{aligned}\n",
       "E_{v} &= 2140000000.000 \\; \\;\\textrm{(Pa)}\n",
       "\\end{aligned}\n",
       "\\]"
      ],
      "text/plain": [
       "<IPython.core.display.Latex object>"
      ]
     },
     "metadata": {},
     "output_type": "display_data"
    }
   ],
   "source": [
    "%%render param\n",
    "E_v=2.14*10**9 #Pa"
   ]
  },
  {
   "cell_type": "markdown",
   "id": "93e4b785",
   "metadata": {
    "hidden": true
   },
   "source": [
    "The compressibility of liquids is described by the following equation:\n",
    "$$\n",
    "\\Delta P =-E_v \\frac{\\Delta V}{V}\n",
    "$$"
   ]
  },
  {
   "cell_type": "code",
   "execution_count": 41,
   "id": "d5f457aa",
   "metadata": {
    "hidden": true,
    "scrolled": true
   },
   "outputs": [
    {
     "data": {
      "text/latex": [
       "\\[\n",
       "\\begin{aligned}\n",
       "\\Delta_{p} &= \\left( - E_{v} \\right) \\cdot \\left( - \\Delta_{Vol} \\right) \\\\&= \\left( - 2140000000.000 \\right) \\cdot \\left( - 0.030 \\right) \\\\&= 64200000.000 \\; \\;\\textrm{(Pa)}\\\\[10pt]\n",
       "\\end{aligned}\n",
       "\\]"
      ],
      "text/plain": [
       "<IPython.core.display.Latex object>"
      ]
     },
     "metadata": {},
     "output_type": "display_data"
    }
   ],
   "source": [
    "%%render long\n",
    "Delta_p= -E_v*-Delta_Vol #Pa"
   ]
  },
  {
   "cell_type": "markdown",
   "id": "8a05bd48",
   "metadata": {
    "hidden": true
   },
   "source": [
    "The result in MPa is:"
   ]
  },
  {
   "cell_type": "code",
   "execution_count": 42,
   "id": "c1c063ed",
   "metadata": {
    "hidden": true,
    "scrolled": true
   },
   "outputs": [
    {
     "data": {
      "text/latex": [
       "\\[\n",
       "\\begin{aligned}\n",
       "\\Delta_{p_{MPa}} &= \\frac{ \\Delta_{p} }{ 1000000 } \\\\&= \\frac{ 64200000.000 }{ 1000000 } \\\\&= 64.200 \\; \\;\\textrm{(MPa)}\\\\[10pt]\n",
       "\\end{aligned}\n",
       "\\]"
      ],
      "text/plain": [
       "<IPython.core.display.Latex object>"
      ]
     },
     "metadata": {},
     "output_type": "display_data"
    }
   ],
   "source": [
    "%%render long\n",
    "Delta_p_MPa= Delta_p/1000000 #MPa"
   ]
  },
  {
   "cell_type": "markdown",
   "id": "f4555b7a",
   "metadata": {
    "hidden": true
   },
   "source": [
    "12.*By what fraction will the volume of a given quantity of mercury at 20°C be reduced if the pressure on it is increased by 100 MPa? {0.38%}"
   ]
  },
  {
   "cell_type": "markdown",
   "id": "6a1d671b",
   "metadata": {
    "hidden": true
   },
   "source": [
    "Given:"
   ]
  },
  {
   "cell_type": "code",
   "execution_count": 43,
   "id": "10e103ee",
   "metadata": {
    "hidden": true,
    "scrolled": true
   },
   "outputs": [
    {
     "data": {
      "text/latex": [
       "\\[\n",
       "\\begin{aligned}\n",
       "\\Delta_{P} &= 100 \\; \\;\\textrm{(MPa)}\n",
       "\\end{aligned}\n",
       "\\]"
      ],
      "text/plain": [
       "<IPython.core.display.Latex object>"
      ]
     },
     "metadata": {},
     "output_type": "display_data"
    }
   ],
   "source": [
    "%%render param\n",
    "Delta_P=100 #MPa"
   ]
  },
  {
   "cell_type": "markdown",
   "id": "0cb39867",
   "metadata": {
    "hidden": true
   },
   "source": [
    "The reduction of volume can be calculated using the bulk modulus\n",
    "\n",
    "$$\n",
    "E_v= -Vol*\\frac {\\Delta P}{\\Delta Vol}*100\\%\n",
    "$$"
   ]
  },
  {
   "cell_type": "markdown",
   "id": "eae1b72c",
   "metadata": {
    "hidden": true
   },
   "source": [
    "Using Tabla A.4 the Ev is:"
   ]
  },
  {
   "cell_type": "code",
   "execution_count": 44,
   "id": "913b68a6",
   "metadata": {
    "hidden": true
   },
   "outputs": [
    {
     "data": {
      "text/latex": [
       "\\[\n",
       "\\begin{aligned}\n",
       "E_{v} &= 26200000000 \\; \\;\\textrm{(N/m2)}\n",
       "\\end{aligned}\n",
       "\\]"
      ],
      "text/plain": [
       "<IPython.core.display.Latex object>"
      ]
     },
     "metadata": {},
     "output_type": "display_data"
    }
   ],
   "source": [
    "%%render 0\n",
    "E_v=26.2*10**9 #N/m2"
   ]
  },
  {
   "cell_type": "markdown",
   "id": "3b584257",
   "metadata": {
    "hidden": true
   },
   "source": [
    "$$\n",
    "E_v=-V\\frac{\\Delta P}{\\Delta V}\\\\\n",
    "\\frac{\\Delta V}{V}=\\frac{-\\Delta P}{E_V} *100\\%\n",
    "$$"
   ]
  },
  {
   "cell_type": "code",
   "execution_count": 45,
   "id": "b1544b39",
   "metadata": {
    "hidden": true,
    "scrolled": true
   },
   "outputs": [
    {
     "data": {
      "text/latex": [
       "\\[\n",
       "\\begin{aligned}\n",
       "V_{percentage} &= \\left( \\left( - \\Delta_{P} \\right) \\cdot \\frac{ \\left( 10 \\right) ^{ 6 } }{ E_{v} } \\right) \\cdot 100 \\\\&= \\left( \\left( - 100 \\right) \\cdot \\frac{ \\left( 10 \\right) ^{ 6 } }{ 26200000000.00 } \\right) \\cdot 100 \\\\&= -0.38 \\; \\;\\textrm{(%)}\\\\[10pt]\n",
       "\\end{aligned}\n",
       "\\]"
      ],
      "text/plain": [
       "<IPython.core.display.Latex object>"
      ]
     },
     "metadata": {},
     "output_type": "display_data"
    }
   ],
   "source": [
    "%%render long 2\n",
    "V_percentage= (-Delta_P*10**6/E_v)*100 #%\n"
   ]
  },
  {
   "cell_type": "markdown",
   "id": "a3b9d2d1",
   "metadata": {
    "hidden": true
   },
   "source": [
    "13.*** A rigid cylinder with inside diameter of 15 mm contains a column of water 500 mm long. What will the column length be if a force of 2 kN is applied to its top by a frictionless plunger? Assume a bulk modulus of 2.21 GPa. (Source: Franzini & Finnemore) {497 mm}"
   ]
  },
  {
   "cell_type": "markdown",
   "id": "cabe9f62",
   "metadata": {
    "hidden": true
   },
   "source": [
    "First, the diameter and column of water were converted to m, the force to N, and the bulk modulus to Pa:"
   ]
  },
  {
   "cell_type": "code",
   "execution_count": 46,
   "id": "1b0dea0c",
   "metadata": {
    "hidden": true
   },
   "outputs": [
    {
     "data": {
      "text/latex": [
       "\\[\n",
       "\\begin{aligned}\n",
       "\\mathrm{dF} &= 2000 \\; \\;\\textrm{(N)}\n",
       " &d &= 0.015 \\; \\;\\textrm{(m)}\n",
       " &L_{1} &= 0.500 \\; \\;\\textrm{(m)}\n",
       "\\\\[10pt]\n",
       " E_{v} &= 2210000000.000 \\; \\;\\textrm{(Pa)}\n",
       "\\end{aligned}\n",
       "\\]"
      ],
      "text/plain": [
       "<IPython.core.display.Latex object>"
      ]
     },
     "metadata": {},
     "output_type": "display_data"
    }
   ],
   "source": [
    "%%render param\n",
    "dF=2000 #N\n",
    "d=0.015 #m\n",
    "L_1=0.5 #m\n",
    "E_v= 2.21*10**9 #Pa"
   ]
  },
  {
   "cell_type": "markdown",
   "id": "b1cddc08",
   "metadata": {
    "hidden": true
   },
   "source": [
    "Then, $dP$ is calculated as $dP=dF/A$"
   ]
  },
  {
   "cell_type": "code",
   "execution_count": 47,
   "id": "e6196d61",
   "metadata": {
    "hidden": true,
    "scrolled": true
   },
   "outputs": [
    {
     "data": {
      "text/latex": [
       "\\[\n",
       "\\begin{aligned}\n",
       "A &= \\pi \\cdot \\left( \\frac{ d }{ 2 } \\right) ^{ 2 } \\\\&= 3.1416 \\cdot \\left( \\frac{ 0.0150 }{ 2 } \\right) ^{ 2 } \\\\&= 0.0002 \\; \\;\\textrm{(m2)}\\\\[10pt]\n",
       "\\\\[10pt]\n",
       "\\mathrm{dp} &= \\frac{ \\mathrm{dF} }{ A } \\\\&= \\frac{ 2000 }{ 0.0002 } \\\\&= 11317684.8421 \\; \\;\\textrm{(Pa)}\\\\[10pt]\n",
       "\\end{aligned}\n",
       "\\]"
      ],
      "text/plain": [
       "<IPython.core.display.Latex object>"
      ]
     },
     "metadata": {},
     "output_type": "display_data"
    }
   ],
   "source": [
    "%%render long 4\n",
    "\n",
    "A= pi*(d/2)**2 #m2\n",
    "dp= dF/A #Pa"
   ]
  },
  {
   "cell_type": "markdown",
   "id": "a9d729d5",
   "metadata": {
    "hidden": true
   },
   "source": [
    "Since the tube is rigid, the following relation applies:  \n",
    "\n",
    "$$\n",
    "\\frac{v_2-v_1}{v_1}=\\frac{L_2-L_1}{L_1}=\\frac{-P_2-P_1}{E_v}\n",
    "$$\n",
    "\n",
    "Solving for $L_2$: \n",
    "$$\n",
    "L_2 = -L_1 \\cdot \\frac{dP}{E_v}+ L_1\n",
    "$$"
   ]
  },
  {
   "cell_type": "code",
   "execution_count": 48,
   "id": "4b860306",
   "metadata": {
    "hidden": true
   },
   "outputs": [
    {
     "data": {
      "text/latex": [
       "\\[\n",
       "\\begin{aligned}\n",
       "L_{2} &= \\left( - L_{1} \\right) \\cdot \\frac{ \\mathrm{dp} }{ E_{v} } + L_{1} \\\\&= \\left( - 0.5000 \\right) \\cdot \\frac{ 11317684.8421 }{ 2210000000.0000 } + 0.5000 \\\\&= 0.4974 \\; \\;\\textrm{(m)}\\\\[10pt]\n",
       "\\end{aligned}\n",
       "\\]"
      ],
      "text/plain": [
       "<IPython.core.display.Latex object>"
      ]
     },
     "metadata": {},
     "output_type": "display_data"
    }
   ],
   "source": [
    "%%render long 4\n",
    "\n",
    "L_2= -L_1*dp/E_v+L_1 #m\n"
   ]
  },
  {
   "cell_type": "markdown",
   "id": "b6e1dd09",
   "metadata": {
    "hidden": true
   },
   "source": [
    "$L_2$ in mm:"
   ]
  },
  {
   "cell_type": "code",
   "execution_count": 49,
   "id": "5fdb4dd3",
   "metadata": {
    "hidden": true,
    "scrolled": true
   },
   "outputs": [
    {
     "data": {
      "text/latex": [
       "\\[\n",
       "\\begin{aligned}\n",
       "L_{2_{mm}} &= 497.44 \\; \\;\\textrm{(mm)}\n",
       "\\end{aligned}\n",
       "\\]"
      ],
      "text/plain": [
       "<IPython.core.display.Latex object>"
      ]
     },
     "metadata": {},
     "output_type": "display_data"
    }
   ],
   "source": [
    "%%render long 2\n",
    "L_2_mm=L_2*1000 #mm"
   ]
  },
  {
   "cell_type": "markdown",
   "id": "5e6e6c1a",
   "metadata": {
    "heading_collapsed": true
   },
   "source": [
    "## Problems for Lecture 3: Vapour pressure, viscosity and surface tension\n"
   ]
  },
  {
   "cell_type": "markdown",
   "id": "ec15870a",
   "metadata": {
    "heading_collapsed": true,
    "hidden": true
   },
   "source": [
    "### Vapour Pressure"
   ]
  },
  {
   "cell_type": "markdown",
   "id": "c1b2e498",
   "metadata": {
    "hidden": true
   },
   "source": [
    "1.*[R] At approximately what temperature will water boil at top of Mount Everest (elevation 8 850 m above sea level)? {70°C}"
   ]
  },
  {
   "cell_type": "markdown",
   "id": "e73ab4a1",
   "metadata": {
    "hidden": true
   },
   "source": [
    "From Table A.3, the absolute pressure at 8850 m above sea level is 32000 Pa.  \n",
    "From Table A.1, water has a saturation vapour pressure of 32000 Pa at **70°C.**"
   ]
  },
  {
   "cell_type": "markdown",
   "id": "183f7ee5",
   "metadata": {
    "hidden": true
   },
   "source": [
    " 2.*At approximately what elevation will water boil at 90 °C? {3 000 m}"
   ]
  },
  {
   "cell_type": "markdown",
   "id": "5f0cfa73",
   "metadata": {
    "hidden": true
   },
   "source": [
    "\n",
    "From Table A.1, water has a saturation vapour pressure of 70.1 kPa at 90°C.\n",
    "\n",
    "From Table A.3, the absolute pressure at 70 kPa is 3000 m."
   ]
  },
  {
   "cell_type": "markdown",
   "id": "e5b74788",
   "metadata": {
    "hidden": true
   },
   "source": [
    "3.**[R] Water at 75°C is placed in a beaker in an airtight container. Air is gradually pumped out of the container. What reduction below standard sea level atmospheric pressure must be achieved before the water boils? {62 kPa}"
   ]
  },
  {
   "cell_type": "markdown",
   "id": "3ed7acee",
   "metadata": {
    "hidden": true
   },
   "source": [
    "The pressure reduction can be calculated as\n",
    "\n",
    "$dp=p_{atm}-p_{75c}$\n",
    "\n",
    "From Table A.1, saturation vapour pressure at 75°C is 39 kPa."
   ]
  },
  {
   "cell_type": "code",
   "execution_count": 50,
   "id": "36fce9c5",
   "metadata": {
    "hidden": true
   },
   "outputs": [
    {
     "data": {
      "text/latex": [
       "\\[\n",
       "\\begin{aligned}\n",
       "p_{75_{C}} &= 39 \\; \\;\\textrm{(kPa)}\n",
       "\\\\[10pt]\n",
       "p_{atm_{}} &= 101 \\; \\;\\textrm{(kPa)}\n",
       "\\\\[10pt]\n",
       "\\mathrm{dP} &= p_{atm_{}} - p_{75_{C}} \\\\&= 101 - 39 \\\\&= 62 \\; \\;\\textrm{(kPa)}\\\\[10pt]\n",
       "\\end{aligned}\n",
       "\\]"
      ],
      "text/plain": [
       "<IPython.core.display.Latex object>"
      ]
     },
     "metadata": {},
     "output_type": "display_data"
    }
   ],
   "source": [
    "%%render long\n",
    "p_75_C=39 #kPa\n",
    "p_atm_= 101 #kPa\n",
    "dP= p_atm_-p_75_C #kPa"
   ]
  },
  {
   "cell_type": "markdown",
   "id": "1a65a915",
   "metadata": {
    "heading_collapsed": true,
    "hidden": true
   },
   "source": [
    "### Viscosity"
   ]
  },
  {
   "cell_type": "markdown",
   "id": "99d42b9e",
   "metadata": {
    "hidden": true
   },
   "source": [
    "4.*A square block has a contact area of 0.02 m<sup>2 </sup>  with a table that is lubricated with a 0.1 mm thick layer of oil with viscosity 7 mPa.s. What force is required to move the block at a constant velocity of 1 m/s? {1.4 N}"
   ]
  },
  {
   "cell_type": "markdown",
   "id": "4f0f9bef",
   "metadata": {
    "hidden": true
   },
   "source": [
    "If we convert the depth of the layer to m, and viscosity to Pa/s, we have the following given parameters:"
   ]
  },
  {
   "cell_type": "code",
   "execution_count": 51,
   "id": "fe4976e9",
   "metadata": {
    "hidden": true,
    "scrolled": true
   },
   "outputs": [
    {
     "data": {
      "text/latex": [
       "\\[\n",
       "\\begin{aligned}\n",
       "A &= 0.020 \\; \\;\\textrm{(m2)}\n",
       " &y &= 0.100 \\; \\;\\textrm{(mm)}\n",
       " &\\mu_{oil} &= 0.007 \\; \\;\\textrm{(Pa/s)}\n",
       "\\\\[10pt]\n",
       " \\Delta_{V} &= 1 \\; \\;\\textrm{(m/s)}\n",
       "\\end{aligned}\n",
       "\\]"
      ],
      "text/plain": [
       "<IPython.core.display.Latex object>"
      ]
     },
     "metadata": {},
     "output_type": "display_data"
    }
   ],
   "source": [
    "%%render param\n",
    "A=0.02 #m2\n",
    "y=0.1 #mm\n",
    "mu_oil=7*10**-3 #Pa/s\n",
    "Delta_V= 1 #m/s\n"
   ]
  },
  {
   "cell_type": "markdown",
   "id": "c40aa48d",
   "metadata": {
    "hidden": true
   },
   "source": [
    "At a constant velocity, aceleration is zero, therefore:\n",
    "$$\n",
    "\\sum F=0\\\\\n",
    "$$\n",
    "Force can be calculated as\n",
    "$$\n",
    "F-\\tau A=0\\\\\n",
    "$$\n",
    "Where\n",
    "$$\n",
    "\\tau = \\mu \\frac {\\Delta V}{\\Delta y}\n",
    "$$"
   ]
  },
  {
   "cell_type": "code",
   "execution_count": 52,
   "id": "256b9124",
   "metadata": {
    "hidden": true,
    "scrolled": true
   },
   "outputs": [
    {
     "data": {
      "text/latex": [
       "\\[\n",
       "\\begin{aligned}\n",
       "\\Delta_{y} &= \\frac{ y }{ 1000 } \\\\&= \\frac{ 0.100 }{ 1000 } \\\\&= 0.000 \\; \\;\\textrm{(m)}\\\\[10pt]\n",
       "\\\\[10pt]\n",
       "\\tau &= \\mu_{oil} \\cdot \\left( \\frac{ \\Delta_{V} }{ \\Delta_{y} } \\right) \\\\&= 0.007 \\cdot \\left( \\frac{ 1 }{ 0.000 } \\right) \\\\&= 70.000 \\; \\;\\textrm{(Pa)}\\\\[10pt]\n",
       "\\\\[10pt]\n",
       "F &= \\tau \\cdot A \\\\&= 70.000 \\cdot 0.020 \\\\&= 1.400 \\; \\;\\textrm{(N)}\\\\[10pt]\n",
       "\\end{aligned}\n",
       "\\]"
      ],
      "text/plain": [
       "<IPython.core.display.Latex object>"
      ]
     },
     "metadata": {},
     "output_type": "display_data"
    }
   ],
   "source": [
    "%%render long \n",
    "\n",
    "Delta_y= y/1000 #m\n",
    "\n",
    "tau= mu_oil*(Delta_V/Delta_y) #Pa\n",
    "\n",
    "F= tau*A #N"
   ]
  },
  {
   "cell_type": "markdown",
   "id": "90f1e710",
   "metadata": {
    "hidden": true
   },
   "source": [
    "5.**[R] A space 16 mm wide between two large plane surfaces is filled with oil with a viscosity μ = 0.18 N.s/m<sup>2</sup>. What force F will be required to drag a very thin plate of 0.4 m<sup>2</sup> area between the surfaces at a speed of 0.25 m/s if the plate is positioned 5 mm from the bottom surface? {5.24 N}"
   ]
  },
  {
   "cell_type": "code",
   "execution_count": 53,
   "id": "5d9c7948",
   "metadata": {
    "hidden": true,
    "scrolled": true
   },
   "outputs": [
    {
     "data": {
      "text/latex": [
       "\\[\n",
       "\\begin{aligned}\n",
       "\\mu &= 0.180 \\; \\;\\textrm{(N.s/m2)}\n",
       " &V &= 0.250 \\; \\;\\textrm{(m/s)}\n",
       " &\\mathrm{yplate} &= 0.005 \\; \\;\\textrm{(m)}\n",
       "\\\\[10pt]\n",
       " \\mathrm{yoil} &= 0.016 \\; \\;\\textrm{(m)}\n",
       " &A &= 0.400 \\; \\;\\textrm{(m2)}\n",
       "\\end{aligned}\n",
       "\\]"
      ],
      "text/plain": [
       "<IPython.core.display.Latex object>"
      ]
     },
     "metadata": {},
     "output_type": "display_data"
    }
   ],
   "source": [
    "%%render param\n",
    "mu=0.18 #N.s/m2\n",
    "V=0.25 #m/s\n",
    "yplate=5/1000 #m\n",
    "yoil=16/1000 #m\n",
    "A=0.4 #m2"
   ]
  },
  {
   "cell_type": "markdown",
   "id": "04632b7e",
   "metadata": {
    "hidden": true
   },
   "source": [
    "To calculate the force required to drag the plate, the Newton's equation of viscosity can be used:\n",
    "\n",
    "$$\n",
    "\\tau= \\mu\\frac{dV}{dy}\\\\\n",
    "F=\\tau A\n",
    "$$\n",
    "\n",
    "The total force is the sum between the force of the oil and the force of the plate\n",
    "\n",
    "$$\n",
    "F_{oil}= \\mu\\frac{dV}{(y_{oil}-y_{plate})} A\\\\\n",
    "F_{plate}= \\mu\\frac{dV}{dy} A\n",
    "$$"
   ]
  },
  {
   "cell_type": "code",
   "execution_count": 54,
   "id": "1de907e8",
   "metadata": {
    "hidden": true
   },
   "outputs": [
    {
     "data": {
      "text/latex": [
       "\\[\n",
       "\\begin{aligned}\n",
       "y_{foil} &= \\mathrm{yoil} - \\mathrm{yplate} \\\\&= 0.016 - 0.005 \\\\&= 0.011 \\; \\;\\textrm{(m)}\\\\[10pt]\n",
       "\\\\[10pt]\n",
       "\\tau_{oil} &= \\mu \\cdot \\left( \\frac{ V }{ y_{foil} } \\right) \\\\&= 0.180 \\cdot \\left( \\frac{ 0.250 }{ 0.011 } \\right) \\\\&= 4.091 \\; \\;\\textrm{(N/m2)}\\\\[10pt]\n",
       "\\\\[10pt]\n",
       "\\tau_{plate} &= \\mu \\cdot \\left( \\frac{ V }{ \\mathrm{yplate} } \\right) \\\\&= 0.180 \\cdot \\left( \\frac{ 0.250 }{ 0.005 } \\right) \\\\&= 9.000 \\; \\;\\textrm{(N/m2)}\\\\[10pt]\n",
       "\\\\[10pt]\n",
       "F_{oil} &= \\tau_{oil} \\cdot A \\\\&= 4.091 \\cdot 0.400 \\\\&= 1.636 \\; \\;\\textrm{(N)}\\\\[10pt]\n",
       "\\\\[10pt]\n",
       "F_{plate} &= \\tau_{plate} \\cdot A \\\\&= 9.000 \\cdot 0.400 \\\\&= 3.600 \\; \\;\\textrm{(N)}\\\\[10pt]\n",
       "\\\\[10pt]\n",
       "F &= F_{oil} + F_{plate} \\\\&= 1.636 + 3.600 \\\\&= 5.236 \\; \\;\\textrm{(N)}\\\\[10pt]\n",
       "\\end{aligned}\n",
       "\\]"
      ],
      "text/plain": [
       "<IPython.core.display.Latex object>"
      ]
     },
     "metadata": {},
     "output_type": "display_data"
    }
   ],
   "source": [
    "%%render long\n",
    "y_foil= yoil-yplate #m\n",
    "tau_oil= mu*(V/y_foil) #N/m2\n",
    "tau_plate= mu*(V/yplate) #N/m2\n",
    "F_oil= tau_oil*A #N\n",
    "F_plate= tau_plate*A #N\n",
    "F= F_oil+F_plate #N"
   ]
  },
  {
   "cell_type": "markdown",
   "id": "df149bbb",
   "metadata": {
    "hidden": true
   },
   "source": [
    "6.**A space 10 mm wide between two large plane surfaces is filled with oil with viscosity μ = 0.18 N.s/m<sup>2</sup>. A very thin plate with a 0.5 m<sup>2</sup> area is located halfway between the two surfaces. If a constant force of 10 N is applied the plate, at what speed will it be dragged out from between the surfaces? {0.278 m/s}"
   ]
  },
  {
   "cell_type": "markdown",
   "id": "4037389d",
   "metadata": {
    "hidden": true
   },
   "source": [
    "Given:"
   ]
  },
  {
   "cell_type": "code",
   "execution_count": 55,
   "id": "1a43694a",
   "metadata": {
    "hidden": true,
    "scrolled": true
   },
   "outputs": [
    {
     "data": {
      "text/latex": [
       "\\[\n",
       "\\begin{aligned}\n",
       "A &= 0.500 \\; \\;\\textrm{(m2)}\n",
       " &L &= 5 \\; \\;\\textrm{(mm)}\n",
       " &\\mu &= 0.180 \\; \\;\\textrm{(N.s/m2)}\n",
       "\\\\[10pt]\n",
       " F &= 10 \\; \\;\\textrm{(N)}\n",
       "\\end{aligned}\n",
       "\\]"
      ],
      "text/plain": [
       "<IPython.core.display.Latex object>"
      ]
     },
     "metadata": {},
     "output_type": "display_data"
    }
   ],
   "source": [
    "%%render param\n",
    "A=0.5 #m2\n",
    "L=5 #mm\n",
    "mu =0.18 #N.s/m2\n",
    "F= 10 #N\n"
   ]
  },
  {
   "cell_type": "markdown",
   "id": "f6b22d82",
   "metadata": {
    "hidden": true
   },
   "source": [
    "Force can be calculated as:\n",
    "$$\n",
    "F=A\\mu \\frac {\\Delta V}{\\Delta y}\\\\\n",
    "$$\n",
    "Where the total Area is $1m^2$ because the area of one plate is $A= 0.5 m^2$.\n",
    "\n",
    "Solving for $\\Delta V$:\n",
    "\n",
    "$$\n",
    "\\Delta V =F\\frac {\\Delta y}{\\mu A_{total}}\n",
    "$$"
   ]
  },
  {
   "cell_type": "markdown",
   "id": "46e83908",
   "metadata": {
    "hidden": true
   },
   "source": [
    "Considering that $\\Delta y$ is equal to $L$ in m:"
   ]
  },
  {
   "cell_type": "code",
   "execution_count": 56,
   "id": "3559374d",
   "metadata": {
    "hidden": true,
    "scrolled": true
   },
   "outputs": [
    {
     "data": {
      "text/latex": [
       "\\[\n",
       "\\begin{aligned}\n",
       "L_{m} &= L \\cdot \\left( 10 \\right) ^{ -3 } \\\\&= 5 \\cdot \\left( 10 \\right) ^{ -3 } \\\\&= 0.005 \\; \\;\\textrm{(m)}\\\\[10pt]\n",
       "\\\\[10pt]\n",
       "A_{total} &= 1.000 \\; \n",
       "\\\\[10pt]\n",
       "V &= F \\cdot \\frac{ L_{m} }{ \\mu \\cdot A_{total} } \\\\&= 10 \\cdot \\frac{ 0.005 }{ 0.180 \\cdot 1.000 } \\\\&= 0.278 \\; \\;\\textrm{(m/s)}\\\\[10pt]\n",
       "\\end{aligned}\n",
       "\\]"
      ],
      "text/plain": [
       "<IPython.core.display.Latex object>"
      ]
     },
     "metadata": {},
     "output_type": "display_data"
    }
   ],
   "source": [
    "%%render long\n",
    "L_m= L*10**-3 #m\n",
    "A_total=A*2\n",
    "V= F*L_m/(mu*A_total) #m/s"
   ]
  },
  {
   "cell_type": "markdown",
   "id": "dc4fd7a6",
   "metadata": {
    "hidden": true
   },
   "source": [
    "7.***[R] A square block weighing 1.1 kN and with side lengths of 250 mm slides down a 20 °  incline on a film of oil 6.0 micrometre thick. Assuming a linear velocity profile in the oil, what is the terminal velocity of the block? The viscosity of the oil is 7 mPa.s.  {5.16 m/s}"
   ]
  },
  {
   "cell_type": "markdown",
   "id": "67fd2bc1",
   "metadata": {
    "hidden": true
   },
   "source": [
    "Given:"
   ]
  },
  {
   "cell_type": "code",
   "execution_count": 57,
   "id": "5fe2bdb4",
   "metadata": {
    "hidden": true
   },
   "outputs": [
    {
     "data": {
      "text/latex": [
       "\\[\n",
       "\\begin{aligned}\n",
       "W &= 1100.000 \\; \\;\\textrm{(N)}\n",
       " &\\theta &= 20 \\; \\;\\textrm{(°)}\n",
       " &\\mathrm{dy} &= 0.000 \\; \\;\\textrm{(m)}\n",
       "\\\\[10pt]\n",
       " \\mu &= 0.007 \\; \\;\\textrm{(Pa.s)}\n",
       " &L &= 0.250 \\; \\;\\textrm{(m)}\n",
       "\\end{aligned}\n",
       "\\]"
      ],
      "text/plain": [
       "<IPython.core.display.Latex object>"
      ]
     },
     "metadata": {},
     "output_type": "display_data"
    }
   ],
   "source": [
    "%%render param\n",
    "W=1.1*10**3 #N\n",
    "theta=20 #°\n",
    "dy=6*10**-6 #m\n",
    "mu=7*10**-3 #Pa.s\n",
    "L=250/1000 #m"
   ]
  },
  {
   "cell_type": "code",
   "execution_count": 58,
   "id": "0973fb14",
   "metadata": {
    "hidden": true
   },
   "outputs": [
    {
     "data": {
      "text/latex": [
       "\\[\n",
       "\\begin{aligned}\n",
       "A &= \\left( L \\right) ^{ 2 } \\\\&= \\left( 0.250 \\right) ^{ 2 } \\\\&= 0.062 \\; \\;\\textrm{(m2)}\\\\[10pt]\n",
       "\\end{aligned}\n",
       "\\]"
      ],
      "text/plain": [
       "<IPython.core.display.Latex object>"
      ]
     },
     "metadata": {},
     "output_type": "display_data"
    }
   ],
   "source": [
    "%%render long\n",
    "\n",
    "A= L**2 #m2"
   ]
  },
  {
   "cell_type": "markdown",
   "id": "b1439b7b",
   "metadata": {
    "hidden": true
   },
   "source": [
    "At terminal velocity, the block is moving at a constant speed, meaning the net force acting on it is zero. By considering the forces along each axis, the following equation can be derived:\n",
    "\n",
    "$$\n",
    "\\sum F_x=0\\\\\n",
    "F_\\mu-Wsin\\theta=0\\\\\n",
    "F_\\mu=Wsin\\theta\\\\\n",
    "F_\\mu=\\tau A\\\\\n",
    "F_\\mu=\\mu \\frac{dV}{dy} A\\\\\n",
    "\\mu \\frac{dV}{dy} A=Wsin\\theta\\\\\n",
    "$$"
   ]
  },
  {
   "cell_type": "code",
   "execution_count": 59,
   "id": "584b74f7",
   "metadata": {
    "hidden": true
   },
   "outputs": [
    {
     "data": {
      "text/latex": [
       "\\[\n",
       "\\begin{aligned}\n",
       "\\mathrm{dV} &= \\frac{ W \\cdot \\sin { \\left( \\operatorname{radians} \\theta \\right) } \\cdot \\mathrm{dy} }{ A \\cdot \\mu } \\\\&= \\frac{ 1100.000 \\cdot \\sin { \\left( \\operatorname{radians} 20 \\right) } \\cdot 0.000 }{ 0.062 \\cdot 0.007 } \\\\&= 5.160 \\; \\;\\textrm{(m/s)}\\\\[10pt]\n",
       "\\end{aligned}\n",
       "\\]"
      ],
      "text/plain": [
       "<IPython.core.display.Latex object>"
      ]
     },
     "metadata": {},
     "output_type": "display_data"
    }
   ],
   "source": [
    "%%render long\n",
    "\n",
    "dV= (W*sin(radians(theta))*dy)/(A*mu) #m/s"
   ]
  },
  {
   "cell_type": "markdown",
   "id": "14b9ed9e",
   "metadata": {
    "hidden": true
   },
   "source": [
    "8.*** A hydraulic lift consist of a 280.00 mm diameter ram which slides in a 280.18 mm  cylinder, the annular space being filled with oil having a kinematic viscosity of 0.00042 m<sup>2</sup>/s and a specific gravity of 0.86. If the rate of travel of the ram is 0.22 m/s, find the frictional resistance when 2 m of the ram is engaged in the cylinder. {1553 N}"
   ]
  },
  {
   "cell_type": "markdown",
   "id": "8d73a200",
   "metadata": {
    "hidden": true
   },
   "source": [
    "If we convert the diameters of the hydraulic lift and the cilinder to m, we have the following parameters:"
   ]
  },
  {
   "cell_type": "code",
   "execution_count": 60,
   "id": "c3054836",
   "metadata": {
    "hidden": true,
    "scrolled": true
   },
   "outputs": [
    {
     "data": {
      "text/latex": [
       "\\[\n",
       "\\begin{aligned}\n",
       "d_{lift} &= 0.2800 \\; \\;\\textrm{(m)}\n",
       " &d_{cyl} &= 0.2802 \\; \\;\\textrm{(m)}\n",
       " &\\nu &= 0.0004 \\; \\;\\textrm{(m2/s)}\n",
       "\\\\[10pt]\n",
       " S &= 0.8600 \\; \n",
       " &\\Delta_{vel} &= 0.2200 \\; \\;\\textrm{(m/s)}\n",
       " &h &= 2 \\; \\;\\textrm{(m)}\n",
       "\\\\[10pt]\n",
       "\\end{aligned}\n",
       "\\]"
      ],
      "text/plain": [
       "<IPython.core.display.Latex object>"
      ]
     },
     "metadata": {},
     "output_type": "display_data"
    }
   ],
   "source": [
    "%%render param 4\n",
    "d_lift= 280/1000 #m\n",
    "d_cyl=280.18/1000 #m\n",
    "nu= 0.00042 #m2/s\n",
    "S=0.86 \n",
    "Delta_vel=0.22 #m/s\n",
    "h=2 #m"
   ]
  },
  {
   "cell_type": "markdown",
   "id": "e8d0a4b6",
   "metadata": {
    "hidden": true
   },
   "source": [
    "The frition resistance can be calculated as $F=\\tau A$  \n",
    "\n",
    "Where $A=h \\cdot \\pi \\cdot d_{lift}$ and $\\tau = \\mu \\frac {\\Delta V}{\\Delta y}$  \n",
    "\n",
    "The dynamic viscosity can be calculated as $\\mu = \\nu \\cdot \\rho$, where $\\rho = s \\cdot \\rho_{water}$"
   ]
  },
  {
   "cell_type": "code",
   "execution_count": 61,
   "id": "443c37f9",
   "metadata": {
    "hidden": true,
    "scrolled": true
   },
   "outputs": [
    {
     "data": {
      "text/latex": [
       "\\[\n",
       "\\begin{aligned}\n",
       "\\rho &= S \\cdot \\rho_{water} \\\\&= 0.860 \\cdot 1000 \\\\&= 860.000 \\; \\;\\textrm{(kg/m3)}\\\\[10pt]\n",
       "\\\\[10pt]\n",
       "\\mu &= \\nu \\cdot \\rho \\\\&= 0.000 \\cdot 860.000 \\\\&= 0.361 \\; \\;\\textrm{(Pa.s)}\\\\[10pt]\n",
       "\\\\[10pt]\n",
       "\\Delta_{y} &= \\frac{ d_{cyl} - d_{lift} }{ 2 } \\\\&= \\frac{ 0.280 - 0.280 }{ 2 } \\\\&= 0.000 \\; \\;\\textrm{(m)}\\\\[10pt]\n",
       "\\\\[10pt]\n",
       "\\tau &= \\mu \\cdot \\frac{ \\Delta_{vel} }{ \\Delta_{y} } \\\\&= 0.361 \\cdot \\frac{ 0.220 }{ 0.000 } \\\\&= 882.933 \\; \\;\\textrm{(Pa)}\\\\[10pt]\n",
       "\\\\[10pt]\n",
       "A &= h \\cdot \\pi \\cdot d_{lift} \\\\&= 2 \\cdot 3.142 \\cdot 0.280 \\\\&= 1.759 \\; \\;\\textrm{(m2)}\\\\[10pt]\n",
       "\\\\[10pt]\n",
       "F &= \\tau \\cdot A \\\\&= 882.933 \\cdot 1.759 \\\\&= 1553.337 \\; \\;\\textrm{(N)}\\\\[10pt]\n",
       "\\end{aligned}\n",
       "\\]"
      ],
      "text/plain": [
       "<IPython.core.display.Latex object>"
      ]
     },
     "metadata": {},
     "output_type": "display_data"
    }
   ],
   "source": [
    "%%render long \n",
    "rho= S*rho_water #kg/m3\n",
    "mu= nu*rho #Pa.s\n",
    "Delta_y= (d_cyl-d_lift)/2 #m\n",
    "\n",
    "tau= mu*Delta_vel/(Delta_y) #Pa\n",
    "A= h*pi*d_lift #m2\n",
    "F= tau*A #N"
   ]
  },
  {
   "cell_type": "markdown",
   "id": "b26fc31a",
   "metadata": {
    "hidden": true
   },
   "source": [
    "9.*** A piston with diameter of 127 mm, height 152 mm and weight 93.4 N slides free in a lubricated vertical pipe. The clearance between the piston and the pipe is 0.0254 mm. If the piston decelerates at 0.64 m/s<sup>2</sup> when its speed is 6.4 m/s, what is the viscosity of the oil? { 0.0065 N.s/m<sup>2</sup> }"
   ]
  },
  {
   "cell_type": "markdown",
   "id": "701ca6c7",
   "metadata": {
    "hidden": true
   },
   "source": [
    "Given:"
   ]
  },
  {
   "cell_type": "code",
   "execution_count": 62,
   "id": "ef4f92cb",
   "metadata": {
    "hidden": true
   },
   "outputs": [
    {
     "data": {
      "text/latex": [
       "\\[\n",
       "\\begin{aligned}\n",
       "d &= 0.127 \\; \\;\\textrm{(m)}\n",
       " &h &= 0.152 \\; \\;\\textrm{(m)}\n",
       " &W &= 93.400 \\; \\;\\textrm{(N)}\n",
       "\\\\[10pt]\n",
       " \\mathrm{dy} &= 0.000 \\; \\;\\textrm{(m)}\n",
       " &\\mathrm{dV} &= 0.640 \\; \\;\\textrm{(m/s2)}\n",
       " &a &= 0.640 \\; \\;\\textrm{(m/s2)}\n",
       "\\\\[10pt]\n",
       "\\end{aligned}\n",
       "\\]"
      ],
      "text/plain": [
       "<IPython.core.display.Latex object>"
      ]
     },
     "metadata": {},
     "output_type": "display_data"
    }
   ],
   "source": [
    "%%render param\n",
    "d=127/1000 #m\n",
    "h=152/1000 #m\n",
    "W=93.4 #N\n",
    "dy=0.0254/1000 #m\n",
    "dV=0.64 #m/s2\n",
    "a=0.64 #m/s2"
   ]
  },
  {
   "cell_type": "code",
   "execution_count": 63,
   "id": "f5056728",
   "metadata": {
    "hidden": true,
    "scrolled": true
   },
   "outputs": [
    {
     "data": {
      "text/latex": [
       "\\[\n",
       "\\begin{aligned}\n",
       "A &= 2 \\cdot \\pi \\cdot \\left( \\frac{ d }{ 2 } \\right) \\cdot h \\\\&= 2 \\cdot 3.142 \\cdot \\left( \\frac{ 0.127 }{ 2 } \\right) \\cdot 0.152 \\\\&= 0.061 \\; \\;\\textrm{(m2)}\\\\[10pt]\n",
       "\\\\[10pt]\n",
       "m &= \\frac{ W }{ g } \\\\&= \\frac{ 93.400 }{ 9.810 } \\\\&= 9.521 \\; \\;\\textrm{(kg)}\\\\[10pt]\n",
       "\\end{aligned}\n",
       "\\]"
      ],
      "text/plain": [
       "<IPython.core.display.Latex object>"
      ]
     },
     "metadata": {},
     "output_type": "display_data"
    }
   ],
   "source": [
    "%%render long\n",
    "\n",
    "A= 2*pi*(d/2)*h #m2\n",
    "m= W/g #kg"
   ]
  },
  {
   "cell_type": "markdown",
   "id": "8a507bdb",
   "metadata": {
    "hidden": true
   },
   "source": [
    "In this case, since there is a deceleration, the sum of forces along the axis must be set equal to mass times acceleration. Including all the forces in the equation, we have the following\n",
    "$$\n",
    "\\sum F=ma\\\\\n",
    "F_\\tau - W=ma\\\\\n",
    "$$\n",
    "and $F_\\tau$ is:\n",
    "$$\n",
    "F_\\tau=\\mu \\frac{dV}{dy} A\\\\\n",
    "\\mu \\frac{dV}{dy} A - W =ma\n",
    "$$"
   ]
  },
  {
   "cell_type": "code",
   "execution_count": 64,
   "id": "2fc487e8",
   "metadata": {
    "hidden": true
   },
   "outputs": [
    {
     "data": {
      "text/latex": [
       "\\[\n",
       "\\begin{aligned}\n",
       "\\mu &= \\left( \\frac{ m \\cdot a + W }{ A \\cdot \\mathrm{dV} } \\right) \\cdot \\mathrm{dy} \\\\&= \\left( \\frac{ 9.521 \\cdot 0.640 + 93.400 }{ 0.061 \\cdot 0.640 } \\right) \\cdot 0.000 \\\\&= 0.065 \\; \\;\\textrm{(N.s/m2)}\\\\[10pt]\n",
       "\\end{aligned}\n",
       "\\]"
      ],
      "text/plain": [
       "<IPython.core.display.Latex object>"
      ]
     },
     "metadata": {},
     "output_type": "display_data"
    }
   ],
   "source": [
    "%%render long\n",
    "\n",
    "mu= ((m*a+W)/(A*dV))*dy #N.s/m2"
   ]
  },
  {
   "cell_type": "markdown",
   "id": "6a94741b",
   "metadata": {
    "hidden": true
   },
   "source": [
    "10.*** A journal bearing consists of an 80.0 mm diameter shaft in an 80.4 mm sleeve 120 mm long. The clearance space is filled with oil with a viscosity of 0.11 N.s/m<sup>2</sup>. Calculate the torque required to keep the shaft turning at 150 rpm. {0.417 N.m}"
   ]
  },
  {
   "cell_type": "markdown",
   "id": "9d68bc7c",
   "metadata": {
    "hidden": true
   },
   "source": [
    "The given parameters are the following: (Note that the diameters and length were converted to meters)."
   ]
  },
  {
   "cell_type": "code",
   "execution_count": 65,
   "id": "4ee8faaf",
   "metadata": {
    "hidden": true,
    "scrolled": true
   },
   "outputs": [
    {
     "data": {
      "text/latex": [
       "\\[\n",
       "\\begin{aligned}\n",
       "d_{journal} &= 0.080 \\; \\;\\textrm{(m)}\n",
       " &d_{sleeve} &= 0.080 \\; \\;\\textrm{(m)}\n",
       " &\\mathrm{long}_{sleeve} &= 0.120 \\; \\;\\textrm{(m)}\n",
       "\\\\[10pt]\n",
       " \\mu_{filled} &= 0.110 \\; \\;\\textrm{(Ns/m2)}\n",
       " &N_{rpm} &= 150 \\; \\;\\textrm{(rpm)}\n",
       "\\end{aligned}\n",
       "\\]"
      ],
      "text/plain": [
       "<IPython.core.display.Latex object>"
      ]
     },
     "metadata": {},
     "output_type": "display_data"
    }
   ],
   "source": [
    "%%render param\n",
    "\n",
    "d_journal= 80/1000 #m\n",
    "d_sleeve= 80.4/1000 #m\n",
    "long_sleeve= 120/1000 #m\n",
    "mu_filled=0.11 #Ns/m2\n",
    "N_rpm=150 #rpm\n"
   ]
  },
  {
   "cell_type": "markdown",
   "id": "83d7084e",
   "metadata": {
    "hidden": true
   },
   "source": [
    "The torque can be calculated as $Torque = F \\cdot r_{journal}$  \n",
    "\n",
    "Where $\\tau= \\mu\\frac {\\Delta V}{\\Delta y}$ and $V=\\frac{r_{journal}\\cdot2\\cdot\\pi\\cdot N_{rpm}}{60}$"
   ]
  },
  {
   "cell_type": "code",
   "execution_count": 66,
   "id": "82ab0af1",
   "metadata": {
    "hidden": true,
    "scrolled": true
   },
   "outputs": [
    {
     "data": {
      "text/latex": [
       "\\[\n",
       "\\begin{aligned}\n",
       "r_{journal} &= \\frac{ d_{journal} }{ 2 } \\\\&= \\frac{ 0.080 }{ 2 } \\\\&= 0.040 \\; \\;\\textrm{(m)}\\\\[10pt]\n",
       "\\\\[10pt]\n",
       "V &= \\frac{ r_{journal} \\cdot 2 \\cdot \\pi \\cdot N_{rpm} }{ 60 } \\\\&= \\frac{ 0.040 \\cdot 2 \\cdot 3.142 \\cdot 150 }{ 60 } \\\\&= 0.628 \\; \\;\\textrm{(m/s)}\\\\[10pt]\n",
       "\\\\[10pt]\n",
       "\\Delta_{y} &= \\frac{ d_{sleeve} - d_{journal} }{ 2 } \\\\&= \\frac{ 0.080 - 0.080 }{ 2 } \\\\&= 0.000 \\; \\;\\textrm{(m)}\\\\[10pt]\n",
       "\\\\[10pt]\n",
       "\\tau &= \\mu_{filled} \\cdot \\frac{ V }{ \\Delta_{y} } \\\\&= 0.110 \\cdot \\frac{ 0.628 }{ 0.000 } \\\\&= 345.575 \\; \\;\\textrm{(Pa)}\\\\[10pt]\n",
       "\\\\[10pt]\n",
       "F &= \\tau \\cdot \\pi \\cdot d_{journal} \\cdot \\mathrm{long}_{sleeve} \\\\&= 345.575 \\cdot 3.142 \\cdot 0.080 \\cdot 0.120 \\\\&= 10.422 \\; \\;\\textrm{(N)}\\\\[10pt]\n",
       "\\\\[10pt]\n",
       "\\mathrm{Torque} &= F \\cdot r_{journal} \\\\&= 10.422 \\cdot 0.040 \\\\&= 0.417 \\; \\;\\textrm{(N.m)}\\\\[10pt]\n",
       "\\end{aligned}\n",
       "\\]"
      ],
      "text/plain": [
       "<IPython.core.display.Latex object>"
      ]
     },
     "metadata": {},
     "output_type": "display_data"
    }
   ],
   "source": [
    "%%render long\n",
    "r_journal= (d_journal)/2 #m\n",
    "\n",
    "V= (r_journal*2*pi*N_rpm)/60 #m/s\n",
    "\n",
    "Delta_y= ((d_sleeve-d_journal))/2 #m\n",
    "\n",
    "tau= mu_filled*V/Delta_y #Pa\n",
    "\n",
    "F= tau*pi*(d_journal)*(long_sleeve) #N\n",
    "\n",
    "Torque= F*r_journal #N.m\n"
   ]
  },
  {
   "cell_type": "markdown",
   "id": "7880346f",
   "metadata": {
    "heading_collapsed": true,
    "hidden": true
   },
   "source": [
    "### Surface Tension"
   ]
  },
  {
   "cell_type": "markdown",
   "id": "332ce78a",
   "metadata": {
    "hidden": true
   },
   "source": [
    "11.* Calculate the capillary rise of pure water at 10 °C expected in an 0.8 mm diameter tube.  Assume that the contact angle of pure water is 0°. {37.8 mm}"
   ]
  },
  {
   "cell_type": "markdown",
   "id": "fa145e2f",
   "metadata": {
    "hidden": true
   },
   "source": [
    "Given:"
   ]
  },
  {
   "cell_type": "code",
   "execution_count": 67,
   "id": "58173c59",
   "metadata": {
    "hidden": true
   },
   "outputs": [
    {
     "data": {
      "text/latex": [
       "\\[\n",
       "\\begin{aligned}\n",
       "d &= 0.001 \\; \\;\\textrm{(m)}\n",
       " &T &= 10 \\; \\;\\textrm{(°C)}\n",
       "\\end{aligned}\n",
       "\\]"
      ],
      "text/plain": [
       "<IPython.core.display.Latex object>"
      ]
     },
     "metadata": {},
     "output_type": "display_data"
    }
   ],
   "source": [
    "%%render param\n",
    "d=0.8/1000 #m\n",
    "T=10 #°C"
   ]
  },
  {
   "cell_type": "markdown",
   "id": "d4f5b53e",
   "metadata": {
    "hidden": true
   },
   "source": [
    "According to the exercise, and given that the height of the capillary rise can be calculated using the following equation:\n",
    "\n",
    "$$\n",
    "\\theta=0\\\\\n",
    "cos(\\theta)=1\\\\\n",
    "h= \\frac {2 \\sigma}{\\gamma *r}\n",
    "$$\n",
    "\n",
    "The values for $\\sigma$ and $\\gamma$ can be read from the table A.1 at 10 °C"
   ]
  },
  {
   "cell_type": "code",
   "execution_count": 68,
   "id": "2702991c",
   "metadata": {
    "hidden": true
   },
   "outputs": [
    {
     "data": {
      "text/latex": [
       "\\[\n",
       "\\begin{aligned}\n",
       "\\sigma &= 0.074 \\; \\;\\textrm{(N/m)}\n",
       " &\\gamma &= 9804 \\; \\;\\textrm{(kN/m3)}\n",
       "\\end{aligned}\n",
       "\\]"
      ],
      "text/plain": [
       "<IPython.core.display.Latex object>"
      ]
     },
     "metadata": {},
     "output_type": "display_data"
    }
   ],
   "source": [
    "%%render param\n",
    "sigma=0.0742 #N/m\n",
    "gamma= 9804 #kN/m3"
   ]
  },
  {
   "cell_type": "code",
   "execution_count": 69,
   "id": "5f6dcc6d",
   "metadata": {
    "hidden": true,
    "scrolled": true
   },
   "outputs": [
    {
     "data": {
      "text/latex": [
       "\\[\n",
       "\\begin{aligned}\n",
       "h_{m} &= \\frac{ 2 \\cdot \\sigma }{ \\gamma \\cdot \\left( \\frac{ d }{ 2 } \\right) } \\\\&= \\frac{ 2 \\cdot 0.074 }{ 9804 \\cdot \\left( \\frac{ 0.001 }{ 2 } \\right) } \\\\&= 0.038 \\; \\;\\textrm{(m)}\\\\[10pt]\n",
       "\\\\[10pt]\n",
       "h_{mm} &= h_{m} \\cdot 1000 \\\\&= 0.038 \\cdot 1000 \\\\&= 37.842 \\; \\;\\textrm{(mm)}\\\\[10pt]\n",
       "\\end{aligned}\n",
       "\\]"
      ],
      "text/plain": [
       "<IPython.core.display.Latex object>"
      ]
     },
     "metadata": {},
     "output_type": "display_data"
    }
   ],
   "source": [
    "%%render long\n",
    "\n",
    "h_m= (2*sigma)/(gamma*(d/2)) #m\n",
    "h_mm= h_m*1000 #mm"
   ]
  },
  {
   "cell_type": "markdown",
   "id": "28df07ce",
   "metadata": {
    "hidden": true
   },
   "source": [
    "12.*[R] A glass tube with diameter 1.5 mm is dipped vertically in water. Calculate from basic principles how high the water will rise in the tube due to capillary action. Take the coefficient of surface tension to be 0.0730 N/m and the angle of contact as 10°.  {19.5 mm}"
   ]
  },
  {
   "cell_type": "markdown",
   "id": "76c61e72",
   "metadata": {
    "hidden": true
   },
   "source": [
    "If we convert the diameter to meters, we have the following given parameters:"
   ]
  },
  {
   "cell_type": "code",
   "execution_count": 70,
   "id": "049d4aea",
   "metadata": {
    "hidden": true,
    "scrolled": true
   },
   "outputs": [
    {
     "data": {
      "text/latex": [
       "\\[\n",
       "\\begin{aligned}\n",
       "d_{tube} &= 0.002 \\; \\;\\textrm{(m)}\n",
       " &\\sigma &= 0.073 \\; \\;\\textrm{(N/m)}\n",
       " &\\theta &= 10 \\; \\;\\textrm{(°)}\n",
       "\\\\[10pt]\n",
       "\\end{aligned}\n",
       "\\]"
      ],
      "text/plain": [
       "<IPython.core.display.Latex object>"
      ]
     },
     "metadata": {},
     "output_type": "display_data"
    }
   ],
   "source": [
    "%%render param\n",
    "d_tube=1.5/1000 #m\n",
    "sigma=0.0730 #N/m\n",
    "theta=10 #°"
   ]
  },
  {
   "cell_type": "markdown",
   "id": "3d2b1a3a",
   "metadata": {
    "hidden": true
   },
   "source": [
    "equating the lifting force created by surface tension to the gravity force, we obtain the following:  \n",
    "\n",
    "$$ \n",
    "\\sum F =0 \\\\ \n",
    "F_{\\sigma}-W=0\\\\\n",
    "F_{\\sigma}=\\sigma cos(\\theta) \\pi d\\\\\n",
    "W = \\frac {\\pi d^2 h\\rho g}{4}\\\\\n",
    "$$\n",
    "\n",
    "Replacing the $F_{\\sigma}$ and $W$\n",
    "\n",
    "$$\n",
    "\\sigma cos(\\theta) \\pi d-\\frac {\\pi d^2 h\\rho g}{4}=0\n",
    "$$\n",
    "\n",
    "Calculating $F_{sigma}$ and solving for $h$:"
   ]
  },
  {
   "cell_type": "code",
   "execution_count": 75,
   "id": "fe8f226e",
   "metadata": {
    "hidden": true
   },
   "outputs": [
    {
     "data": {
      "text/latex": [
       "\\[\n",
       "\\begin{aligned}\n",
       "\\theta_{rad} &= \\operatorname{radians} { \\left( \\theta \\right) } \\\\&= \\operatorname{radians} { \\left( 20 \\right) } \\\\&= 0.3491 \\; \\;\\textrm{(rad)}\\\\[10pt]\n",
       "\\\\[10pt]\n",
       "F_{\\sigma} &= \\sigma \\cdot \\pi \\cdot d_{tube} \\cdot \\cos \\left( \\theta_{rad} \\right) \\\\&= 0.0730 \\cdot 3.1416 \\cdot 0.0015 \\cdot \\cos \\left( 0.3491 \\right) \\\\&= 0.0003 \\; \\;\\textrm{(N)}\\\\[10pt]\n",
       "\\\\[10pt]\n",
       "h &= F_{\\sigma} \\cdot \\frac{ 4 }{ \\left( d_{tube} \\right) ^{ 2 } \\cdot \\rho_{water} \\cdot g \\cdot \\pi } \\\\&= 0.0003 \\cdot \\frac{ 4 }{ \\left( 0.0015 \\right) ^{ 2 } \\cdot 1000 \\cdot 9.8100 \\cdot 3.1416 } \\\\&= 0.0186 \\; \\;\\textrm{(m)}\\\\[10pt]\n",
       "\\end{aligned}\n",
       "\\]"
      ],
      "text/plain": [
       "<IPython.core.display.Latex object>"
      ]
     },
     "metadata": {},
     "output_type": "display_data"
    }
   ],
   "source": [
    "%%render long 4\n",
    "theta_rad = radians(theta) #rad\n",
    "\n",
    "F_sigma= sigma*pi*d_tube*cos(theta_rad) #N\n",
    "h= F_sigma*4/(d_tube**2*rho_water*g*pi) #m"
   ]
  },
  {
   "cell_type": "markdown",
   "id": "349cc775",
   "metadata": {
    "hidden": true
   },
   "source": [
    "$h$ in mm would be:"
   ]
  },
  {
   "cell_type": "code",
   "execution_count": 76,
   "id": "aac6e468",
   "metadata": {
    "hidden": true,
    "scrolled": true
   },
   "outputs": [
    {
     "data": {
      "text/latex": [
       "\\[\n",
       "\\begin{aligned}\n",
       "h_{} &= 18.6470 \\; \\;\\textrm{(mm)}\n",
       "\\end{aligned}\n",
       "\\]"
      ],
      "text/plain": [
       "<IPython.core.display.Latex object>"
      ]
     },
     "metadata": {},
     "output_type": "display_data"
    }
   ],
   "source": [
    "%%render long 4\n",
    "h_=h*1000 #mm"
   ]
  },
  {
   "cell_type": "markdown",
   "id": "9ba31235",
   "metadata": {
    "hidden": true
   },
   "source": [
    "13.*A glass tube with diameter 1 mm is dipped vertically in water. Calculate from basic principles how high the water will rise in the tube due to capillary action. Take the coefficient of surface tension to be 0.0730 N/m and the angle of contact as 20°.  {28 mm}"
   ]
  },
  {
   "cell_type": "markdown",
   "id": "bf44f77c",
   "metadata": {
    "hidden": true
   },
   "source": [
    "Given:"
   ]
  },
  {
   "cell_type": "code",
   "execution_count": 73,
   "id": "6359cf7e",
   "metadata": {
    "hidden": true
   },
   "outputs": [
    {
     "data": {
      "text/latex": [
       "\\[\n",
       "\\begin{aligned}\n",
       "d &= 0.001 \\; \\;\\textrm{(m)}\n",
       " &\\sigma &= 0.073 \\; \\;\\textrm{(N/m)}\n",
       " &\\theta &= 20 \\; \\;\\textrm{(°)}\n",
       "\\\\[10pt]\n",
       "\\end{aligned}\n",
       "\\]"
      ],
      "text/plain": [
       "<IPython.core.display.Latex object>"
      ]
     },
     "metadata": {},
     "output_type": "display_data"
    }
   ],
   "source": [
    "%%render param\n",
    "d=1/1000 #m\n",
    "sigma=0.073 #N/m\n",
    "theta=20 #°"
   ]
  },
  {
   "cell_type": "markdown",
   "id": "7d50be9a",
   "metadata": {
    "hidden": true
   },
   "source": [
    "To calculate the height of the water, it is necessary to perform a force balance along that axis, and include all the forces.\n",
    "\n",
    "$$\n",
    "\\sum F_y=0\\\\\n",
    "F_\\sigma - W= 0\\\\\n",
    "\\sigma cos(\\theta) \\pi d - \\frac{\\pi d^2}{4} h \\rho g =0\n",
    "$$"
   ]
  },
  {
   "cell_type": "code",
   "execution_count": 74,
   "id": "959ddf4a",
   "metadata": {
    "hidden": true
   },
   "outputs": [
    {
     "data": {
      "text/latex": [
       "\\[\n",
       "\\begin{aligned}\n",
       "h &= \\frac{ 4 \\cdot \\sigma \\cdot \\cos { \\left( \\operatorname{radians} \\theta \\right) } }{ d \\cdot \\rho_{water} \\cdot g } \\\\&= \\frac{ 4 \\cdot 0.073 \\cdot \\cos { \\left( \\operatorname{radians} 20 \\right) } }{ 0.001 \\cdot 1000 \\cdot 9.810 } \\\\&= 0.028 \\; \\;\\textrm{(m)}\\\\[10pt]\n",
       "\\\\[10pt]\n",
       "h_{mm} &= h \\cdot 1000 \\\\&= 0.028 \\cdot 1000 \\\\&= 27.970 \\; \\;\\textrm{(mm)}\\\\[10pt]\n",
       "\\end{aligned}\n",
       "\\]"
      ],
      "text/plain": [
       "<IPython.core.display.Latex object>"
      ]
     },
     "metadata": {},
     "output_type": "display_data"
    }
   ],
   "source": [
    "%%render long\n",
    "\n",
    "h= (4*sigma*cos(radians(theta)))/(d*rho_water*g) #m\n",
    "h_mm= h*1000 #mm"
   ]
  }
 ],
 "metadata": {
  "kernelspec": {
   "display_name": "Python 3 (ipykernel)",
   "language": "python",
   "name": "python3"
  },
  "language_info": {
   "codemirror_mode": {
    "name": "ipython",
    "version": 3
   },
   "file_extension": ".py",
   "mimetype": "text/x-python",
   "name": "python",
   "nbconvert_exporter": "python",
   "pygments_lexer": "ipython3",
   "version": "3.9.7"
  }
 },
 "nbformat": 4,
 "nbformat_minor": 5
}
